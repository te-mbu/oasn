{
 "cells": [
  {
   "cell_type": "markdown",
   "metadata": {},
   "source": [
    "Plan:\n",
    "- "
   ]
  },
  {
   "cell_type": "markdown",
   "metadata": {},
   "source": []
  },
  {
   "cell_type": "markdown",
   "metadata": {},
   "source": [
    "# Plan:\n",
    "* lala\n",
    "* lala"
   ]
  },
  {
   "cell_type": "code",
   "execution_count": 14,
   "metadata": {},
   "outputs": [],
   "source": [
    "import pandas\n",
    "import ast\n",
    "import numpy as np\n",
    "from collections import Counter\n",
    "from matplotlib import pyplot as plt"
   ]
  },
  {
   "cell_type": "code",
   "execution_count": 15,
   "metadata": {},
   "outputs": [],
   "source": [
    "applications = pandas.read_csv(\n",
    "    \"EP_Data_Extended.csv\", quotechar='\"', skipinitialspace=True, low_memory=False\n",
    ")\n",
    "data_trackers = pandas.read_csv(\n",
    "    \"data_trackers.csv\", quotechar='\"', skipinitialspace=True, low_memory=False\n",
    ")"
   ]
  },
  {
   "cell_type": "code",
   "execution_count": 16,
   "metadata": {},
   "outputs": [
    {
     "name": "stdout",
     "output_type": "stream",
     "text": [
      "All handles\n",
      "0                                           com.semitan.tan\n",
      "1                                   com.allocine.androidapp\n",
      "2                                  com.frostnerd.dnschanger\n",
      "3         com.fullsix.android.labanquepostale.accountaccess\n",
      "4                                             fr.axa.monaxa\n",
      "                                ...                        \n",
      "195302                      com.iudesk.android.photo.editor\n",
      "195303                                        org.wikipedia\n",
      "195304                              com.mobidia.android.mdm\n",
      "195305                                     com.metago.astro\n",
      "195306                               net.slickdeals.android\n",
      "Name: handle, Length: 195307, dtype: object\n",
      "\n",
      "All trackers\n",
      "0                                                48,105,312\n",
      "1                                                      63,7\n",
      "2                                                       NaN\n",
      "3                                                       NaN\n",
      "4                                 4,6,31,27,38,66,67,70,312\n",
      "                                ...                        \n",
      "195302                                            27,312,49\n",
      "195303                                                   49\n",
      "195304                              28,12,27,66,67,69,70,49\n",
      "195305                                          28,12,27,49\n",
      "195306    12,25,27,48,67,69,70,92,125,340,347,349,130,31...\n",
      "Name: trackers, Length: 195307, dtype: object\n"
     ]
    }
   ],
   "source": [
    "handles = applications.loc[:, \"handle\"] # get \"handles\" column\n",
    "trackers = applications.loc[:, \"trackers\"] # get \"trackers\" column\n",
    "\n",
    "print(\"All handles\")\n",
    "print(handles)\n",
    "print(\"\\nAll trackers\")\n",
    "print(trackers)"
   ]
  },
  {
   "cell_type": "code",
   "execution_count": 17,
   "metadata": {},
   "outputs": [],
   "source": [
    "# convert \"handles\" from type <class 'pandas.core.series.Series'> to <class 'list'>\n",
    "handles = handles.values.tolist()\n",
    "\n",
    "# convert \"trackers\" from type <class 'pandas.core.series.Series'> to <class 'list'>\n",
    "trackers = trackers.values.tolist()"
   ]
  },
  {
   "cell_type": "code",
   "execution_count": 18,
   "metadata": {},
   "outputs": [],
   "source": [
    "dict_trackers = {}\n",
    "dict_permissions = {}\n",
    "\n",
    "# get dictionaries with the nb of each tracker and permission\n",
    "# the aim here is to separate trackers from permissions in 2 different list\n",
    "for el in trackers:\n",
    "    if type(el) == str:\n",
    "        el = el.split(\",\") # split the string into a list using comma as a separator\n",
    "        for nb in el:\n",
    "            if nb and nb.isdigit() and nb in dict_trackers:\n",
    "                dict_trackers[nb] += 1 # incremente the nb of tracker\n",
    "            elif nb and nb.isdigit():\n",
    "                dict_trackers[nb] = 1 # initialize the nb of tracker\n",
    "            elif \"permission\" in nb and nb in dict_permissions:\n",
    "                dict_permissions[nb] += 1 # incremente the nb of permission\n",
    "            else:\n",
    "                dict_permissions[nb] = 1 # initialize the nb of permission\n"
   ]
  },
  {
   "cell_type": "code",
   "execution_count": 19,
   "metadata": {},
   "outputs": [
    {
     "name": "stdout",
     "output_type": "stream",
     "text": [
      "{'Google': 365191, 'Mobile Engagement': 72, 'Smart': 1521, 'Ad4Screen': 1171, 'Weborama': 29, 'ATInternet': 1539, 'Tune': 1253, 'Facebook': 193197, 'AppNexus': 1058, 'Localytics': 1616, 'Nexage': 958, 'AppsFlyer': 16051, 'Audience Studio (Krux)': 786, 'Flurry': 17663, 'Twitter MoPub': 13844, 'ComScore': 2696, 'MAdvertise': 748, 'Unity3d Ads': 14929, 'Inmobi': 15840, 'Eulerian': 55, 'Branch': 6677, 'INFOnline': 1326, 'AppLovin (MAX and SparkLabs)': 11686, 'AdColony': 9266, 'Millennial Media': 5328, 'OutBrain': 580, 'JW Player': 348, 'Batch': 1228, 'Teemo': 153, 'FidZup': 35, 'Sync2Ad': 27, 'Loggly': 60, 'Singlespot': 121, 'Ligatus': 25, 'TeleQuid': 14, 'Urbanairship': 1705, 'Bugsnag': 3045, 'Brightcove': 716, 'Ogury Presage': 3582, 'HockeyApp': 4987, 'Braze (formerly Appboy)': 3817, 'AltBeacon': 3300, 'Inrix': 11, 'Areametrics': 118, 'WeChat Location': 127, 'Adjust': 11362, 'Apptimize': 732, 'MixPanel': 4977, 'VKontakte SDK': 1507, 'Vectaury': 65, 'Retency': 76, 'Amazon Advertisement': 7101, 'Backelite': 75, 'Demdex': 2412, 'Moat': 15131, 'AppMonet': 426, 'Fiksu': 44, 'Ooyala': 130, 'Pushwoosh': 805, 'Radius Networks': 173, 'Instabug': 1082, 'Add Apt Tr': 456, 'Smaato': 3487, 'OpenX': 77, 'PubMatic': 104, 'Revmob': 139, 'MDOTM': 38, 'LoopMe': 277, 'Dynatrace': 341, 'TagCommander (Commanders Act.)': 275, 'Kochava': 1630, 'Pilgrim by Foursquare': 111, 'Tealium': 681, 'Webtrends': 91, 'Appdynamics': 437, 'ChartBoost': 6435, 'Mobvista': 1197, 'Tapjoy': 5722, 'Appnext': 2321, 'MobFox': 1114, 'myTarget': 4100, 'PubNative': 998, 'Startapp': 3294, 'YouAppi': 83, 'TNK Factory': 142, 'In Loco': 484, 'Adbrix': 152, 'adPOPcorn': 159, 'Inneractive': 908, 'NativeX': 307, 'Integral Ad Science': 7615, 'Yandex Ad': 2402, 'Vungle': 9012, 'Glispa Connect (Formerly Avocarrot)': 536, 'Teads': 569, 'Apsalar': 118, 'Mapbox': 2511, 'Conversant': 46, 'mParticle': 474, 'Adot': 52, 'Tinder Analytics': 39, 'LeanPlum': 1359, 'AccountKit': 932, 'myTracker': 414, 'Optimizely': 799, 'Schibsted': 210, 'Widespace': 59, 'Chartbeat': 290, 'Gigya': 541, 'Analytics by NPAW (Youbora Suite)': 308, 'FollowAnalytics': 125, 'FreeWheel': 297, 'AdsWizz': 126, 'OneSignal': 6696, 'New Relic': 1703, 'Roximity': 49, 'Rubicon Project': 218, 'AerServ': 1119, 'Lotame': 159, 'Verve': 119, 'Appcelerator Analytics': 376, 'AppSee': 578, 'Taboola': 627, 'Apteligent by VMWare (formerly Crittercism)': 617, 'Soomla': 458, 'Upsight': 88, 'ACRCloud': 219, 'ironSource': 8136, 'ExactTarget': 22, 'Uber Analytics': 123, 'Keen': 92, 'HelpShift': 1874, 'Metrics': 376, 'Segment': 1843, 'Nielsen': 685, 'Placed': 30, 'Glympse': 77, 'Tapstream': 120, 'Omniture': 254, 'Amazon Analytics (Amazon insights)': 1306, 'Button': 248, 'Gimbal': 215, 'Splunk MINT': 517, 'Mozilla Telemetry': 571, 'Tencent Stats': 1075, 'Tencent Weiyun': 92, 'MobPower': 160, 'Kontakt': 159, 'Colocator': 63, 'JiGuang Aurora Mobile JPush': 373, 'Jumio': 319, 'Bazaarvoice': 76, 'Apptentive': 607, 'Foresee': 86, 'Webtrekk': 242, 'Quantcast': 252, 'Carto (formerly Nutiteq)': 100, 'Cedexis Radar': 99, 'Amplitude': 4368, 'Duapps': 746, 'IAB Open Measurement': 7594, 'OpenTelemetry (OpenCensus, OpenTracing)': 5168, 'CleverTap': 1025, 'Conviva': 402, 'BlueKai (acquired by Oracle)': 153, 'Cifrasoft': 37, 'Swrve': 398, 'Janrain': 58, 'Bugly': 1985, 'Cheetah Ads': 440, 'Huawei Mobile Services (HMS) Core': 3567, 'Pusher': 538, 'Locuslabs': 52, 'Tealeaf': 15, 'Auditude': 74, 'Carnival': 203, 'BugSense': 97, 'AppMetrica': 3274, 'Zendrive': 43, 'Umeng Analytics': 1992, 'AdFit (Daum)': 363, 'Cauly': 266, 'AutoNavi / Amap': 694, 'nend': 398, 'Alohalytics': 58, 'Snowplow': 439, 'Baidu Map': 286, 'GPShopper': 13, 'Supersonic Ads': 138, 'Fyber': 3076, '360Dialog': 71, 'Matomo (Piwik)': 1097, 'Raygun': 73, 'BeaconsInSpace (Fysical)': 74, 'SignalFrame': 78, 'X-Mode': 573, 'OneAudience': 185, 'Cuebiq': 579, 'Amobee': 38, 'Altamob': 68, 'Moodmedia': 35, 'Tenjin': 856, 'Tapdaq': 179, 'Receptiv (formerly Mediabrix)': 469, 'Kiip': 199, 'Opensignal': 416, 'Scandit': 383, 'Axonix': 147, 'Heap': 135, 'Bitly': 34, 'JumpTap': 78, 'DOV-E': 155, 'AdBuddiz': 313, 'Adincube': 618, 'Houndify': 62, 'GameAnalytics': 1079, 'Heyzap (bought by Fyber)': 552, 'HyprMX': 1130, 'PingStart': 89, 'Baidu Location': 451, 'Cloudmobi': 152, 'AppBrain': 676, 'S4M': 22, 'Alphonso': 82, 'RjFun': 428, 'AppsGeyser': 165, 'Appodeal': 1254, 'Lisnr': 106, 'SilverPush': 8, 'Applause': 17, 'Sense360': 190, 'Salesforce Marketing Cloud': 748, 'Estimote': 206, 'Signal360': 14, 'UXCam': 266, 'Baidu Mobile Ads': 60, 'Baidu Mobile Stat': 125, 'Tencent Map LBS': 45, 'Yinzcam Sobek': 94, 'Sensoro': 3, 'Pollfish': 555, 'MoEngage': 256, 'YuMe': 116, 'Shopkick': 4, 'Taplytics': 144, 'Fyber SponsorPay': 116, 'Aarki': 5, 'IQzone': 185, 'OtherLevels': 20, 'Countly': 579, 'Persona.ly': 15, 'Repro': 43, 'Alimama (formerly AdsMogo)': 33, 'Bugfender': 236, 'Criteo': 1145, 'Parse.ly': 19, 'Verizon Ads': 878, 'CallDorado': 178, 'Bugsee': 114, 'Huq Sourcekit': 394, 'Tutela': 321, 'deltaDNA': 251, 'InMarket': 79, 'Twine Data': 66, 'Factual': 36, 'SuperAwesome': 260, 'PushSpring': 11, 'Microsoft Visual Studio App Center Analytics': 3486, 'maio by i-mobile': 350, 'Metaps': 41, 'Alooma': 61, 'Virgo Mobile': 25, 'Reveal Mobile': 67, 'TalkingData': 164, 'Adfurikun': 53, 'AMoAd': 67, 'Geniee': 23, 'OfferToro': 28, 'Emarsys Predict': 85, 'Insider': 64, 'Gemius HeatMap': 295, 'Umeng Feedback': 53, 'flymob': 57, 'Amazon Mobile Associates': 24, 'Microsoft Visual Studio App Center Crashes': 4441, 'Ensighten': 73, 'KIDOZ': 187, 'OpenLocate': 176, 'Exponea': 84, 'Singular': 412, 'Prebid Mobile': 335, 'Ad Generation': 111, 'Tappx': 553, 'ADLIB': 72, 'Sentiance': 55, 'OpenBack': 18, 'Dynamic Yield': 17, 'Display': 194, 'Adcenix': 6, 'Blesh': 8, 'Wootric': 199, 'BuzzAd Benefit': 60, 'Mail.ru': 75, 'Tencent MTA': 9, 'Enhance': 40, 'AdAdapted': 121, 'TapResearch': 186, 'AppVador': 18, 'Sensors Analytics': 254, 'SK planet Tad': 49, 'Adform': 21, 'Kissmetrics': 42, 'Admixer': 60, 'ShallWeAD': 32, 'Adcash': 17, 'AdFalcon': 81, 'Admost': 185, 'Zoho Analytics': 221, 'POKKT': 41, 'FLUZO': 4, 'AnySDK': 164, 'Airpush': 20, 'PredicIO': 82, 'ScoreLoop': 6, 'Pyze': 25, 'Instreamatic (Adman)': 54, 'Zapr': 17, 'Snapchat Login Kit': 155, 'Flowsense': 40, 'Mintegral': 2245, 'Point Inside': 12, 'AdMuing': 61, 'mediba': 11, 'SmartLook': 144, 'Pangle': 1287, 'Tamoco': 52, 'Qualtrics': 199, 'OzTAM': 14, 'IBM Digital Analytics': 6, 'Bluecats': 5, 'Placer': 42, 'IndoorAtlas': 10, 'Esri ArcGIS': 55, 'GOM Factory AdPie': 169, 'AdLocus': 1, 'Baidu Navigation': 7, 'HyperTrack': 100, 'Split': 87, 'Square Metrics': 23, 'Radar': 104, 'Anagog': 53, 'MOCA': 6, 'Unacast Pure': 53, 'Mopinion': 26, 'CoolaData': 4, 'BlueConic': 34, 'Footmarks': 30, 'Lenddo': 3, 'Actv8me': 6, 'Beintoo': 66, 'Didomi': 441, 'Adjoe': 48, 'Adobe Experience Cloud': 447, 'ABTasty': 44, 'BidMachine': 197, 'GIPHY Analytics': 265, 'Appodeal Stack': 535, 'fineboost': 35, 'ThinkingData Analytics': 53, 'Acuant': 12, 'Herow': 10, 'fullstory': 88, 'Proximi.io': 1, 'Admitad': 1, 'Akamai MAP': 21, 'IPQualityScore': 3, 'Bolts': 68, 'Vpon': 4, 'Treasure Data': 12, 'Pendo': 33, 'Plexure': 1}\n"
     ]
    }
   ],
   "source": [
    "result = {}\n",
    "# converting into list of tuple\n",
    "tuple_trackers = [(k, v) for k, v in dict_trackers.items()]\n",
    "\n",
    "for track in tuple_trackers:\n",
    "    if track[0] != \"000\":\n",
    "        key = ast.literal_eval(data_trackers[track[0]][0]) # convert str to dictionary\n",
    "\n",
    "        # merge all google trackers\n",
    "        if \"Google\" in key[\"name\"] or \"com.google\" in key[\"network_signature\"]:\n",
    "            if \"Google\" in result.keys():\n",
    "                result[\"Google\"] += track[1] # incremente the nb of Google tracker\n",
    "            else:\n",
    "                result[\"Google\"] = track[1] # initialize the nb of Google tracker\n",
    "\n",
    "        # merge all facebook trackers\n",
    "        elif \"Facebook\" in key[\"name\"] or \"com.facebook\" in key[\"network_signature\"]:\n",
    "            if \"Facebook\" in result.keys():\n",
    "                result[\"Facebook\"] += track[1] # incremente the nb of Fb tracker\n",
    "            else:\n",
    "                result[\"Facebook\"] = track[1] # initialize the nb of Fb tracker\n",
    "        else:\n",
    "            key = key[\"name\"]\n",
    "            result[key] = track[1]\n",
    "\n",
    "print(result)"
   ]
  },
  {
   "cell_type": "code",
   "execution_count": 20,
   "metadata": {},
   "outputs": [],
   "source": [
    "# sort dictionary by used trackers\n",
    "result = {k: v for k, v in sorted(result.items(), key=lambda item: item[1], reverse=True)}"
   ]
  },
  {
   "cell_type": "code",
   "execution_count": 21,
   "metadata": {},
   "outputs": [],
   "source": [
    "def getNFirstElement(dict, n):\n",
    "    cropped_dict = {}\n",
    "    for i in range(n):\n",
    "        for k,v in dict.items():\n",
    "            if len(cropped_dict) == 20:\n",
    "                return cropped_dict\n",
    "            cropped_dict[k] = v "
   ]
  },
  {
   "cell_type": "code",
   "execution_count": 26,
   "metadata": {},
   "outputs": [
    {
     "name": "stdout",
     "output_type": "stream",
     "text": [
      "Most used trackers:\n",
      "{'Google': 365191, 'Facebook': 193197, 'Flurry': 17663, 'AppsFlyer': 16051, 'Inmobi': 15840, 'Moat': 15131, 'Unity3d Ads': 14929, 'Twitter MoPub': 13844, 'AppLovin (MAX and SparkLabs)': 11686, 'Adjust': 11362, 'AdColony': 9266, 'Vungle': 9012, 'ironSource': 8136, 'Integral Ad Science': 7615, 'IAB Open Measurement': 7594, 'Amazon Advertisement': 7101, 'OneSignal': 6696, 'Branch': 6677, 'ChartBoost': 6435, 'Tapjoy': 5722}\n"
     ]
    },
    {
     "data": {
      "image/png": "[encoded data removed]",
      "text/plain": [
       "<Figure size 432x288 with 1 Axes>"
      ]
     },
     "metadata": {
      "needs_background": "light"
     },
     "output_type": "display_data"
    }
   ],
   "source": [
    "# get top 20 most used trackers\n",
    "NFirst_Result = getNFirstElement(result, 20)\n",
    "print(\"Most used trackers:\")\n",
    "print(NFirst_Result)\n",
    "\n",
    "# get histo\n",
    "plt.bar(list(NFirst_Result.keys()), NFirst_Result.values())\n",
    "plt.xticks(rotation=\"vertical\")\n",
    "plt.show()"
   ]
  },
  {
   "cell_type": "code",
   "execution_count": 23,
   "metadata": {},
   "outputs": [
    {
     "name": "stdout",
     "output_type": "stream",
     "text": [
      "1534.3586999623508\n"
     ]
    }
   ],
   "source": [
    "market_share = 0\n",
    "for key in result.keys():\n",
    "    market_share += result[key]\n",
    "google_MS = result[\"Google\"]/market_share\n",
    "squared_shares = google_MS*100\n",
    "squared_shares**=2\n",
    "print(squared_shares) \n"
   ]
  },
  {
   "cell_type": "code",
   "execution_count": 24,
   "metadata": {},
   "outputs": [
    {
     "name": "stdout",
     "output_type": "stream",
     "text": [
      "{'Analytics': 182, 'Advertisement': 103, 'Crash reporting': 10, 'Identification': 20, 'Profiling': 47, 'Location': 56}\n"
     ]
    }
   ],
   "source": [
    "# get pie chart of different categories\n",
    "catResult = {}\n",
    "\n",
    "for track in tuple_trackers:\n",
    "    if track[0] != \"000\":\n",
    "        key = ast.literal_eval(data_trackers[track[0]][0]) # convert str to dictionary\n",
    "        for categories in key[\"categories\"]:\n",
    "\n",
    "            if categories and categories in catResult.keys():\n",
    "                catResult[categories] += 1\n",
    "            else:\n",
    "                catResult[categories] = 1\n",
    "\n",
    "# nb of times each category of tracker is used\n",
    "print(catResult)"
   ]
  },
  {
   "cell_type": "code",
   "execution_count": 25,
   "metadata": {},
   "outputs": [
    {
     "data": {
      "image/png": "[encoded data removed]",
      "text/plain": [
       "<Figure size 432x288 with 1 Axes>"
      ]
     },
     "metadata": {},
     "output_type": "display_data"
    }
   ],
   "source": [
    "# get pie chart\n",
    "fig, ax = plt.subplots()\n",
    "ax.pie(catResult.values(), labels=catResult.keys(), autopct=\"%1.1f%%\")\n",
    "ax.axis(\"equal\")  # Equal aspect ratio ensures the pie chart is circular.\n",
    "plt.show()"
   ]
  },
  {
   "cell_type": "markdown",
   "metadata": {},
   "source": [
    "# Indice de Herfindahl Hirschmann"
   ]
  }
 ],
 "metadata": {
  "kernelspec": {
   "display_name": "Python 3 (ipykernel)",
   "language": "python",
   "name": "python3"
  },
  "language_info": {
   "codemirror_mode": {
    "name": "ipython",
    "version": 3
   },
   "file_extension": ".py",
   "mimetype": "text/x-python",
   "name": "python",
   "nbconvert_exporter": "python",
   "pygments_lexer": "ipython3",
   "version": "3.8.10"
  }
 },
 "nbformat": 4,
 "nbformat_minor": 2
}
