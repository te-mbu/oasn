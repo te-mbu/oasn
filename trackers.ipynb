{
 "cells": [
  {
   "cell_type": "markdown",
   "metadata": {},
   "source": []
  },
  {
   "cell_type": "markdown",
   "metadata": {},
   "source": [
    "# Plan:\n",
    "    I - Quelles sont les trackers les plus utilisés ?\n",
    "    II - Quelles sont les catégories de trackers les plus représentés ?"
   ]
  },
  {
   "cell_type": "markdown",
   "metadata": {},
   "source": [
    "# I - Quelles sont les trackers les plus utilisés ?"
   ]
  },
  {
   "cell_type": "code",
   "execution_count": 385,
   "metadata": {},
   "outputs": [],
   "source": [
    "import pandas\n",
    "import ast\n",
    "import plotly.express as px "
   ]
  },
  {
   "cell_type": "code",
   "execution_count": 386,
   "metadata": {},
   "outputs": [],
   "source": [
    "applications = pandas.read_csv(\n",
    "    \"EP_Data_Extended.csv\", quotechar='\"', skipinitialspace=True, low_memory=False\n",
    ")\n",
    "data_trackers = pandas.read_csv(\n",
    "    \"data_trackers.csv\", quotechar='\"', skipinitialspace=True, low_memory=False\n",
    ")"
   ]
  },
  {
   "cell_type": "code",
   "execution_count": 387,
   "metadata": {},
   "outputs": [
    {
     "name": "stdout",
     "output_type": "stream",
     "text": [
      "All handles\n",
      "0                                           com.semitan.tan\n",
      "1                                   com.allocine.androidapp\n",
      "2                                  com.frostnerd.dnschanger\n",
      "3         com.fullsix.android.labanquepostale.accountaccess\n",
      "4                                             fr.axa.monaxa\n",
      "                                ...                        \n",
      "195302                      com.iudesk.android.photo.editor\n",
      "195303                                        org.wikipedia\n",
      "195304                              com.mobidia.android.mdm\n",
      "195305                                     com.metago.astro\n",
      "195306                               net.slickdeals.android\n",
      "Name: handle, Length: 195307, dtype: object\n",
      "\n",
      "All trackers\n",
      "0                                                48,105,312\n",
      "1                                                      63,7\n",
      "2                                                       NaN\n",
      "3                                                       NaN\n",
      "4                                 4,6,31,27,38,66,67,70,312\n",
      "                                ...                        \n",
      "195302                                            27,312,49\n",
      "195303                                                   49\n",
      "195304                              28,12,27,66,67,69,70,49\n",
      "195305                                          28,12,27,49\n",
      "195306    12,25,27,48,67,69,70,92,125,340,347,349,130,31...\n",
      "Name: trackers, Length: 195307, dtype: object\n"
     ]
    }
   ],
   "source": [
    "handles = applications.loc[:, \"handle\"] # get \"handles\" column\n",
    "trackers = applications.loc[:, \"trackers\"] # get \"trackers\" column\n",
    "\n",
    "print(\"All handles\")\n",
    "print(handles)\n",
    "print(\"\\nAll trackers\")\n",
    "print(trackers)"
   ]
  },
  {
   "cell_type": "code",
   "execution_count": 388,
   "metadata": {},
   "outputs": [],
   "source": [
    "# convert \"handles\" from type <class 'pandas.core.series.Series'> to <class 'list'>\n",
    "handles = handles.values.tolist()\n",
    "\n",
    "# convert \"trackers\" from type <class 'pandas.core.series.Series'> to <class 'list'>\n",
    "trackers = trackers.values.tolist()"
   ]
  },
  {
   "cell_type": "code",
   "execution_count": 389,
   "metadata": {},
   "outputs": [],
   "source": [
    "# separate trackers and permissions in 2 different dictionaries\n",
    "\n",
    "dict_trackers = {}\n",
    "dict_permissions = {}\n",
    "\n",
    "for el in trackers:\n",
    "    if type(el) == str:\n",
    "        el = el.split(\",\") # split the string into a list using comma as a separator\n",
    "        for nb in el:\n",
    "            if nb and nb.isdigit() and nb in dict_trackers:\n",
    "                dict_trackers[nb] += 1 # incremente the nb of tracker\n",
    "            elif nb and nb.isdigit():\n",
    "                dict_trackers[nb] = 1 # initialize the nb of tracker\n",
    "            elif \"permission\" in nb and nb in dict_permissions:\n",
    "                dict_permissions[nb] += 1 # incremente the nb of permission\n",
    "            else:\n",
    "                dict_permissions[nb] = 1 # initialize the nb of permission\n"
   ]
  },
  {
   "cell_type": "code",
   "execution_count": 390,
   "metadata": {},
   "outputs": [
    {
     "name": "stdout",
     "output_type": "stream",
     "text": [
      "                  Name  Occurrence\n",
      "0               Google      365191\n",
      "1    Mobile Engagement          72\n",
      "2                Smart        1521\n",
      "3            Ad4Screen        1171\n",
      "4             Weborama          29\n",
      "..                 ...         ...\n",
      "376              Bolts          68\n",
      "377               Vpon           4\n",
      "378      Treasure Data          12\n",
      "379              Pendo          33\n",
      "380            Plexure           1\n",
      "\n",
      "[381 rows x 2 columns]\n"
     ]
    }
   ],
   "source": [
    "# converting into list of tuple of key and value\n",
    "tuple_trackers = [(k, v) for k, v in dict_trackers.items()]\n",
    "result = {}\n",
    "\n",
    "for k,v in tuple_trackers:\n",
    "    if k != \"000\":\n",
    "        key = ast.literal_eval(data_trackers[k][0]) # convert str to dictionary\n",
    "\n",
    "        # merge all google trackers\n",
    "        if \"Google\" in key[\"name\"] or \"com.google\" in key[\"network_signature\"]:\n",
    "            if \"Google\" in result.keys():\n",
    "                result[\"Google\"] += v # incremente the nb of Google tracker\n",
    "            else:\n",
    "                result[\"Google\"] = v # initialize the nb of Google tracker\n",
    "\n",
    "        # merge all facebook trackers\n",
    "        elif \"Facebook\" in key[\"name\"] or \"com.facebook\" in key[\"network_signature\"]:\n",
    "            if \"Facebook\" in result.keys():\n",
    "                result[\"Facebook\"] += v # incremente the nb of Fb tracker\n",
    "            else:\n",
    "                result[\"Facebook\"] = v # initialize the nb of Fb tracker\n",
    "        else:\n",
    "            key = key[\"name\"]\n",
    "            result[key] = v\n",
    "\n",
    "print(pandas.DataFrame(result.items(), columns=['Name', 'Occurrence']))"
   ]
  },
  {
   "cell_type": "code",
   "execution_count": 391,
   "metadata": {},
   "outputs": [],
   "source": [
    "# sort dictionary by most used trackers\n",
    "ordered_result = {k: v for k, v in sorted(result.items(), key=lambda item: item[1], reverse=True)}"
   ]
  },
  {
   "cell_type": "code",
   "execution_count": 392,
   "metadata": {},
   "outputs": [],
   "source": [
    "# get n first element of a dict\n",
    "def getNFirstElement(dict, n):\n",
    "    cropped_dict = {}\n",
    "    for i in range(n):\n",
    "        for k,v in dict.items():\n",
    "            if len(cropped_dict) == n:\n",
    "                return cropped_dict\n",
    "            cropped_dict[k] = v "
   ]
  },
  {
   "cell_type": "markdown",
   "metadata": {},
   "source": [
    "## Liste des 20 trackers les plus utilisés"
   ]
  },
  {
   "cell_type": "code",
   "execution_count": 393,
   "metadata": {},
   "outputs": [
    {
     "name": "stdout",
     "output_type": "stream",
     "text": [
      "                            Name  Occurrence\n",
      "0                         Google      365191\n",
      "1                       Facebook      193197\n",
      "2                         Flurry       17663\n",
      "3                      AppsFlyer       16051\n",
      "4                         Inmobi       15840\n",
      "5                           Moat       15131\n",
      "6                    Unity3d Ads       14929\n",
      "7                  Twitter MoPub       13844\n",
      "8   AppLovin (MAX and SparkLabs)       11686\n",
      "9                         Adjust       11362\n",
      "10                      AdColony        9266\n",
      "11                        Vungle        9012\n",
      "12                    ironSource        8136\n",
      "13           Integral Ad Science        7615\n",
      "14          IAB Open Measurement        7594\n",
      "15          Amazon Advertisement        7101\n",
      "16                     OneSignal        6696\n",
      "17                        Branch        6677\n",
      "18                    ChartBoost        6435\n",
      "19                        Tapjoy        5722\n"
     ]
    }
   ],
   "source": [
    "# get top 20 most used trackers\n",
    "NFirst_Result = getNFirstElement(ordered_result, 20)\n",
    "\n",
    "# convert dict into DataFrame format for a better visualisation\n",
    "most_used_trackers = pandas.DataFrame(NFirst_Result.items(), columns=['Name', 'Occurrence'])\n",
    "print(most_used_trackers)"
   ]
  },
  {
   "cell_type": "markdown",
   "metadata": {},
   "source": [
    "## Histogrammes des trackers les plus utilisés"
   ]
  },
  {
   "cell_type": "code",
   "execution_count": 394,
   "metadata": {},
   "outputs": [
    {
     "data": {
      "application/vnd.plotly.v1+json": {
       "config": {
        "plotlyServerURL": "https://plot.ly"
       },
       "data": [
        {
         "alignmentgroup": "True",
         "bingroup": "x",
         "histfunc": "sum",
         "hovertemplate": "color=Google<br>x=%{x}<br>sum of y=%{y}<extra></extra>",
         "legendgroup": "Google",
         "marker": {
          "color": "#636efa",
          "pattern": {
           "shape": ""
          }
         },
         "name": "Google",
         "offsetgroup": "Google",
         "orientation": "v",
         "showlegend": true,
         "type": "histogram",
         "x": [
          "Google"
         ],
         "xaxis": "x",
         "y": [
          365191
         ],
         "yaxis": "y"
        },
        {
         "alignmentgroup": "True",
         "bingroup": "x",
         "histfunc": "sum",
         "hovertemplate": "color=Facebook<br>x=%{x}<br>sum of y=%{y}<extra></extra>",
         "legendgroup": "Facebook",
         "marker": {
          "color": "#EF553B",
          "pattern": {
           "shape": ""
          }
         },
         "name": "Facebook",
         "offsetgroup": "Facebook",
         "orientation": "v",
         "showlegend": true,
         "type": "histogram",
         "x": [
          "Facebook"
         ],
         "xaxis": "x",
         "y": [
          193197
         ],
         "yaxis": "y"
        },
        {
         "alignmentgroup": "True",
         "bingroup": "x",
         "histfunc": "sum",
         "hovertemplate": "color=Flurry<br>x=%{x}<br>sum of y=%{y}<extra></extra>",
         "legendgroup": "Flurry",
         "marker": {
          "color": "#00cc96",
          "pattern": {
           "shape": ""
          }
         },
         "name": "Flurry",
         "offsetgroup": "Flurry",
         "orientation": "v",
         "showlegend": true,
         "type": "histogram",
         "x": [
          "Flurry"
         ],
         "xaxis": "x",
         "y": [
          17663
         ],
         "yaxis": "y"
        },
        {
         "alignmentgroup": "True",
         "bingroup": "x",
         "histfunc": "sum",
         "hovertemplate": "color=AppsFlyer<br>x=%{x}<br>sum of y=%{y}<extra></extra>",
         "legendgroup": "AppsFlyer",
         "marker": {
          "color": "#ab63fa",
          "pattern": {
           "shape": ""
          }
         },
         "name": "AppsFlyer",
         "offsetgroup": "AppsFlyer",
         "orientation": "v",
         "showlegend": true,
         "type": "histogram",
         "x": [
          "AppsFlyer"
         ],
         "xaxis": "x",
         "y": [
          16051
         ],
         "yaxis": "y"
        },
        {
         "alignmentgroup": "True",
         "bingroup": "x",
         "histfunc": "sum",
         "hovertemplate": "color=Inmobi<br>x=%{x}<br>sum of y=%{y}<extra></extra>",
         "legendgroup": "Inmobi",
         "marker": {
          "color": "#FFA15A",
          "pattern": {
           "shape": ""
          }
         },
         "name": "Inmobi",
         "offsetgroup": "Inmobi",
         "orientation": "v",
         "showlegend": true,
         "type": "histogram",
         "x": [
          "Inmobi"
         ],
         "xaxis": "x",
         "y": [
          15840
         ],
         "yaxis": "y"
        },
        {
         "alignmentgroup": "True",
         "bingroup": "x",
         "histfunc": "sum",
         "hovertemplate": "color=Moat<br>x=%{x}<br>sum of y=%{y}<extra></extra>",
         "legendgroup": "Moat",
         "marker": {
          "color": "#19d3f3",
          "pattern": {
           "shape": ""
          }
         },
         "name": "Moat",
         "offsetgroup": "Moat",
         "orientation": "v",
         "showlegend": true,
         "type": "histogram",
         "x": [
          "Moat"
         ],
         "xaxis": "x",
         "y": [
          15131
         ],
         "yaxis": "y"
        },
        {
         "alignmentgroup": "True",
         "bingroup": "x",
         "histfunc": "sum",
         "hovertemplate": "color=Unity3d Ads<br>x=%{x}<br>sum of y=%{y}<extra></extra>",
         "legendgroup": "Unity3d Ads",
         "marker": {
          "color": "#FF6692",
          "pattern": {
           "shape": ""
          }
         },
         "name": "Unity3d Ads",
         "offsetgroup": "Unity3d Ads",
         "orientation": "v",
         "showlegend": true,
         "type": "histogram",
         "x": [
          "Unity3d Ads"
         ],
         "xaxis": "x",
         "y": [
          14929
         ],
         "yaxis": "y"
        },
        {
         "alignmentgroup": "True",
         "bingroup": "x",
         "histfunc": "sum",
         "hovertemplate": "color=Twitter MoPub<br>x=%{x}<br>sum of y=%{y}<extra></extra>",
         "legendgroup": "Twitter MoPub",
         "marker": {
          "color": "#B6E880",
          "pattern": {
           "shape": ""
          }
         },
         "name": "Twitter MoPub",
         "offsetgroup": "Twitter MoPub",
         "orientation": "v",
         "showlegend": true,
         "type": "histogram",
         "x": [
          "Twitter MoPub"
         ],
         "xaxis": "x",
         "y": [
          13844
         ],
         "yaxis": "y"
        },
        {
         "alignmentgroup": "True",
         "bingroup": "x",
         "histfunc": "sum",
         "hovertemplate": "color=AppLovin (MAX and SparkLabs)<br>x=%{x}<br>sum of y=%{y}<extra></extra>",
         "legendgroup": "AppLovin (MAX and SparkLabs)",
         "marker": {
          "color": "#FF97FF",
          "pattern": {
           "shape": ""
          }
         },
         "name": "AppLovin (MAX and SparkLabs)",
         "offsetgroup": "AppLovin (MAX and SparkLabs)",
         "orientation": "v",
         "showlegend": true,
         "type": "histogram",
         "x": [
          "AppLovin (MAX and SparkLabs)"
         ],
         "xaxis": "x",
         "y": [
          11686
         ],
         "yaxis": "y"
        },
        {
         "alignmentgroup": "True",
         "bingroup": "x",
         "histfunc": "sum",
         "hovertemplate": "color=Adjust<br>x=%{x}<br>sum of y=%{y}<extra></extra>",
         "legendgroup": "Adjust",
         "marker": {
          "color": "#FECB52",
          "pattern": {
           "shape": ""
          }
         },
         "name": "Adjust",
         "offsetgroup": "Adjust",
         "orientation": "v",
         "showlegend": true,
         "type": "histogram",
         "x": [
          "Adjust"
         ],
         "xaxis": "x",
         "y": [
          11362
         ],
         "yaxis": "y"
        },
        {
         "alignmentgroup": "True",
         "bingroup": "x",
         "histfunc": "sum",
         "hovertemplate": "color=AdColony<br>x=%{x}<br>sum of y=%{y}<extra></extra>",
         "legendgroup": "AdColony",
         "marker": {
          "color": "#636efa",
          "pattern": {
           "shape": ""
          }
         },
         "name": "AdColony",
         "offsetgroup": "AdColony",
         "orientation": "v",
         "showlegend": true,
         "type": "histogram",
         "x": [
          "AdColony"
         ],
         "xaxis": "x",
         "y": [
          9266
         ],
         "yaxis": "y"
        },
        {
         "alignmentgroup": "True",
         "bingroup": "x",
         "histfunc": "sum",
         "hovertemplate": "color=Vungle<br>x=%{x}<br>sum of y=%{y}<extra></extra>",
         "legendgroup": "Vungle",
         "marker": {
          "color": "#EF553B",
          "pattern": {
           "shape": ""
          }
         },
         "name": "Vungle",
         "offsetgroup": "Vungle",
         "orientation": "v",
         "showlegend": true,
         "type": "histogram",
         "x": [
          "Vungle"
         ],
         "xaxis": "x",
         "y": [
          9012
         ],
         "yaxis": "y"
        },
        {
         "alignmentgroup": "True",
         "bingroup": "x",
         "histfunc": "sum",
         "hovertemplate": "color=ironSource<br>x=%{x}<br>sum of y=%{y}<extra></extra>",
         "legendgroup": "ironSource",
         "marker": {
          "color": "#00cc96",
          "pattern": {
           "shape": ""
          }
         },
         "name": "ironSource",
         "offsetgroup": "ironSource",
         "orientation": "v",
         "showlegend": true,
         "type": "histogram",
         "x": [
          "ironSource"
         ],
         "xaxis": "x",
         "y": [
          8136
         ],
         "yaxis": "y"
        },
        {
         "alignmentgroup": "True",
         "bingroup": "x",
         "histfunc": "sum",
         "hovertemplate": "color=Integral Ad Science<br>x=%{x}<br>sum of y=%{y}<extra></extra>",
         "legendgroup": "Integral Ad Science",
         "marker": {
          "color": "#ab63fa",
          "pattern": {
           "shape": ""
          }
         },
         "name": "Integral Ad Science",
         "offsetgroup": "Integral Ad Science",
         "orientation": "v",
         "showlegend": true,
         "type": "histogram",
         "x": [
          "Integral Ad Science"
         ],
         "xaxis": "x",
         "y": [
          7615
         ],
         "yaxis": "y"
        },
        {
         "alignmentgroup": "True",
         "bingroup": "x",
         "histfunc": "sum",
         "hovertemplate": "color=IAB Open Measurement<br>x=%{x}<br>sum of y=%{y}<extra></extra>",
         "legendgroup": "IAB Open Measurement",
         "marker": {
          "color": "#FFA15A",
          "pattern": {
           "shape": ""
          }
         },
         "name": "IAB Open Measurement",
         "offsetgroup": "IAB Open Measurement",
         "orientation": "v",
         "showlegend": true,
         "type": "histogram",
         "x": [
          "IAB Open Measurement"
         ],
         "xaxis": "x",
         "y": [
          7594
         ],
         "yaxis": "y"
        },
        {
         "alignmentgroup": "True",
         "bingroup": "x",
         "histfunc": "sum",
         "hovertemplate": "color=Amazon Advertisement<br>x=%{x}<br>sum of y=%{y}<extra></extra>",
         "legendgroup": "Amazon Advertisement",
         "marker": {
          "color": "#19d3f3",
          "pattern": {
           "shape": ""
          }
         },
         "name": "Amazon Advertisement",
         "offsetgroup": "Amazon Advertisement",
         "orientation": "v",
         "showlegend": true,
         "type": "histogram",
         "x": [
          "Amazon Advertisement"
         ],
         "xaxis": "x",
         "y": [
          7101
         ],
         "yaxis": "y"
        },
        {
         "alignmentgroup": "True",
         "bingroup": "x",
         "histfunc": "sum",
         "hovertemplate": "color=OneSignal<br>x=%{x}<br>sum of y=%{y}<extra></extra>",
         "legendgroup": "OneSignal",
         "marker": {
          "color": "#FF6692",
          "pattern": {
           "shape": ""
          }
         },
         "name": "OneSignal",
         "offsetgroup": "OneSignal",
         "orientation": "v",
         "showlegend": true,
         "type": "histogram",
         "x": [
          "OneSignal"
         ],
         "xaxis": "x",
         "y": [
          6696
         ],
         "yaxis": "y"
        },
        {
         "alignmentgroup": "True",
         "bingroup": "x",
         "histfunc": "sum",
         "hovertemplate": "color=Branch<br>x=%{x}<br>sum of y=%{y}<extra></extra>",
         "legendgroup": "Branch",
         "marker": {
          "color": "#B6E880",
          "pattern": {
           "shape": ""
          }
         },
         "name": "Branch",
         "offsetgroup": "Branch",
         "orientation": "v",
         "showlegend": true,
         "type": "histogram",
         "x": [
          "Branch"
         ],
         "xaxis": "x",
         "y": [
          6677
         ],
         "yaxis": "y"
        },
        {
         "alignmentgroup": "True",
         "bingroup": "x",
         "histfunc": "sum",
         "hovertemplate": "color=ChartBoost<br>x=%{x}<br>sum of y=%{y}<extra></extra>",
         "legendgroup": "ChartBoost",
         "marker": {
          "color": "#FF97FF",
          "pattern": {
           "shape": ""
          }
         },
         "name": "ChartBoost",
         "offsetgroup": "ChartBoost",
         "orientation": "v",
         "showlegend": true,
         "type": "histogram",
         "x": [
          "ChartBoost"
         ],
         "xaxis": "x",
         "y": [
          6435
         ],
         "yaxis": "y"
        },
        {
         "alignmentgroup": "True",
         "bingroup": "x",
         "histfunc": "sum",
         "hovertemplate": "color=Tapjoy<br>x=%{x}<br>sum of y=%{y}<extra></extra>",
         "legendgroup": "Tapjoy",
         "marker": {
          "color": "#FECB52",
          "pattern": {
           "shape": ""
          }
         },
         "name": "Tapjoy",
         "offsetgroup": "Tapjoy",
         "orientation": "v",
         "showlegend": true,
         "type": "histogram",
         "x": [
          "Tapjoy"
         ],
         "xaxis": "x",
         "y": [
          5722
         ],
         "yaxis": "y"
        }
       ],
       "layout": {
        "barmode": "relative",
        "legend": {
         "title": {
          "text": "color"
         },
         "tracegroupgap": 0
        },
        "template": {
         "data": {
          "bar": [
           {
            "error_x": {
             "color": "#2a3f5f"
            },
            "error_y": {
             "color": "#2a3f5f"
            },
            "marker": {
             "line": {
              "color": "#E5ECF6",
              "width": 0.5
             },
             "pattern": {
              "fillmode": "overlay",
              "size": 10,
              "solidity": 0.2
             }
            },
            "type": "bar"
           }
          ],
          "barpolar": [
           {
            "marker": {
             "line": {
              "color": "#E5ECF6",
              "width": 0.5
             },
             "pattern": {
              "fillmode": "overlay",
              "size": 10,
              "solidity": 0.2
             }
            },
            "type": "barpolar"
           }
          ],
          "carpet": [
           {
            "aaxis": {
             "endlinecolor": "#2a3f5f",
             "gridcolor": "white",
             "linecolor": "white",
             "minorgridcolor": "white",
             "startlinecolor": "#2a3f5f"
            },
            "baxis": {
             "endlinecolor": "#2a3f5f",
             "gridcolor": "white",
             "linecolor": "white",
             "minorgridcolor": "white",
             "startlinecolor": "#2a3f5f"
            },
            "type": "carpet"
           }
          ],
          "choropleth": [
           {
            "colorbar": {
             "outlinewidth": 0,
             "ticks": ""
            },
            "type": "choropleth"
           }
          ],
          "contour": [
           {
            "colorbar": {
             "outlinewidth": 0,
             "ticks": ""
            },
            "colorscale": [
             [
              0,
              "#0d0887"
             ],
             [
              0.1111111111111111,
              "#46039f"
             ],
             [
              0.2222222222222222,
              "#7201a8"
             ],
             [
              0.3333333333333333,
              "#9c179e"
             ],
             [
              0.4444444444444444,
              "#bd3786"
             ],
             [
              0.5555555555555556,
              "#d8576b"
             ],
             [
              0.6666666666666666,
              "#ed7953"
             ],
             [
              0.7777777777777778,
              "#fb9f3a"
             ],
             [
              0.8888888888888888,
              "#fdca26"
             ],
             [
              1,
              "#f0f921"
             ]
            ],
            "type": "contour"
           }
          ],
          "contourcarpet": [
           {
            "colorbar": {
             "outlinewidth": 0,
             "ticks": ""
            },
            "type": "contourcarpet"
           }
          ],
          "heatmap": [
           {
            "colorbar": {
             "outlinewidth": 0,
             "ticks": ""
            },
            "colorscale": [
             [
              0,
              "#0d0887"
             ],
             [
              0.1111111111111111,
              "#46039f"
             ],
             [
              0.2222222222222222,
              "#7201a8"
             ],
             [
              0.3333333333333333,
              "#9c179e"
             ],
             [
              0.4444444444444444,
              "#bd3786"
             ],
             [
              0.5555555555555556,
              "#d8576b"
             ],
             [
              0.6666666666666666,
              "#ed7953"
             ],
             [
              0.7777777777777778,
              "#fb9f3a"
             ],
             [
              0.8888888888888888,
              "#fdca26"
             ],
             [
              1,
              "#f0f921"
             ]
            ],
            "type": "heatmap"
           }
          ],
          "heatmapgl": [
           {
            "colorbar": {
             "outlinewidth": 0,
             "ticks": ""
            },
            "colorscale": [
             [
              0,
              "#0d0887"
             ],
             [
              0.1111111111111111,
              "#46039f"
             ],
             [
              0.2222222222222222,
              "#7201a8"
             ],
             [
              0.3333333333333333,
              "#9c179e"
             ],
             [
              0.4444444444444444,
              "#bd3786"
             ],
             [
              0.5555555555555556,
              "#d8576b"
             ],
             [
              0.6666666666666666,
              "#ed7953"
             ],
             [
              0.7777777777777778,
              "#fb9f3a"
             ],
             [
              0.8888888888888888,
              "#fdca26"
             ],
             [
              1,
              "#f0f921"
             ]
            ],
            "type": "heatmapgl"
           }
          ],
          "histogram": [
           {
            "marker": {
             "pattern": {
              "fillmode": "overlay",
              "size": 10,
              "solidity": 0.2
             }
            },
            "type": "histogram"
           }
          ],
          "histogram2d": [
           {
            "colorbar": {
             "outlinewidth": 0,
             "ticks": ""
            },
            "colorscale": [
             [
              0,
              "#0d0887"
             ],
             [
              0.1111111111111111,
              "#46039f"
             ],
             [
              0.2222222222222222,
              "#7201a8"
             ],
             [
              0.3333333333333333,
              "#9c179e"
             ],
             [
              0.4444444444444444,
              "#bd3786"
             ],
             [
              0.5555555555555556,
              "#d8576b"
             ],
             [
              0.6666666666666666,
              "#ed7953"
             ],
             [
              0.7777777777777778,
              "#fb9f3a"
             ],
             [
              0.8888888888888888,
              "#fdca26"
             ],
             [
              1,
              "#f0f921"
             ]
            ],
            "type": "histogram2d"
           }
          ],
          "histogram2dcontour": [
           {
            "colorbar": {
             "outlinewidth": 0,
             "ticks": ""
            },
            "colorscale": [
             [
              0,
              "#0d0887"
             ],
             [
              0.1111111111111111,
              "#46039f"
             ],
             [
              0.2222222222222222,
              "#7201a8"
             ],
             [
              0.3333333333333333,
              "#9c179e"
             ],
             [
              0.4444444444444444,
              "#bd3786"
             ],
             [
              0.5555555555555556,
              "#d8576b"
             ],
             [
              0.6666666666666666,
              "#ed7953"
             ],
             [
              0.7777777777777778,
              "#fb9f3a"
             ],
             [
              0.8888888888888888,
              "#fdca26"
             ],
             [
              1,
              "#f0f921"
             ]
            ],
            "type": "histogram2dcontour"
           }
          ],
          "mesh3d": [
           {
            "colorbar": {
             "outlinewidth": 0,
             "ticks": ""
            },
            "type": "mesh3d"
           }
          ],
          "parcoords": [
           {
            "line": {
             "colorbar": {
              "outlinewidth": 0,
              "ticks": ""
             }
            },
            "type": "parcoords"
           }
          ],
          "pie": [
           {
            "automargin": true,
            "type": "pie"
           }
          ],
          "scatter": [
           {
            "marker": {
             "colorbar": {
              "outlinewidth": 0,
              "ticks": ""
             }
            },
            "type": "scatter"
           }
          ],
          "scatter3d": [
           {
            "line": {
             "colorbar": {
              "outlinewidth": 0,
              "ticks": ""
             }
            },
            "marker": {
             "colorbar": {
              "outlinewidth": 0,
              "ticks": ""
             }
            },
            "type": "scatter3d"
           }
          ],
          "scattercarpet": [
           {
            "marker": {
             "colorbar": {
              "outlinewidth": 0,
              "ticks": ""
             }
            },
            "type": "scattercarpet"
           }
          ],
          "scattergeo": [
           {
            "marker": {
             "colorbar": {
              "outlinewidth": 0,
              "ticks": ""
             }
            },
            "type": "scattergeo"
           }
          ],
          "scattergl": [
           {
            "marker": {
             "colorbar": {
              "outlinewidth": 0,
              "ticks": ""
             }
            },
            "type": "scattergl"
           }
          ],
          "scattermapbox": [
           {
            "marker": {
             "colorbar": {
              "outlinewidth": 0,
              "ticks": ""
             }
            },
            "type": "scattermapbox"
           }
          ],
          "scatterpolar": [
           {
            "marker": {
             "colorbar": {
              "outlinewidth": 0,
              "ticks": ""
             }
            },
            "type": "scatterpolar"
           }
          ],
          "scatterpolargl": [
           {
            "marker": {
             "colorbar": {
              "outlinewidth": 0,
              "ticks": ""
             }
            },
            "type": "scatterpolargl"
           }
          ],
          "scatterternary": [
           {
            "marker": {
             "colorbar": {
              "outlinewidth": 0,
              "ticks": ""
             }
            },
            "type": "scatterternary"
           }
          ],
          "surface": [
           {
            "colorbar": {
             "outlinewidth": 0,
             "ticks": ""
            },
            "colorscale": [
             [
              0,
              "#0d0887"
             ],
             [
              0.1111111111111111,
              "#46039f"
             ],
             [
              0.2222222222222222,
              "#7201a8"
             ],
             [
              0.3333333333333333,
              "#9c179e"
             ],
             [
              0.4444444444444444,
              "#bd3786"
             ],
             [
              0.5555555555555556,
              "#d8576b"
             ],
             [
              0.6666666666666666,
              "#ed7953"
             ],
             [
              0.7777777777777778,
              "#fb9f3a"
             ],
             [
              0.8888888888888888,
              "#fdca26"
             ],
             [
              1,
              "#f0f921"
             ]
            ],
            "type": "surface"
           }
          ],
          "table": [
           {
            "cells": {
             "fill": {
              "color": "#EBF0F8"
             },
             "line": {
              "color": "white"
             }
            },
            "header": {
             "fill": {
              "color": "#C8D4E3"
             },
             "line": {
              "color": "white"
             }
            },
            "type": "table"
           }
          ]
         },
         "layout": {
          "annotationdefaults": {
           "arrowcolor": "#2a3f5f",
           "arrowhead": 0,
           "arrowwidth": 1
          },
          "autotypenumbers": "strict",
          "coloraxis": {
           "colorbar": {
            "outlinewidth": 0,
            "ticks": ""
           }
          },
          "colorscale": {
           "diverging": [
            [
             0,
             "#8e0152"
            ],
            [
             0.1,
             "#c51b7d"
            ],
            [
             0.2,
             "#de77ae"
            ],
            [
             0.3,
             "#f1b6da"
            ],
            [
             0.4,
             "#fde0ef"
            ],
            [
             0.5,
             "#f7f7f7"
            ],
            [
             0.6,
             "#e6f5d0"
            ],
            [
             0.7,
             "#b8e186"
            ],
            [
             0.8,
             "#7fbc41"
            ],
            [
             0.9,
             "#4d9221"
            ],
            [
             1,
             "#276419"
            ]
           ],
           "sequential": [
            [
             0,
             "#0d0887"
            ],
            [
             0.1111111111111111,
             "#46039f"
            ],
            [
             0.2222222222222222,
             "#7201a8"
            ],
            [
             0.3333333333333333,
             "#9c179e"
            ],
            [
             0.4444444444444444,
             "#bd3786"
            ],
            [
             0.5555555555555556,
             "#d8576b"
            ],
            [
             0.6666666666666666,
             "#ed7953"
            ],
            [
             0.7777777777777778,
             "#fb9f3a"
            ],
            [
             0.8888888888888888,
             "#fdca26"
            ],
            [
             1,
             "#f0f921"
            ]
           ],
           "sequentialminus": [
            [
             0,
             "#0d0887"
            ],
            [
             0.1111111111111111,
             "#46039f"
            ],
            [
             0.2222222222222222,
             "#7201a8"
            ],
            [
             0.3333333333333333,
             "#9c179e"
            ],
            [
             0.4444444444444444,
             "#bd3786"
            ],
            [
             0.5555555555555556,
             "#d8576b"
            ],
            [
             0.6666666666666666,
             "#ed7953"
            ],
            [
             0.7777777777777778,
             "#fb9f3a"
            ],
            [
             0.8888888888888888,
             "#fdca26"
            ],
            [
             1,
             "#f0f921"
            ]
           ]
          },
          "colorway": [
           "#636efa",
           "#EF553B",
           "#00cc96",
           "#ab63fa",
           "#FFA15A",
           "#19d3f3",
           "#FF6692",
           "#B6E880",
           "#FF97FF",
           "#FECB52"
          ],
          "font": {
           "color": "#2a3f5f"
          },
          "geo": {
           "bgcolor": "white",
           "lakecolor": "white",
           "landcolor": "#E5ECF6",
           "showlakes": true,
           "showland": true,
           "subunitcolor": "white"
          },
          "hoverlabel": {
           "align": "left"
          },
          "hovermode": "closest",
          "mapbox": {
           "style": "light"
          },
          "paper_bgcolor": "white",
          "plot_bgcolor": "#E5ECF6",
          "polar": {
           "angularaxis": {
            "gridcolor": "white",
            "linecolor": "white",
            "ticks": ""
           },
           "bgcolor": "#E5ECF6",
           "radialaxis": {
            "gridcolor": "white",
            "linecolor": "white",
            "ticks": ""
           }
          },
          "scene": {
           "xaxis": {
            "backgroundcolor": "#E5ECF6",
            "gridcolor": "white",
            "gridwidth": 2,
            "linecolor": "white",
            "showbackground": true,
            "ticks": "",
            "zerolinecolor": "white"
           },
           "yaxis": {
            "backgroundcolor": "#E5ECF6",
            "gridcolor": "white",
            "gridwidth": 2,
            "linecolor": "white",
            "showbackground": true,
            "ticks": "",
            "zerolinecolor": "white"
           },
           "zaxis": {
            "backgroundcolor": "#E5ECF6",
            "gridcolor": "white",
            "gridwidth": 2,
            "linecolor": "white",
            "showbackground": true,
            "ticks": "",
            "zerolinecolor": "white"
           }
          },
          "shapedefaults": {
           "line": {
            "color": "#2a3f5f"
           }
          },
          "ternary": {
           "aaxis": {
            "gridcolor": "white",
            "linecolor": "white",
            "ticks": ""
           },
           "baxis": {
            "gridcolor": "white",
            "linecolor": "white",
            "ticks": ""
           },
           "bgcolor": "#E5ECF6",
           "caxis": {
            "gridcolor": "white",
            "linecolor": "white",
            "ticks": ""
           }
          },
          "title": {
           "x": 0.05
          },
          "xaxis": {
           "automargin": true,
           "gridcolor": "white",
           "linecolor": "white",
           "ticks": "",
           "title": {
            "standoff": 15
           },
           "zerolinecolor": "white",
           "zerolinewidth": 2
          },
          "yaxis": {
           "automargin": true,
           "gridcolor": "white",
           "linecolor": "white",
           "ticks": "",
           "title": {
            "standoff": 15
           },
           "zerolinecolor": "white",
           "zerolinewidth": 2
          }
         }
        },
        "title": {
         "text": "Histogramme des trackers les plus utilisés"
        },
        "xaxis": {
         "anchor": "y",
         "domain": [
          0,
          1
         ],
         "title": {
          "text": "x"
         }
        },
        "yaxis": {
         "anchor": "x",
         "domain": [
          0,
          1
         ],
         "title": {
          "text": "sum of y"
         }
        }
       }
      }
     },
     "metadata": {},
     "output_type": "display_data"
    }
   ],
   "source": [
    "# get histo\n",
    "fig = px.histogram(x=list(NFirst_Result.keys()), y= list(NFirst_Result.values()), color=list(NFirst_Result.keys()), title=\"Histogramme des trackers les plus utilisés\")\n",
    "fig.show()"
   ]
  },
  {
   "cell_type": "markdown",
   "metadata": {},
   "source": [
    "## Indice de Herfindahl Hirschmann"
   ]
  },
  {
   "cell_type": "code",
   "execution_count": 395,
   "metadata": {},
   "outputs": [
    {
     "name": "stdout",
     "output_type": "stream",
     "text": [
      "IHH index : 1994.731223100649\n"
     ]
    }
   ],
   "source": [
    "market_shares = []\n",
    "total_market = sum(result.values()) # get total nb of trackers\n",
    "for nb in result.values():\n",
    "    mk = ((nb/total_market)*100)\n",
    "    mk**=2\n",
    "    market_shares.append(mk) # append all market shares in a list\n",
    "IHH_index = sum(market_shares)\n",
    "\n",
    "print(\"IHH index :\", IHH_index)"
   ]
  },
  {
   "cell_type": "markdown",
   "metadata": {},
   "source": [
    "IHH est proche de 2000, la concentration de marché est élevé."
   ]
  },
  {
   "cell_type": "code",
   "execution_count": 396,
   "metadata": {},
   "outputs": [],
   "source": [
    "# convert trackers occurrence dict into DataFrame\n",
    "ord_result = pandas.DataFrame(ordered_result.items(), columns=['Name', 'Occurrence'])"
   ]
  },
  {
   "cell_type": "code",
   "execution_count": 397,
   "metadata": {},
   "outputs": [
    {
     "name": "stdout",
     "output_type": "stream",
     "text": [
      "               Name        Date\n",
      "0            Google  2017-09-24\n",
      "1          Facebook  2017-12-05\n",
      "2            Flurry  2017-09-24\n",
      "3         AppsFlyer  2017-09-24\n",
      "4            Inmobi  2018-03-04\n",
      "..              ...         ...\n",
      "376  IPQualityScore  2021-01-24\n",
      "377         AdLocus  2021-02-28\n",
      "378      Proximi.io  2021-03-12\n",
      "379         Admitad  2021-02-28\n",
      "380         Plexure  2021-05-16\n",
      "\n",
      "[381 rows x 2 columns]\n"
     ]
    }
   ],
   "source": [
    "# get creation date of each trackers\n",
    "\n",
    "date = {}\n",
    "\n",
    "for k,v in tuple_trackers:\n",
    "    if k != \"000\":\n",
    "        key = ast.literal_eval(data_trackers[k][0])\n",
    "        date[key[\"name\"]] = key[\"creation_date\"]\n",
    "\n",
    "trackers_date_dict = {}\n",
    "for name in ord_result.loc[:, \"Name\"]:\n",
    "    for k, v in date.items():\n",
    "        if \"Google\" in k:\n",
    "            trackers_date_dict[\"Google\"] = \"2017-09-24\"\n",
    "        elif \"Facebook\" in k:\n",
    "            trackers_date_dict[\"Facebook\"] = \"2017-12-05\"\n",
    "        elif name in k:\n",
    "            trackers_date_dict[k] = date[k]\n",
    "trackers_date_df = pandas.DataFrame(trackers_date_dict.items(), columns=['Name', 'Date'])\n",
    "print(trackers_date_df)"
   ]
  },
  {
   "cell_type": "code",
   "execution_count": 398,
   "metadata": {},
   "outputs": [
    {
     "data": {
      "application/vnd.plotly.v1+json": {
       "config": {
        "plotlyServerURL": "https://plot.ly"
       },
       "data": [
        {
         "alignmentgroup": "True",
         "bingroup": "x",
         "histfunc": "sum",
         "hovertemplate": "Name=Google<br>Date=%{x}<br>sum of Occurrence=%{y}<extra></extra>",
         "legendgroup": "Google",
         "marker": {
          "color": "#636efa",
          "pattern": {
           "shape": ""
          }
         },
         "name": "Google",
         "offsetgroup": "Google",
         "orientation": "v",
         "showlegend": true,
         "type": "histogram",
         "x": [
          "2017-09-24"
         ],
         "xaxis": "x",
         "y": [
          365191
         ],
         "yaxis": "y"
        },
        {
         "alignmentgroup": "True",
         "bingroup": "x",
         "histfunc": "sum",
         "hovertemplate": "Name=Facebook<br>Date=%{x}<br>sum of Occurrence=%{y}<extra></extra>",
         "legendgroup": "Facebook",
         "marker": {
          "color": "#EF553B",
          "pattern": {
           "shape": ""
          }
         },
         "name": "Facebook",
         "offsetgroup": "Facebook",
         "orientation": "v",
         "showlegend": true,
         "type": "histogram",
         "x": [
          "2017-12-05"
         ],
         "xaxis": "x",
         "y": [
          193197
         ],
         "yaxis": "y"
        },
        {
         "alignmentgroup": "True",
         "bingroup": "x",
         "histfunc": "sum",
         "hovertemplate": "Name=Flurry<br>Date=%{x}<br>sum of Occurrence=%{y}<extra></extra>",
         "legendgroup": "Flurry",
         "marker": {
          "color": "#00cc96",
          "pattern": {
           "shape": ""
          }
         },
         "name": "Flurry",
         "offsetgroup": "Flurry",
         "orientation": "v",
         "showlegend": true,
         "type": "histogram",
         "x": [
          "2017-09-24"
         ],
         "xaxis": "x",
         "y": [
          17663
         ],
         "yaxis": "y"
        },
        {
         "alignmentgroup": "True",
         "bingroup": "x",
         "histfunc": "sum",
         "hovertemplate": "Name=AppsFlyer<br>Date=%{x}<br>sum of Occurrence=%{y}<extra></extra>",
         "legendgroup": "AppsFlyer",
         "marker": {
          "color": "#ab63fa",
          "pattern": {
           "shape": ""
          }
         },
         "name": "AppsFlyer",
         "offsetgroup": "AppsFlyer",
         "orientation": "v",
         "showlegend": true,
         "type": "histogram",
         "x": [
          "2017-09-24"
         ],
         "xaxis": "x",
         "y": [
          16051
         ],
         "yaxis": "y"
        },
        {
         "alignmentgroup": "True",
         "bingroup": "x",
         "histfunc": "sum",
         "hovertemplate": "Name=Inmobi<br>Date=%{x}<br>sum of Occurrence=%{y}<extra></extra>",
         "legendgroup": "Inmobi",
         "marker": {
          "color": "#FFA15A",
          "pattern": {
           "shape": ""
          }
         },
         "name": "Inmobi",
         "offsetgroup": "Inmobi",
         "orientation": "v",
         "showlegend": true,
         "type": "histogram",
         "x": [
          "2018-03-04"
         ],
         "xaxis": "x",
         "y": [
          15840
         ],
         "yaxis": "y"
        },
        {
         "alignmentgroup": "True",
         "bingroup": "x",
         "histfunc": "sum",
         "hovertemplate": "Name=Moat<br>Date=%{x}<br>sum of Occurrence=%{y}<extra></extra>",
         "legendgroup": "Moat",
         "marker": {
          "color": "#19d3f3",
          "pattern": {
           "shape": ""
          }
         },
         "name": "Moat",
         "offsetgroup": "Moat",
         "orientation": "v",
         "showlegend": true,
         "type": "histogram",
         "x": [
          "2017-12-03"
         ],
         "xaxis": "x",
         "y": [
          15131
         ],
         "yaxis": "y"
        },
        {
         "alignmentgroup": "True",
         "bingroup": "x",
         "histfunc": "sum",
         "hovertemplate": "Name=Unity3d Ads<br>Date=%{x}<br>sum of Occurrence=%{y}<extra></extra>",
         "legendgroup": "Unity3d Ads",
         "marker": {
          "color": "#FF6692",
          "pattern": {
           "shape": ""
          }
         },
         "name": "Unity3d Ads",
         "offsetgroup": "Unity3d Ads",
         "orientation": "v",
         "showlegend": true,
         "type": "histogram",
         "x": [
          "2018-03-04"
         ],
         "xaxis": "x",
         "y": [
          14929
         ],
         "yaxis": "y"
        },
        {
         "alignmentgroup": "True",
         "bingroup": "x",
         "histfunc": "sum",
         "hovertemplate": "Name=Twitter MoPub<br>Date=%{x}<br>sum of Occurrence=%{y}<extra></extra>",
         "legendgroup": "Twitter MoPub",
         "marker": {
          "color": "#B6E880",
          "pattern": {
           "shape": ""
          }
         },
         "name": "Twitter MoPub",
         "offsetgroup": "Twitter MoPub",
         "orientation": "v",
         "showlegend": true,
         "type": "histogram",
         "x": [
          "2017-09-27"
         ],
         "xaxis": "x",
         "y": [
          13844
         ],
         "yaxis": "y"
        },
        {
         "alignmentgroup": "True",
         "bingroup": "x",
         "histfunc": "sum",
         "hovertemplate": "Name=AppLovin (MAX and SparkLabs)<br>Date=%{x}<br>sum of Occurrence=%{y}<extra></extra>",
         "legendgroup": "AppLovin (MAX and SparkLabs)",
         "marker": {
          "color": "#FF97FF",
          "pattern": {
           "shape": ""
          }
         },
         "name": "AppLovin (MAX and SparkLabs)",
         "offsetgroup": "AppLovin (MAX and SparkLabs)",
         "orientation": "v",
         "showlegend": true,
         "type": "histogram",
         "x": [
          "2018-01-05"
         ],
         "xaxis": "x",
         "y": [
          11686
         ],
         "yaxis": "y"
        },
        {
         "alignmentgroup": "True",
         "bingroup": "x",
         "histfunc": "sum",
         "hovertemplate": "Name=Adjust<br>Date=%{x}<br>sum of Occurrence=%{y}<extra></extra>",
         "legendgroup": "Adjust",
         "marker": {
          "color": "#FECB52",
          "pattern": {
           "shape": ""
          }
         },
         "name": "Adjust",
         "offsetgroup": "Adjust",
         "orientation": "v",
         "showlegend": true,
         "type": "histogram",
         "x": [
          "2017-12-03"
         ],
         "xaxis": "x",
         "y": [
          11362
         ],
         "yaxis": "y"
        },
        {
         "alignmentgroup": "True",
         "bingroup": "x",
         "histfunc": "sum",
         "hovertemplate": "Name=AdColony<br>Date=%{x}<br>sum of Occurrence=%{y}<extra></extra>",
         "legendgroup": "AdColony",
         "marker": {
          "color": "#636efa",
          "pattern": {
           "shape": ""
          }
         },
         "name": "AdColony",
         "offsetgroup": "AdColony",
         "orientation": "v",
         "showlegend": true,
         "type": "histogram",
         "x": [
          "2018-03-04"
         ],
         "xaxis": "x",
         "y": [
          9266
         ],
         "yaxis": "y"
        },
        {
         "alignmentgroup": "True",
         "bingroup": "x",
         "histfunc": "sum",
         "hovertemplate": "Name=Vungle<br>Date=%{x}<br>sum of Occurrence=%{y}<extra></extra>",
         "legendgroup": "Vungle",
         "marker": {
          "color": "#EF553B",
          "pattern": {
           "shape": ""
          }
         },
         "name": "Vungle",
         "offsetgroup": "Vungle",
         "orientation": "v",
         "showlegend": true,
         "type": "histogram",
         "x": [
          "2019-03-10"
         ],
         "xaxis": "x",
         "y": [
          9012
         ],
         "yaxis": "y"
        },
        {
         "alignmentgroup": "True",
         "bingroup": "x",
         "histfunc": "sum",
         "hovertemplate": "Name=ironSource<br>Date=%{x}<br>sum of Occurrence=%{y}<extra></extra>",
         "legendgroup": "ironSource",
         "marker": {
          "color": "#00cc96",
          "pattern": {
           "shape": ""
          }
         },
         "name": "ironSource",
         "offsetgroup": "ironSource",
         "orientation": "v",
         "showlegend": true,
         "type": "histogram",
         "x": [
          "2018-08-16"
         ],
         "xaxis": "x",
         "y": [
          8136
         ],
         "yaxis": "y"
        },
        {
         "alignmentgroup": "True",
         "bingroup": "x",
         "histfunc": "sum",
         "hovertemplate": "Name=Integral Ad Science<br>Date=%{x}<br>sum of Occurrence=%{y}<extra></extra>",
         "legendgroup": "Integral Ad Science",
         "marker": {
          "color": "#ab63fa",
          "pattern": {
           "shape": ""
          }
         },
         "name": "Integral Ad Science",
         "offsetgroup": "Integral Ad Science",
         "orientation": "v",
         "showlegend": true,
         "type": "histogram",
         "x": [
          "2019-10-26"
         ],
         "xaxis": "x",
         "y": [
          7615
         ],
         "yaxis": "y"
        },
        {
         "alignmentgroup": "True",
         "bingroup": "x",
         "histfunc": "sum",
         "hovertemplate": "Name=IAB Open Measurement<br>Date=%{x}<br>sum of Occurrence=%{y}<extra></extra>",
         "legendgroup": "IAB Open Measurement",
         "marker": {
          "color": "#FFA15A",
          "pattern": {
           "shape": ""
          }
         },
         "name": "IAB Open Measurement",
         "offsetgroup": "IAB Open Measurement",
         "orientation": "v",
         "showlegend": true,
         "type": "histogram",
         "x": [
          "2020-09-19"
         ],
         "xaxis": "x",
         "y": [
          7594
         ],
         "yaxis": "y"
        },
        {
         "alignmentgroup": "True",
         "bingroup": "x",
         "histfunc": "sum",
         "hovertemplate": "Name=Amazon Advertisement<br>Date=%{x}<br>sum of Occurrence=%{y}<extra></extra>",
         "legendgroup": "Amazon Advertisement",
         "marker": {
          "color": "#19d3f3",
          "pattern": {
           "shape": ""
          }
         },
         "name": "Amazon Advertisement",
         "offsetgroup": "Amazon Advertisement",
         "orientation": "v",
         "showlegend": true,
         "type": "histogram",
         "x": [
          "2018-03-04"
         ],
         "xaxis": "x",
         "y": [
          7101
         ],
         "yaxis": "y"
        },
        {
         "alignmentgroup": "True",
         "bingroup": "x",
         "histfunc": "sum",
         "hovertemplate": "Name=OneSignal<br>Date=%{x}<br>sum of Occurrence=%{y}<extra></extra>",
         "legendgroup": "OneSignal",
         "marker": {
          "color": "#FF6692",
          "pattern": {
           "shape": ""
          }
         },
         "name": "OneSignal",
         "offsetgroup": "OneSignal",
         "orientation": "v",
         "showlegend": true,
         "type": "histogram",
         "x": [
          "2019-04-15"
         ],
         "xaxis": "x",
         "y": [
          6696
         ],
         "yaxis": "y"
        },
        {
         "alignmentgroup": "True",
         "bingroup": "x",
         "histfunc": "sum",
         "hovertemplate": "Name=Branch<br>Date=%{x}<br>sum of Occurrence=%{y}<extra></extra>",
         "legendgroup": "Branch",
         "marker": {
          "color": "#B6E880",
          "pattern": {
           "shape": ""
          }
         },
         "name": "Branch",
         "offsetgroup": "Branch",
         "orientation": "v",
         "showlegend": true,
         "type": "histogram",
         "x": [
          "2019-03-10"
         ],
         "xaxis": "x",
         "y": [
          6677
         ],
         "yaxis": "y"
        },
        {
         "alignmentgroup": "True",
         "bingroup": "x",
         "histfunc": "sum",
         "hovertemplate": "Name=ChartBoost<br>Date=%{x}<br>sum of Occurrence=%{y}<extra></extra>",
         "legendgroup": "ChartBoost",
         "marker": {
          "color": "#FF97FF",
          "pattern": {
           "shape": ""
          }
         },
         "name": "ChartBoost",
         "offsetgroup": "ChartBoost",
         "orientation": "v",
         "showlegend": true,
         "type": "histogram",
         "x": [
          "2017-12-03"
         ],
         "xaxis": "x",
         "y": [
          6435
         ],
         "yaxis": "y"
        },
        {
         "alignmentgroup": "True",
         "bingroup": "x",
         "histfunc": "sum",
         "hovertemplate": "Name=Tapjoy<br>Date=%{x}<br>sum of Occurrence=%{y}<extra></extra>",
         "legendgroup": "Tapjoy",
         "marker": {
          "color": "#FECB52",
          "pattern": {
           "shape": ""
          }
         },
         "name": "Tapjoy",
         "offsetgroup": "Tapjoy",
         "orientation": "v",
         "showlegend": true,
         "type": "histogram",
         "x": [
          "2019-04-15"
         ],
         "xaxis": "x",
         "y": [
          5722
         ],
         "yaxis": "y"
        },
        {
         "alignmentgroup": "True",
         "bingroup": "x",
         "histfunc": "sum",
         "hovertemplate": "Name=Millennial Media<br>Date=%{x}<br>sum of Occurrence=%{y}<extra></extra>",
         "legendgroup": "Millennial Media",
         "marker": {
          "color": "#636efa",
          "pattern": {
           "shape": ""
          }
         },
         "name": "Millennial Media",
         "offsetgroup": "Millennial Media",
         "orientation": "v",
         "showlegend": true,
         "type": "histogram",
         "x": [
          "2018-03-04"
         ],
         "xaxis": "x",
         "y": [
          5328
         ],
         "yaxis": "y"
        },
        {
         "alignmentgroup": "True",
         "bingroup": "x",
         "histfunc": "sum",
         "hovertemplate": "Name=OpenTelemetry (OpenCensus, OpenTracing)<br>Date=%{x}<br>sum of Occurrence=%{y}<extra></extra>",
         "legendgroup": "OpenTelemetry (OpenCensus, OpenTracing)",
         "marker": {
          "color": "#EF553B",
          "pattern": {
           "shape": ""
          }
         },
         "name": "OpenTelemetry (OpenCensus, OpenTracing)",
         "offsetgroup": "OpenTelemetry (OpenCensus, OpenTracing)",
         "orientation": "v",
         "showlegend": true,
         "type": "histogram",
         "x": [
          "2021-05-07"
         ],
         "xaxis": "x",
         "y": [
          5168
         ],
         "yaxis": "y"
        },
        {
         "alignmentgroup": "True",
         "bingroup": "x",
         "histfunc": "sum",
         "hovertemplate": "Name=HockeyApp<br>Date=%{x}<br>sum of Occurrence=%{y}<extra></extra>",
         "legendgroup": "HockeyApp",
         "marker": {
          "color": "#00cc96",
          "pattern": {
           "shape": ""
          }
         },
         "name": "HockeyApp",
         "offsetgroup": "HockeyApp",
         "orientation": "v",
         "showlegend": true,
         "type": "histogram",
         "x": [
          "2017-09-24"
         ],
         "xaxis": "x",
         "y": [
          4987
         ],
         "yaxis": "y"
        },
        {
         "alignmentgroup": "True",
         "bingroup": "x",
         "histfunc": "sum",
         "hovertemplate": "Name=MixPanel<br>Date=%{x}<br>sum of Occurrence=%{y}<extra></extra>",
         "legendgroup": "MixPanel",
         "marker": {
          "color": "#ab63fa",
          "pattern": {
           "shape": ""
          }
         },
         "name": "MixPanel",
         "offsetgroup": "MixPanel",
         "orientation": "v",
         "showlegend": true,
         "type": "histogram",
         "x": [
          "2018-03-04"
         ],
         "xaxis": "x",
         "y": [
          4977
         ],
         "yaxis": "y"
        },
        {
         "alignmentgroup": "True",
         "bingroup": "x",
         "histfunc": "sum",
         "hovertemplate": "Name=Microsoft Visual Studio App Center Crashes<br>Date=%{x}<br>sum of Occurrence=%{y}<extra></extra>",
         "legendgroup": "Microsoft Visual Studio App Center Crashes",
         "marker": {
          "color": "#FFA15A",
          "pattern": {
           "shape": ""
          }
         },
         "name": "Microsoft Visual Studio App Center Crashes",
         "offsetgroup": "Microsoft Visual Studio App Center Crashes",
         "orientation": "v",
         "showlegend": true,
         "type": "histogram",
         "x": [
          "2019-11-09"
         ],
         "xaxis": "x",
         "y": [
          4441
         ],
         "yaxis": "y"
        },
        {
         "alignmentgroup": "True",
         "bingroup": "x",
         "histfunc": "sum",
         "hovertemplate": "Name=Amplitude<br>Date=%{x}<br>sum of Occurrence=%{y}<extra></extra>",
         "legendgroup": "Amplitude",
         "marker": {
          "color": "#19d3f3",
          "pattern": {
           "shape": ""
          }
         },
         "name": "Amplitude",
         "offsetgroup": "Amplitude",
         "orientation": "v",
         "showlegend": true,
         "type": "histogram",
         "x": [
          "2018-03-04"
         ],
         "xaxis": "x",
         "y": [
          4368
         ],
         "yaxis": "y"
        },
        {
         "alignmentgroup": "True",
         "bingroup": "x",
         "histfunc": "sum",
         "hovertemplate": "Name=myTarget<br>Date=%{x}<br>sum of Occurrence=%{y}<extra></extra>",
         "legendgroup": "myTarget",
         "marker": {
          "color": "#FF6692",
          "pattern": {
           "shape": ""
          }
         },
         "name": "myTarget",
         "offsetgroup": "myTarget",
         "orientation": "v",
         "showlegend": true,
         "type": "histogram",
         "x": [
          "2019-04-15"
         ],
         "xaxis": "x",
         "y": [
          4100
         ],
         "yaxis": "y"
        },
        {
         "alignmentgroup": "True",
         "bingroup": "x",
         "histfunc": "sum",
         "hovertemplate": "Name=Braze (formerly Appboy)<br>Date=%{x}<br>sum of Occurrence=%{y}<extra></extra>",
         "legendgroup": "Braze (formerly Appboy)",
         "marker": {
          "color": "#B6E880",
          "pattern": {
           "shape": ""
          }
         },
         "name": "Braze (formerly Appboy)",
         "offsetgroup": "Braze (formerly Appboy)",
         "orientation": "v",
         "showlegend": true,
         "type": "histogram",
         "x": [
          "2017-09-24"
         ],
         "xaxis": "x",
         "y": [
          3817
         ],
         "yaxis": "y"
        },
        {
         "alignmentgroup": "True",
         "bingroup": "x",
         "histfunc": "sum",
         "hovertemplate": "Name=Ogury Presage<br>Date=%{x}<br>sum of Occurrence=%{y}<extra></extra>",
         "legendgroup": "Ogury Presage",
         "marker": {
          "color": "#FF97FF",
          "pattern": {
           "shape": ""
          }
         },
         "name": "Ogury Presage",
         "offsetgroup": "Ogury Presage",
         "orientation": "v",
         "showlegend": true,
         "type": "histogram",
         "x": [
          "2017-09-27"
         ],
         "xaxis": "x",
         "y": [
          3582
         ],
         "yaxis": "y"
        },
        {
         "alignmentgroup": "True",
         "bingroup": "x",
         "histfunc": "sum",
         "hovertemplate": "Name=Huawei Mobile Services (HMS) Core<br>Date=%{x}<br>sum of Occurrence=%{y}<extra></extra>",
         "legendgroup": "Huawei Mobile Services (HMS) Core",
         "marker": {
          "color": "#FECB52",
          "pattern": {
           "shape": ""
          }
         },
         "name": "Huawei Mobile Services (HMS) Core",
         "offsetgroup": "Huawei Mobile Services (HMS) Core",
         "orientation": "v",
         "showlegend": true,
         "type": "histogram",
         "x": [
          "2020-11-25"
         ],
         "xaxis": "x",
         "y": [
          3567
         ],
         "yaxis": "y"
        },
        {
         "alignmentgroup": "True",
         "bingroup": "x",
         "histfunc": "sum",
         "hovertemplate": "Name=Smaato<br>Date=%{x}<br>sum of Occurrence=%{y}<extra></extra>",
         "legendgroup": "Smaato",
         "marker": {
          "color": "#636efa",
          "pattern": {
           "shape": ""
          }
         },
         "name": "Smaato",
         "offsetgroup": "Smaato",
         "orientation": "v",
         "showlegend": true,
         "type": "histogram",
         "x": [
          "2018-01-05"
         ],
         "xaxis": "x",
         "y": [
          3487
         ],
         "yaxis": "y"
        },
        {
         "alignmentgroup": "True",
         "bingroup": "x",
         "histfunc": "sum",
         "hovertemplate": "Name=Microsoft Visual Studio App Center Analytics<br>Date=%{x}<br>sum of Occurrence=%{y}<extra></extra>",
         "legendgroup": "Microsoft Visual Studio App Center Analytics",
         "marker": {
          "color": "#EF553B",
          "pattern": {
           "shape": ""
          }
         },
         "name": "Microsoft Visual Studio App Center Analytics",
         "offsetgroup": "Microsoft Visual Studio App Center Analytics",
         "orientation": "v",
         "showlegend": true,
         "type": "histogram",
         "x": [
          "2019-11-09"
         ],
         "xaxis": "x",
         "y": [
          3486
         ],
         "yaxis": "y"
        },
        {
         "alignmentgroup": "True",
         "bingroup": "x",
         "histfunc": "sum",
         "hovertemplate": "Name=AltBeacon<br>Date=%{x}<br>sum of Occurrence=%{y}<extra></extra>",
         "legendgroup": "AltBeacon",
         "marker": {
          "color": "#00cc96",
          "pattern": {
           "shape": ""
          }
         },
         "name": "AltBeacon",
         "offsetgroup": "AltBeacon",
         "orientation": "v",
         "showlegend": true,
         "type": "histogram",
         "x": [
          "2019-10-26"
         ],
         "xaxis": "x",
         "y": [
          3300
         ],
         "yaxis": "y"
        },
        {
         "alignmentgroup": "True",
         "bingroup": "x",
         "histfunc": "sum",
         "hovertemplate": "Name=Startapp<br>Date=%{x}<br>sum of Occurrence=%{y}<extra></extra>",
         "legendgroup": "Startapp",
         "marker": {
          "color": "#ab63fa",
          "pattern": {
           "shape": ""
          }
         },
         "name": "Startapp",
         "offsetgroup": "Startapp",
         "orientation": "v",
         "showlegend": true,
         "type": "histogram",
         "x": [
          "2019-04-15"
         ],
         "xaxis": "x",
         "y": [
          3294
         ],
         "yaxis": "y"
        },
        {
         "alignmentgroup": "True",
         "bingroup": "x",
         "histfunc": "sum",
         "hovertemplate": "Name=AppMetrica<br>Date=%{x}<br>sum of Occurrence=%{y}<extra></extra>",
         "legendgroup": "AppMetrica",
         "marker": {
          "color": "#FFA15A",
          "pattern": {
           "shape": ""
          }
         },
         "name": "AppMetrica",
         "offsetgroup": "AppMetrica",
         "orientation": "v",
         "showlegend": true,
         "type": "histogram",
         "x": [
          "2018-03-04"
         ],
         "xaxis": "x",
         "y": [
          3274
         ],
         "yaxis": "y"
        },
        {
         "alignmentgroup": "True",
         "bingroup": "x",
         "histfunc": "sum",
         "hovertemplate": "Name=Fyber<br>Date=%{x}<br>sum of Occurrence=%{y}<extra></extra>",
         "legendgroup": "Fyber",
         "marker": {
          "color": "#19d3f3",
          "pattern": {
           "shape": ""
          }
         },
         "name": "Fyber",
         "offsetgroup": "Fyber",
         "orientation": "v",
         "showlegend": true,
         "type": "histogram",
         "x": [
          "2018-03-04"
         ],
         "xaxis": "x",
         "y": [
          3076
         ],
         "yaxis": "y"
        },
        {
         "alignmentgroup": "True",
         "bingroup": "x",
         "histfunc": "sum",
         "hovertemplate": "Name=Heyzap (bought by Fyber)<br>Date=%{x}<br>sum of Occurrence=%{y}<extra></extra>",
         "legendgroup": "Heyzap (bought by Fyber)",
         "marker": {
          "color": "#FF6692",
          "pattern": {
           "shape": ""
          }
         },
         "name": "Heyzap (bought by Fyber)",
         "offsetgroup": "Heyzap (bought by Fyber)",
         "orientation": "v",
         "showlegend": true,
         "type": "histogram",
         "x": [
          "2018-08-16"
         ],
         "xaxis": "x",
         "y": [
          3045
         ],
         "yaxis": "y"
        },
        {
         "alignmentgroup": "True",
         "bingroup": "x",
         "histfunc": "sum",
         "hovertemplate": "Name=Fyber SponsorPay<br>Date=%{x}<br>sum of Occurrence=%{y}<extra></extra>",
         "legendgroup": "Fyber SponsorPay",
         "marker": {
          "color": "#B6E880",
          "pattern": {
           "shape": ""
          }
         },
         "name": "Fyber SponsorPay",
         "offsetgroup": "Fyber SponsorPay",
         "orientation": "v",
         "showlegend": true,
         "type": "histogram",
         "x": [
          "2018-03-04"
         ],
         "xaxis": "x",
         "y": [
          2696
         ],
         "yaxis": "y"
        },
        {
         "alignmentgroup": "True",
         "bingroup": "x",
         "histfunc": "sum",
         "hovertemplate": "Name=Bugsnag<br>Date=%{x}<br>sum of Occurrence=%{y}<extra></extra>",
         "legendgroup": "Bugsnag",
         "marker": {
          "color": "#FF97FF",
          "pattern": {
           "shape": ""
          }
         },
         "name": "Bugsnag",
         "offsetgroup": "Bugsnag",
         "orientation": "v",
         "showlegend": true,
         "type": "histogram",
         "x": [
          "2019-06-12"
         ],
         "xaxis": "x",
         "y": [
          2511
         ],
         "yaxis": "y"
        },
        {
         "alignmentgroup": "True",
         "bingroup": "x",
         "histfunc": "sum",
         "hovertemplate": "Name=ComScore<br>Date=%{x}<br>sum of Occurrence=%{y}<extra></extra>",
         "legendgroup": "ComScore",
         "marker": {
          "color": "#FECB52",
          "pattern": {
           "shape": ""
          }
         },
         "name": "ComScore",
         "offsetgroup": "ComScore",
         "orientation": "v",
         "showlegend": true,
         "type": "histogram",
         "x": [
          "2017-12-03"
         ],
         "xaxis": "x",
         "y": [
          2412
         ],
         "yaxis": "y"
        },
        {
         "alignmentgroup": "True",
         "bingroup": "x",
         "histfunc": "sum",
         "hovertemplate": "Name=Mapbox<br>Date=%{x}<br>sum of Occurrence=%{y}<extra></extra>",
         "legendgroup": "Mapbox",
         "marker": {
          "color": "#636efa",
          "pattern": {
           "shape": ""
          }
         },
         "name": "Mapbox",
         "offsetgroup": "Mapbox",
         "orientation": "v",
         "showlegend": true,
         "type": "histogram",
         "x": [
          "2019-03-10"
         ],
         "xaxis": "x",
         "y": [
          2402
         ],
         "yaxis": "y"
        },
        {
         "alignmentgroup": "True",
         "bingroup": "x",
         "histfunc": "sum",
         "hovertemplate": "Name=Demdex<br>Date=%{x}<br>sum of Occurrence=%{y}<extra></extra>",
         "legendgroup": "Demdex",
         "marker": {
          "color": "#EF553B",
          "pattern": {
           "shape": ""
          }
         },
         "name": "Demdex",
         "offsetgroup": "Demdex",
         "orientation": "v",
         "showlegend": true,
         "type": "histogram",
         "x": [
          "2017-11-15"
         ],
         "xaxis": "x",
         "y": [
          2321
         ],
         "yaxis": "y"
        },
        {
         "alignmentgroup": "True",
         "bingroup": "x",
         "histfunc": "sum",
         "hovertemplate": "Name=Yandex Ad<br>Date=%{x}<br>sum of Occurrence=%{y}<extra></extra>",
         "legendgroup": "Yandex Ad",
         "marker": {
          "color": "#00cc96",
          "pattern": {
           "shape": ""
          }
         },
         "name": "Yandex Ad",
         "offsetgroup": "Yandex Ad",
         "orientation": "v",
         "showlegend": true,
         "type": "histogram",
         "x": [
          "2018-03-04"
         ],
         "xaxis": "x",
         "y": [
          2245
         ],
         "yaxis": "y"
        },
        {
         "alignmentgroup": "True",
         "bingroup": "x",
         "histfunc": "sum",
         "hovertemplate": "Name=Appnext<br>Date=%{x}<br>sum of Occurrence=%{y}<extra></extra>",
         "legendgroup": "Appnext",
         "marker": {
          "color": "#ab63fa",
          "pattern": {
           "shape": ""
          }
         },
         "name": "Appnext",
         "offsetgroup": "Appnext",
         "orientation": "v",
         "showlegend": true,
         "type": "histogram",
         "x": [
          "2019-03-19"
         ],
         "xaxis": "x",
         "y": [
          1992
         ],
         "yaxis": "y"
        },
        {
         "alignmentgroup": "True",
         "bingroup": "x",
         "histfunc": "sum",
         "hovertemplate": "Name=Mintegral<br>Date=%{x}<br>sum of Occurrence=%{y}<extra></extra>",
         "legendgroup": "Mintegral",
         "marker": {
          "color": "#FFA15A",
          "pattern": {
           "shape": ""
          }
         },
         "name": "Mintegral",
         "offsetgroup": "Mintegral",
         "orientation": "v",
         "showlegend": true,
         "type": "histogram",
         "x": [
          "2019-04-15"
         ],
         "xaxis": "x",
         "y": [
          1985
         ],
         "yaxis": "y"
        },
        {
         "alignmentgroup": "True",
         "bingroup": "x",
         "histfunc": "sum",
         "hovertemplate": "Name=Umeng Analytics<br>Date=%{x}<br>sum of Occurrence=%{y}<extra></extra>",
         "legendgroup": "Umeng Analytics",
         "marker": {
          "color": "#19d3f3",
          "pattern": {
           "shape": ""
          }
         },
         "name": "Umeng Analytics",
         "offsetgroup": "Umeng Analytics",
         "orientation": "v",
         "showlegend": true,
         "type": "histogram",
         "x": [
          "2018-03-04"
         ],
         "xaxis": "x",
         "y": [
          1874
         ],
         "yaxis": "y"
        },
        {
         "alignmentgroup": "True",
         "bingroup": "x",
         "histfunc": "sum",
         "hovertemplate": "Name=Bugly<br>Date=%{x}<br>sum of Occurrence=%{y}<extra></extra>",
         "legendgroup": "Bugly",
         "marker": {
          "color": "#FF6692",
          "pattern": {
           "shape": ""
          }
         },
         "name": "Bugly",
         "offsetgroup": "Bugly",
         "orientation": "v",
         "showlegend": true,
         "type": "histogram",
         "x": [
          "2019-04-15"
         ],
         "xaxis": "x",
         "y": [
          1843
         ],
         "yaxis": "y"
        },
        {
         "alignmentgroup": "True",
         "bingroup": "x",
         "histfunc": "sum",
         "hovertemplate": "Name=HelpShift<br>Date=%{x}<br>sum of Occurrence=%{y}<extra></extra>",
         "legendgroup": "HelpShift",
         "marker": {
          "color": "#B6E880",
          "pattern": {
           "shape": ""
          }
         },
         "name": "HelpShift",
         "offsetgroup": "HelpShift",
         "orientation": "v",
         "showlegend": true,
         "type": "histogram",
         "x": [
          "2017-12-03"
         ],
         "xaxis": "x",
         "y": [
          1705
         ],
         "yaxis": "y"
        },
        {
         "alignmentgroup": "True",
         "bingroup": "x",
         "histfunc": "sum",
         "hovertemplate": "Name=Segment<br>Date=%{x}<br>sum of Occurrence=%{y}<extra></extra>",
         "legendgroup": "Segment",
         "marker": {
          "color": "#FF97FF",
          "pattern": {
           "shape": ""
          }
         },
         "name": "Segment",
         "offsetgroup": "Segment",
         "orientation": "v",
         "showlegend": true,
         "type": "histogram",
         "x": [
          "2017-12-03"
         ],
         "xaxis": "x",
         "y": [
          1703
         ],
         "yaxis": "y"
        },
        {
         "alignmentgroup": "True",
         "bingroup": "x",
         "histfunc": "sum",
         "hovertemplate": "Name=Urbanairship<br>Date=%{x}<br>sum of Occurrence=%{y}<extra></extra>",
         "legendgroup": "Urbanairship",
         "marker": {
          "color": "#FECB52",
          "pattern": {
           "shape": ""
          }
         },
         "name": "Urbanairship",
         "offsetgroup": "Urbanairship",
         "orientation": "v",
         "showlegend": true,
         "type": "histogram",
         "x": [
          "2018-03-04"
         ],
         "xaxis": "x",
         "y": [
          1630
         ],
         "yaxis": "y"
        },
        {
         "alignmentgroup": "True",
         "bingroup": "x",
         "histfunc": "sum",
         "hovertemplate": "Name=New Relic<br>Date=%{x}<br>sum of Occurrence=%{y}<extra></extra>",
         "legendgroup": "New Relic",
         "marker": {
          "color": "#636efa",
          "pattern": {
           "shape": ""
          }
         },
         "name": "New Relic",
         "offsetgroup": "New Relic",
         "orientation": "v",
         "showlegend": true,
         "type": "histogram",
         "x": [
          "2018-03-04"
         ],
         "xaxis": "x",
         "y": [
          1616
         ],
         "yaxis": "y"
        },
        {
         "alignmentgroup": "True",
         "bingroup": "x",
         "histfunc": "sum",
         "hovertemplate": "Name=Kochava<br>Date=%{x}<br>sum of Occurrence=%{y}<extra></extra>",
         "legendgroup": "Kochava",
         "marker": {
          "color": "#EF553B",
          "pattern": {
           "shape": ""
          }
         },
         "name": "Kochava",
         "offsetgroup": "Kochava",
         "orientation": "v",
         "showlegend": true,
         "type": "histogram",
         "x": [
          "2018-03-04"
         ],
         "xaxis": "x",
         "y": [
          1539
         ],
         "yaxis": "y"
        },
        {
         "alignmentgroup": "True",
         "bingroup": "x",
         "histfunc": "sum",
         "hovertemplate": "Name=Localytics<br>Date=%{x}<br>sum of Occurrence=%{y}<extra></extra>",
         "legendgroup": "Localytics",
         "marker": {
          "color": "#00cc96",
          "pattern": {
           "shape": ""
          }
         },
         "name": "Localytics",
         "offsetgroup": "Localytics",
         "orientation": "v",
         "showlegend": true,
         "type": "histogram",
         "x": [
          "2017-09-24"
         ],
         "xaxis": "x",
         "y": [
          1521
         ],
         "yaxis": "y"
        },
        {
         "alignmentgroup": "True",
         "bingroup": "x",
         "histfunc": "sum",
         "hovertemplate": "Name=ATInternet<br>Date=%{x}<br>sum of Occurrence=%{y}<extra></extra>",
         "legendgroup": "ATInternet",
         "marker": {
          "color": "#ab63fa",
          "pattern": {
           "shape": ""
          }
         },
         "name": "ATInternet",
         "offsetgroup": "ATInternet",
         "orientation": "v",
         "showlegend": true,
         "type": "histogram",
         "x": [
          "2017-09-25"
         ],
         "xaxis": "x",
         "y": [
          1507
         ],
         "yaxis": "y"
        },
        {
         "alignmentgroup": "True",
         "bingroup": "x",
         "histfunc": "sum",
         "hovertemplate": "Name=Smart<br>Date=%{x}<br>sum of Occurrence=%{y}<extra></extra>",
         "legendgroup": "Smart",
         "marker": {
          "color": "#FFA15A",
          "pattern": {
           "shape": ""
          }
         },
         "name": "Smart",
         "offsetgroup": "Smart",
         "orientation": "v",
         "showlegend": true,
         "type": "histogram",
         "x": [
          "2017-09-24"
         ],
         "xaxis": "x",
         "y": [
          1359
         ],
         "yaxis": "y"
        },
        {
         "alignmentgroup": "True",
         "bingroup": "x",
         "histfunc": "sum",
         "hovertemplate": "Name=SmartLook<br>Date=%{x}<br>sum of Occurrence=%{y}<extra></extra>",
         "legendgroup": "SmartLook",
         "marker": {
          "color": "#19d3f3",
          "pattern": {
           "shape": ""
          }
         },
         "name": "SmartLook",
         "offsetgroup": "SmartLook",
         "orientation": "v",
         "showlegend": true,
         "type": "histogram",
         "x": [
          "2020-02-25"
         ],
         "xaxis": "x",
         "y": [
          1326
         ],
         "yaxis": "y"
        },
        {
         "alignmentgroup": "True",
         "bingroup": "x",
         "histfunc": "sum",
         "hovertemplate": "Name=VKontakte SDK<br>Date=%{x}<br>sum of Occurrence=%{y}<extra></extra>",
         "legendgroup": "VKontakte SDK",
         "marker": {
          "color": "#FF6692",
          "pattern": {
           "shape": ""
          }
         },
         "name": "VKontakte SDK",
         "offsetgroup": "VKontakte SDK",
         "orientation": "v",
         "showlegend": true,
         "type": "histogram",
         "x": [
          "2021-03-01"
         ],
         "xaxis": "x",
         "y": [
          1306
         ],
         "yaxis": "y"
        },
        {
         "alignmentgroup": "True",
         "bingroup": "x",
         "histfunc": "sum",
         "hovertemplate": "Name=LeanPlum<br>Date=%{x}<br>sum of Occurrence=%{y}<extra></extra>",
         "legendgroup": "LeanPlum",
         "marker": {
          "color": "#B6E880",
          "pattern": {
           "shape": ""
          }
         },
         "name": "LeanPlum",
         "offsetgroup": "LeanPlum",
         "orientation": "v",
         "showlegend": true,
         "type": "histogram",
         "x": [
          "2017-09-24"
         ],
         "xaxis": "x",
         "y": [
          1287
         ],
         "yaxis": "y"
        },
        {
         "alignmentgroup": "True",
         "bingroup": "x",
         "histfunc": "sum",
         "hovertemplate": "Name=INFOnline<br>Date=%{x}<br>sum of Occurrence=%{y}<extra></extra>",
         "legendgroup": "INFOnline",
         "marker": {
          "color": "#FF97FF",
          "pattern": {
           "shape": ""
          }
         },
         "name": "INFOnline",
         "offsetgroup": "INFOnline",
         "orientation": "v",
         "showlegend": true,
         "type": "histogram",
         "x": [
          "2019-04-15"
         ],
         "xaxis": "x",
         "y": [
          1254
         ],
         "yaxis": "y"
        },
        {
         "alignmentgroup": "True",
         "bingroup": "x",
         "histfunc": "sum",
         "hovertemplate": "Name=Amazon Analytics (Amazon insights)<br>Date=%{x}<br>sum of Occurrence=%{y}<extra></extra>",
         "legendgroup": "Amazon Analytics (Amazon insights)",
         "marker": {
          "color": "#FECB52",
          "pattern": {
           "shape": ""
          }
         },
         "name": "Amazon Analytics (Amazon insights)",
         "offsetgroup": "Amazon Analytics (Amazon insights)",
         "orientation": "v",
         "showlegend": true,
         "type": "histogram",
         "x": [
          "2018-03-04"
         ],
         "xaxis": "x",
         "y": [
          1253
         ],
         "yaxis": "y"
        },
        {
         "alignmentgroup": "True",
         "bingroup": "x",
         "histfunc": "sum",
         "hovertemplate": "Name=Pangle<br>Date=%{x}<br>sum of Occurrence=%{y}<extra></extra>",
         "legendgroup": "Pangle",
         "marker": {
          "color": "#636efa",
          "pattern": {
           "shape": ""
          }
         },
         "name": "Pangle",
         "offsetgroup": "Pangle",
         "orientation": "v",
         "showlegend": true,
         "type": "histogram",
         "x": [
          "2021-02-28"
         ],
         "xaxis": "x",
         "y": [
          1228
         ],
         "yaxis": "y"
        },
        {
         "alignmentgroup": "True",
         "bingroup": "x",
         "histfunc": "sum",
         "hovertemplate": "Name=Appodeal<br>Date=%{x}<br>sum of Occurrence=%{y}<extra></extra>",
         "legendgroup": "Appodeal",
         "marker": {
          "color": "#EF553B",
          "pattern": {
           "shape": ""
          }
         },
         "name": "Appodeal",
         "offsetgroup": "Appodeal",
         "orientation": "v",
         "showlegend": true,
         "type": "histogram",
         "x": [
          "2019-03-10"
         ],
         "xaxis": "x",
         "y": [
          1197
         ],
         "yaxis": "y"
        },
        {
         "alignmentgroup": "True",
         "bingroup": "x",
         "histfunc": "sum",
         "hovertemplate": "Name=Appodeal Stack<br>Date=%{x}<br>sum of Occurrence=%{y}<extra></extra>",
         "legendgroup": "Appodeal Stack",
         "marker": {
          "color": "#00cc96",
          "pattern": {
           "shape": ""
          }
         },
         "name": "Appodeal Stack",
         "offsetgroup": "Appodeal Stack",
         "orientation": "v",
         "showlegend": true,
         "type": "histogram",
         "x": [
          "2021-03-01"
         ],
         "xaxis": "x",
         "y": [
          1171
         ],
         "yaxis": "y"
        },
        {
         "alignmentgroup": "True",
         "bingroup": "x",
         "histfunc": "sum",
         "hovertemplate": "Name=Tune<br>Date=%{x}<br>sum of Occurrence=%{y}<extra></extra>",
         "legendgroup": "Tune",
         "marker": {
          "color": "#ab63fa",
          "pattern": {
           "shape": ""
          }
         },
         "name": "Tune",
         "offsetgroup": "Tune",
         "orientation": "v",
         "showlegend": true,
         "type": "histogram",
         "x": [
          "2017-11-02"
         ],
         "xaxis": "x",
         "y": [
          1145
         ],
         "yaxis": "y"
        },
        {
         "alignmentgroup": "True",
         "bingroup": "x",
         "histfunc": "sum",
         "hovertemplate": "Name=Batch<br>Date=%{x}<br>sum of Occurrence=%{y}<extra></extra>",
         "legendgroup": "Batch",
         "marker": {
          "color": "#FFA15A",
          "pattern": {
           "shape": ""
          }
         },
         "name": "Batch",
         "offsetgroup": "Batch",
         "orientation": "v",
         "showlegend": true,
         "type": "histogram",
         "x": [
          "2017-09-24"
         ],
         "xaxis": "x",
         "y": [
          1130
         ],
         "yaxis": "y"
        },
        {
         "alignmentgroup": "True",
         "bingroup": "x",
         "histfunc": "sum",
         "hovertemplate": "Name=Mobvista<br>Date=%{x}<br>sum of Occurrence=%{y}<extra></extra>",
         "legendgroup": "Mobvista",
         "marker": {
          "color": "#19d3f3",
          "pattern": {
           "shape": ""
          }
         },
         "name": "Mobvista",
         "offsetgroup": "Mobvista",
         "orientation": "v",
         "showlegend": true,
         "type": "histogram",
         "x": [
          "2019-03-10"
         ],
         "xaxis": "x",
         "y": [
          1119
         ],
         "yaxis": "y"
        },
        {
         "alignmentgroup": "True",
         "bingroup": "x",
         "histfunc": "sum",
         "hovertemplate": "Name=Ad4Screen<br>Date=%{x}<br>sum of Occurrence=%{y}<extra></extra>",
         "legendgroup": "Ad4Screen",
         "marker": {
          "color": "#FF6692",
          "pattern": {
           "shape": ""
          }
         },
         "name": "Ad4Screen",
         "offsetgroup": "Ad4Screen",
         "orientation": "v",
         "showlegend": true,
         "type": "histogram",
         "x": [
          "2017-09-24"
         ],
         "xaxis": "x",
         "y": [
          1114
         ],
         "yaxis": "y"
        },
        {
         "alignmentgroup": "True",
         "bingroup": "x",
         "histfunc": "sum",
         "hovertemplate": "Name=Criteo<br>Date=%{x}<br>sum of Occurrence=%{y}<extra></extra>",
         "legendgroup": "Criteo",
         "marker": {
          "color": "#B6E880",
          "pattern": {
           "shape": ""
          }
         },
         "name": "Criteo",
         "offsetgroup": "Criteo",
         "orientation": "v",
         "showlegend": true,
         "type": "histogram",
         "x": [
          "2019-03-10"
         ],
         "xaxis": "x",
         "y": [
          1097
         ],
         "yaxis": "y"
        },
        {
         "alignmentgroup": "True",
         "bingroup": "x",
         "histfunc": "sum",
         "hovertemplate": "Name=HyprMX<br>Date=%{x}<br>sum of Occurrence=%{y}<extra></extra>",
         "legendgroup": "HyprMX",
         "marker": {
          "color": "#FF97FF",
          "pattern": {
           "shape": ""
          }
         },
         "name": "HyprMX",
         "offsetgroup": "HyprMX",
         "orientation": "v",
         "showlegend": true,
         "type": "histogram",
         "x": [
          "2019-04-15"
         ],
         "xaxis": "x",
         "y": [
          1082
         ],
         "yaxis": "y"
        },
        {
         "alignmentgroup": "True",
         "bingroup": "x",
         "histfunc": "sum",
         "hovertemplate": "Name=AerServ<br>Date=%{x}<br>sum of Occurrence=%{y}<extra></extra>",
         "legendgroup": "AerServ",
         "marker": {
          "color": "#FECB52",
          "pattern": {
           "shape": ""
          }
         },
         "name": "AerServ",
         "offsetgroup": "AerServ",
         "orientation": "v",
         "showlegend": true,
         "type": "histogram",
         "x": [
          "2019-04-15"
         ],
         "xaxis": "x",
         "y": [
          1079
         ],
         "yaxis": "y"
        },
        {
         "alignmentgroup": "True",
         "bingroup": "x",
         "histfunc": "sum",
         "hovertemplate": "Name=MobFox<br>Date=%{x}<br>sum of Occurrence=%{y}<extra></extra>",
         "legendgroup": "MobFox",
         "marker": {
          "color": "#636efa",
          "pattern": {
           "shape": ""
          }
         },
         "name": "MobFox",
         "offsetgroup": "MobFox",
         "orientation": "v",
         "showlegend": true,
         "type": "histogram",
         "x": [
          "2019-03-19"
         ],
         "xaxis": "x",
         "y": [
          1075
         ],
         "yaxis": "y"
        },
        {
         "alignmentgroup": "True",
         "bingroup": "x",
         "histfunc": "sum",
         "hovertemplate": "Name=Matomo (Piwik)<br>Date=%{x}<br>sum of Occurrence=%{y}<extra></extra>",
         "legendgroup": "Matomo (Piwik)",
         "marker": {
          "color": "#EF553B",
          "pattern": {
           "shape": ""
          }
         },
         "name": "Matomo (Piwik)",
         "offsetgroup": "Matomo (Piwik)",
         "orientation": "v",
         "showlegend": true,
         "type": "histogram",
         "x": [
          "2018-03-04"
         ],
         "xaxis": "x",
         "y": [
          1058
         ],
         "yaxis": "y"
        },
        {
         "alignmentgroup": "True",
         "bingroup": "x",
         "histfunc": "sum",
         "hovertemplate": "Name=Instabug<br>Date=%{x}<br>sum of Occurrence=%{y}<extra></extra>",
         "legendgroup": "Instabug",
         "marker": {
          "color": "#00cc96",
          "pattern": {
           "shape": ""
          }
         },
         "name": "Instabug",
         "offsetgroup": "Instabug",
         "orientation": "v",
         "showlegend": true,
         "type": "histogram",
         "x": [
          "2019-06-12"
         ],
         "xaxis": "x",
         "y": [
          1025
         ],
         "yaxis": "y"
        },
        {
         "alignmentgroup": "True",
         "bingroup": "x",
         "histfunc": "sum",
         "hovertemplate": "Name=GameAnalytics<br>Date=%{x}<br>sum of Occurrence=%{y}<extra></extra>",
         "legendgroup": "GameAnalytics",
         "marker": {
          "color": "#ab63fa",
          "pattern": {
           "shape": ""
          }
         },
         "name": "GameAnalytics",
         "offsetgroup": "GameAnalytics",
         "orientation": "v",
         "showlegend": true,
         "type": "histogram",
         "x": [
          "2019-06-12"
         ],
         "xaxis": "x",
         "y": [
          998
         ],
         "yaxis": "y"
        },
        {
         "alignmentgroup": "True",
         "bingroup": "x",
         "histfunc": "sum",
         "hovertemplate": "Name=Tencent Stats<br>Date=%{x}<br>sum of Occurrence=%{y}<extra></extra>",
         "legendgroup": "Tencent Stats",
         "marker": {
          "color": "#FFA15A",
          "pattern": {
           "shape": ""
          }
         },
         "name": "Tencent Stats",
         "offsetgroup": "Tencent Stats",
         "orientation": "v",
         "showlegend": true,
         "type": "histogram",
         "x": [
          "2018-03-04"
         ],
         "xaxis": "x",
         "y": [
          958
         ],
         "yaxis": "y"
        },
        {
         "alignmentgroup": "True",
         "bingroup": "x",
         "histfunc": "sum",
         "hovertemplate": "Name=AppNexus<br>Date=%{x}<br>sum of Occurrence=%{y}<extra></extra>",
         "legendgroup": "AppNexus",
         "marker": {
          "color": "#19d3f3",
          "pattern": {
           "shape": ""
          }
         },
         "name": "AppNexus",
         "offsetgroup": "AppNexus",
         "orientation": "v",
         "showlegend": true,
         "type": "histogram",
         "x": [
          "2017-09-24"
         ],
         "xaxis": "x",
         "y": [
          932
         ],
         "yaxis": "y"
        },
        {
         "alignmentgroup": "True",
         "bingroup": "x",
         "histfunc": "sum",
         "hovertemplate": "Name=CleverTap<br>Date=%{x}<br>sum of Occurrence=%{y}<extra></extra>",
         "legendgroup": "CleverTap",
         "marker": {
          "color": "#FF6692",
          "pattern": {
           "shape": ""
          }
         },
         "name": "CleverTap",
         "offsetgroup": "CleverTap",
         "orientation": "v",
         "showlegend": true,
         "type": "histogram",
         "x": [
          "2019-03-10"
         ],
         "xaxis": "x",
         "y": [
          908
         ],
         "yaxis": "y"
        },
        {
         "alignmentgroup": "True",
         "bingroup": "x",
         "histfunc": "sum",
         "hovertemplate": "Name=PubNative<br>Date=%{x}<br>sum of Occurrence=%{y}<extra></extra>",
         "legendgroup": "PubNative",
         "marker": {
          "color": "#B6E880",
          "pattern": {
           "shape": ""
          }
         },
         "name": "PubNative",
         "offsetgroup": "PubNative",
         "orientation": "v",
         "showlegend": true,
         "type": "histogram",
         "x": [
          "2019-03-19"
         ],
         "xaxis": "x",
         "y": [
          878
         ],
         "yaxis": "y"
        },
        {
         "alignmentgroup": "True",
         "bingroup": "x",
         "histfunc": "sum",
         "hovertemplate": "Name=Nexage<br>Date=%{x}<br>sum of Occurrence=%{y}<extra></extra>",
         "legendgroup": "Nexage",
         "marker": {
          "color": "#FF97FF",
          "pattern": {
           "shape": ""
          }
         },
         "name": "Nexage",
         "offsetgroup": "Nexage",
         "orientation": "v",
         "showlegend": true,
         "type": "histogram",
         "x": [
          "2017-09-27"
         ],
         "xaxis": "x",
         "y": [
          856
         ],
         "yaxis": "y"
        },
        {
         "alignmentgroup": "True",
         "bingroup": "x",
         "histfunc": "sum",
         "hovertemplate": "Name=AccountKit<br>Date=%{x}<br>sum of Occurrence=%{y}<extra></extra>",
         "legendgroup": "AccountKit",
         "marker": {
          "color": "#FECB52",
          "pattern": {
           "shape": ""
          }
         },
         "name": "AccountKit",
         "offsetgroup": "AccountKit",
         "orientation": "v",
         "showlegend": true,
         "type": "histogram",
         "x": [
          "2018-03-04"
         ],
         "xaxis": "x",
         "y": [
          805
         ],
         "yaxis": "y"
        },
        {
         "alignmentgroup": "True",
         "bingroup": "x",
         "histfunc": "sum",
         "hovertemplate": "Name=Inneractive<br>Date=%{x}<br>sum of Occurrence=%{y}<extra></extra>",
         "legendgroup": "Inneractive",
         "marker": {
          "color": "#636efa",
          "pattern": {
           "shape": ""
          }
         },
         "name": "Inneractive",
         "offsetgroup": "Inneractive",
         "orientation": "v",
         "showlegend": true,
         "type": "histogram",
         "x": [
          "2020-06-08"
         ],
         "xaxis": "x",
         "y": [
          799
         ],
         "yaxis": "y"
        },
        {
         "alignmentgroup": "True",
         "bingroup": "x",
         "histfunc": "sum",
         "hovertemplate": "Name=Verizon Ads<br>Date=%{x}<br>sum of Occurrence=%{y}<extra></extra>",
         "legendgroup": "Verizon Ads",
         "marker": {
          "color": "#EF553B",
          "pattern": {
           "shape": ""
          }
         },
         "name": "Verizon Ads",
         "offsetgroup": "Verizon Ads",
         "orientation": "v",
         "showlegend": true,
         "type": "histogram",
         "x": [
          "2020-09-19"
         ],
         "xaxis": "x",
         "y": [
          786
         ],
         "yaxis": "y"
        },
        {
         "alignmentgroup": "True",
         "bingroup": "x",
         "histfunc": "sum",
         "hovertemplate": "Name=Tenjin<br>Date=%{x}<br>sum of Occurrence=%{y}<extra></extra>",
         "legendgroup": "Tenjin",
         "marker": {
          "color": "#00cc96",
          "pattern": {
           "shape": ""
          }
         },
         "name": "Tenjin",
         "offsetgroup": "Tenjin",
         "orientation": "v",
         "showlegend": true,
         "type": "histogram",
         "x": [
          "2019-11-09"
         ],
         "xaxis": "x",
         "y": [
          748
         ],
         "yaxis": "y"
        },
        {
         "alignmentgroup": "True",
         "bingroup": "x",
         "histfunc": "sum",
         "hovertemplate": "Name=Pushwoosh<br>Date=%{x}<br>sum of Occurrence=%{y}<extra></extra>",
         "legendgroup": "Pushwoosh",
         "marker": {
          "color": "#ab63fa",
          "pattern": {
           "shape": ""
          }
         },
         "name": "Pushwoosh",
         "offsetgroup": "Pushwoosh",
         "orientation": "v",
         "showlegend": true,
         "type": "histogram",
         "x": [
          "2017-11-12"
         ],
         "xaxis": "x",
         "y": [
          748
         ],
         "yaxis": "y"
        },
        {
         "alignmentgroup": "True",
         "bingroup": "x",
         "histfunc": "sum",
         "hovertemplate": "Name=Optimizely<br>Date=%{x}<br>sum of Occurrence=%{y}<extra></extra>",
         "legendgroup": "Optimizely",
         "marker": {
          "color": "#FFA15A",
          "pattern": {
           "shape": ""
          }
         },
         "name": "Optimizely",
         "offsetgroup": "Optimizely",
         "orientation": "v",
         "showlegend": true,
         "type": "histogram",
         "x": [
          "2019-03-10"
         ],
         "xaxis": "x",
         "y": [
          746
         ],
         "yaxis": "y"
        },
        {
         "alignmentgroup": "True",
         "bingroup": "x",
         "histfunc": "sum",
         "hovertemplate": "Name=Audience Studio (Krux)<br>Date=%{x}<br>sum of Occurrence=%{y}<extra></extra>",
         "legendgroup": "Audience Studio (Krux)",
         "marker": {
          "color": "#19d3f3",
          "pattern": {
           "shape": ""
          }
         },
         "name": "Audience Studio (Krux)",
         "offsetgroup": "Audience Studio (Krux)",
         "orientation": "v",
         "showlegend": true,
         "type": "histogram",
         "x": [
          "2017-09-24"
         ],
         "xaxis": "x",
         "y": [
          732
         ],
         "yaxis": "y"
        },
        {
         "alignmentgroup": "True",
         "bingroup": "x",
         "histfunc": "sum",
         "hovertemplate": "Name=MAdvertise<br>Date=%{x}<br>sum of Occurrence=%{y}<extra></extra>",
         "legendgroup": "MAdvertise",
         "marker": {
          "color": "#FF6692",
          "pattern": {
           "shape": ""
          }
         },
         "name": "MAdvertise",
         "offsetgroup": "MAdvertise",
         "orientation": "v",
         "showlegend": true,
         "type": "histogram",
         "x": [
          "2018-03-04"
         ],
         "xaxis": "x",
         "y": [
          716
         ],
         "yaxis": "y"
        },
        {
         "alignmentgroup": "True",
         "bingroup": "x",
         "histfunc": "sum",
         "hovertemplate": "Name=Salesforce Marketing Cloud<br>Date=%{x}<br>sum of Occurrence=%{y}<extra></extra>",
         "legendgroup": "Salesforce Marketing Cloud",
         "marker": {
          "color": "#B6E880",
          "pattern": {
           "shape": ""
          }
         },
         "name": "Salesforce Marketing Cloud",
         "offsetgroup": "Salesforce Marketing Cloud",
         "orientation": "v",
         "showlegend": true,
         "type": "histogram",
         "x": [
          "2019-10-26"
         ],
         "xaxis": "x",
         "y": [
          694
         ],
         "yaxis": "y"
        },
        {
         "alignmentgroup": "True",
         "bingroup": "x",
         "histfunc": "sum",
         "hovertemplate": "Name=Duapps<br>Date=%{x}<br>sum of Occurrence=%{y}<extra></extra>",
         "legendgroup": "Duapps",
         "marker": {
          "color": "#FF97FF",
          "pattern": {
           "shape": ""
          }
         },
         "name": "Duapps",
         "offsetgroup": "Duapps",
         "orientation": "v",
         "showlegend": true,
         "type": "histogram",
         "x": [
          "2019-04-15"
         ],
         "xaxis": "x",
         "y": [
          685
         ],
         "yaxis": "y"
        },
        {
         "alignmentgroup": "True",
         "bingroup": "x",
         "histfunc": "sum",
         "hovertemplate": "Name=Apptimize<br>Date=%{x}<br>sum of Occurrence=%{y}<extra></extra>",
         "legendgroup": "Apptimize",
         "marker": {
          "color": "#FECB52",
          "pattern": {
           "shape": ""
          }
         },
         "name": "Apptimize",
         "offsetgroup": "Apptimize",
         "orientation": "v",
         "showlegend": true,
         "type": "histogram",
         "x": [
          "2018-03-04"
         ],
         "xaxis": "x",
         "y": [
          681
         ],
         "yaxis": "y"
        },
        {
         "alignmentgroup": "True",
         "bingroup": "x",
         "histfunc": "sum",
         "hovertemplate": "Name=Brightcove<br>Date=%{x}<br>sum of Occurrence=%{y}<extra></extra>",
         "legendgroup": "Brightcove",
         "marker": {
          "color": "#636efa",
          "pattern": {
           "shape": ""
          }
         },
         "name": "Brightcove",
         "offsetgroup": "Brightcove",
         "orientation": "v",
         "showlegend": true,
         "type": "histogram",
         "x": [
          "2019-03-19"
         ],
         "xaxis": "x",
         "y": [
          676
         ],
         "yaxis": "y"
        },
        {
         "alignmentgroup": "True",
         "bingroup": "x",
         "histfunc": "sum",
         "hovertemplate": "Name=AutoNavi / Amap<br>Date=%{x}<br>sum of Occurrence=%{y}<extra></extra>",
         "legendgroup": "AutoNavi / Amap",
         "marker": {
          "color": "#EF553B",
          "pattern": {
           "shape": ""
          }
         },
         "name": "AutoNavi / Amap",
         "offsetgroup": "AutoNavi / Amap",
         "orientation": "v",
         "showlegend": true,
         "type": "histogram",
         "x": [
          "2021-02-28"
         ],
         "xaxis": "x",
         "y": [
          627
         ],
         "yaxis": "y"
        },
        {
         "alignmentgroup": "True",
         "bingroup": "x",
         "histfunc": "sum",
         "hovertemplate": "Name=Nielsen<br>Date=%{x}<br>sum of Occurrence=%{y}<extra></extra>",
         "legendgroup": "Nielsen",
         "marker": {
          "color": "#00cc96",
          "pattern": {
           "shape": ""
          }
         },
         "name": "Nielsen",
         "offsetgroup": "Nielsen",
         "orientation": "v",
         "showlegend": true,
         "type": "histogram",
         "x": [
          "2019-11-09"
         ],
         "xaxis": "x",
         "y": [
          618
         ],
         "yaxis": "y"
        },
        {
         "alignmentgroup": "True",
         "bingroup": "x",
         "histfunc": "sum",
         "hovertemplate": "Name=Tealium<br>Date=%{x}<br>sum of Occurrence=%{y}<extra></extra>",
         "legendgroup": "Tealium",
         "marker": {
          "color": "#ab63fa",
          "pattern": {
           "shape": ""
          }
         },
         "name": "Tealium",
         "offsetgroup": "Tealium",
         "orientation": "v",
         "showlegend": true,
         "type": "histogram",
         "x": [
          "2017-09-25"
         ],
         "xaxis": "x",
         "y": [
          617
         ],
         "yaxis": "y"
        },
        {
         "alignmentgroup": "True",
         "bingroup": "x",
         "histfunc": "sum",
         "hovertemplate": "Name=AppBrain<br>Date=%{x}<br>sum of Occurrence=%{y}<extra></extra>",
         "legendgroup": "AppBrain",
         "marker": {
          "color": "#FFA15A",
          "pattern": {
           "shape": ""
          }
         },
         "name": "AppBrain",
         "offsetgroup": "AppBrain",
         "orientation": "v",
         "showlegend": true,
         "type": "histogram",
         "x": [
          "2018-03-04"
         ],
         "xaxis": "x",
         "y": [
          607
         ],
         "yaxis": "y"
        },
        {
         "alignmentgroup": "True",
         "bingroup": "x",
         "histfunc": "sum",
         "hovertemplate": "Name=Taboola<br>Date=%{x}<br>sum of Occurrence=%{y}<extra></extra>",
         "legendgroup": "Taboola",
         "marker": {
          "color": "#19d3f3",
          "pattern": {
           "shape": ""
          }
         },
         "name": "Taboola",
         "offsetgroup": "Taboola",
         "orientation": "v",
         "showlegend": true,
         "type": "histogram",
         "x": [
          "2019-03-10"
         ],
         "xaxis": "x",
         "y": [
          580
         ],
         "yaxis": "y"
        },
        {
         "alignmentgroup": "True",
         "bingroup": "x",
         "histfunc": "sum",
         "hovertemplate": "Name=Adincube<br>Date=%{x}<br>sum of Occurrence=%{y}<extra></extra>",
         "legendgroup": "Adincube",
         "marker": {
          "color": "#FF6692",
          "pattern": {
           "shape": ""
          }
         },
         "name": "Adincube",
         "offsetgroup": "Adincube",
         "orientation": "v",
         "showlegend": true,
         "type": "histogram",
         "x": [
          "2019-03-10"
         ],
         "xaxis": "x",
         "y": [
          579
         ],
         "yaxis": "y"
        },
        {
         "alignmentgroup": "True",
         "bingroup": "x",
         "histfunc": "sum",
         "hovertemplate": "Name=Apteligent by VMWare (formerly Crittercism)<br>Date=%{x}<br>sum of Occurrence=%{y}<extra></extra>",
         "legendgroup": "Apteligent by VMWare (formerly Crittercism)",
         "marker": {
          "color": "#B6E880",
          "pattern": {
           "shape": ""
          }
         },
         "name": "Apteligent by VMWare (formerly Crittercism)",
         "offsetgroup": "Apteligent by VMWare (formerly Crittercism)",
         "orientation": "v",
         "showlegend": true,
         "type": "histogram",
         "x": [
          "2018-08-16"
         ],
         "xaxis": "x",
         "y": [
          579
         ],
         "yaxis": "y"
        },
        {
         "alignmentgroup": "True",
         "bingroup": "x",
         "histfunc": "sum",
         "hovertemplate": "Name=Apptentive<br>Date=%{x}<br>sum of Occurrence=%{y}<extra></extra>",
         "legendgroup": "Apptentive",
         "marker": {
          "color": "#FF97FF",
          "pattern": {
           "shape": ""
          }
         },
         "name": "Apptentive",
         "offsetgroup": "Apptentive",
         "orientation": "v",
         "showlegend": true,
         "type": "histogram",
         "x": [
          "2018-03-04"
         ],
         "xaxis": "x",
         "y": [
          578
         ],
         "yaxis": "y"
        },
        {
         "alignmentgroup": "True",
         "bingroup": "x",
         "histfunc": "sum",
         "hovertemplate": "Name=OutBrain<br>Date=%{x}<br>sum of Occurrence=%{y}<extra></extra>",
         "legendgroup": "OutBrain",
         "marker": {
          "color": "#FECB52",
          "pattern": {
           "shape": ""
          }
         },
         "name": "OutBrain",
         "offsetgroup": "OutBrain",
         "orientation": "v",
         "showlegend": true,
         "type": "histogram",
         "x": [
          "2017-09-24"
         ],
         "xaxis": "x",
         "y": [
          573
         ],
         "yaxis": "y"
        },
        {
         "alignmentgroup": "True",
         "bingroup": "x",
         "histfunc": "sum",
         "hovertemplate": "Name=Cuebiq<br>Date=%{x}<br>sum of Occurrence=%{y}<extra></extra>",
         "legendgroup": "Cuebiq",
         "marker": {
          "color": "#636efa",
          "pattern": {
           "shape": ""
          }
         },
         "name": "Cuebiq",
         "offsetgroup": "Cuebiq",
         "orientation": "v",
         "showlegend": true,
         "type": "histogram",
         "x": [
          "2017-12-03"
         ],
         "xaxis": "x",
         "y": [
          571
         ],
         "yaxis": "y"
        },
        {
         "alignmentgroup": "True",
         "bingroup": "x",
         "histfunc": "sum",
         "hovertemplate": "Name=Countly<br>Date=%{x}<br>sum of Occurrence=%{y}<extra></extra>",
         "legendgroup": "Countly",
         "marker": {
          "color": "#EF553B",
          "pattern": {
           "shape": ""
          }
         },
         "name": "Countly",
         "offsetgroup": "Countly",
         "orientation": "v",
         "showlegend": true,
         "type": "histogram",
         "x": [
          "2018-03-04"
         ],
         "xaxis": "x",
         "y": [
          569
         ],
         "yaxis": "y"
        },
        {
         "alignmentgroup": "True",
         "bingroup": "x",
         "histfunc": "sum",
         "hovertemplate": "Name=AppSee<br>Date=%{x}<br>sum of Occurrence=%{y}<extra></extra>",
         "legendgroup": "AppSee",
         "marker": {
          "color": "#00cc96",
          "pattern": {
           "shape": ""
          }
         },
         "name": "AppSee",
         "offsetgroup": "AppSee",
         "orientation": "v",
         "showlegend": true,
         "type": "histogram",
         "x": [
          "2018-03-04"
         ],
         "xaxis": "x",
         "y": [
          555
         ],
         "yaxis": "y"
        },
        {
         "alignmentgroup": "True",
         "bingroup": "x",
         "histfunc": "sum",
         "hovertemplate": "Name=X-Mode<br>Date=%{x}<br>sum of Occurrence=%{y}<extra></extra>",
         "legendgroup": "X-Mode",
         "marker": {
          "color": "#ab63fa",
          "pattern": {
           "shape": ""
          }
         },
         "name": "X-Mode",
         "offsetgroup": "X-Mode",
         "orientation": "v",
         "showlegend": true,
         "type": "histogram",
         "x": [
          "2021-01-24"
         ],
         "xaxis": "x",
         "y": [
          553
         ],
         "yaxis": "y"
        },
        {
         "alignmentgroup": "True",
         "bingroup": "x",
         "histfunc": "sum",
         "hovertemplate": "Name=Mozilla Telemetry<br>Date=%{x}<br>sum of Occurrence=%{y}<extra></extra>",
         "legendgroup": "Mozilla Telemetry",
         "marker": {
          "color": "#FFA15A",
          "pattern": {
           "shape": ""
          }
         },
         "name": "Mozilla Telemetry",
         "offsetgroup": "Mozilla Telemetry",
         "orientation": "v",
         "showlegend": true,
         "type": "histogram",
         "x": [
          "2019-10-26"
         ],
         "xaxis": "x",
         "y": [
          552
         ],
         "yaxis": "y"
        },
        {
         "alignmentgroup": "True",
         "bingroup": "x",
         "histfunc": "sum",
         "hovertemplate": "Name=Teads<br>Date=%{x}<br>sum of Occurrence=%{y}<extra></extra>",
         "legendgroup": "Teads",
         "marker": {
          "color": "#19d3f3",
          "pattern": {
           "shape": ""
          }
         },
         "name": "Teads",
         "offsetgroup": "Teads",
         "orientation": "v",
         "showlegend": true,
         "type": "histogram",
         "x": [
          "2019-10-26"
         ],
         "xaxis": "x",
         "y": [
          541
         ],
         "yaxis": "y"
        },
        {
         "alignmentgroup": "True",
         "bingroup": "x",
         "histfunc": "sum",
         "hovertemplate": "Name=Pollfish<br>Date=%{x}<br>sum of Occurrence=%{y}<extra></extra>",
         "legendgroup": "Pollfish",
         "marker": {
          "color": "#FF6692",
          "pattern": {
           "shape": ""
          }
         },
         "name": "Pollfish",
         "offsetgroup": "Pollfish",
         "orientation": "v",
         "showlegend": true,
         "type": "histogram",
         "x": [
          "2020-06-08"
         ],
         "xaxis": "x",
         "y": [
          538
         ],
         "yaxis": "y"
        },
        {
         "alignmentgroup": "True",
         "bingroup": "x",
         "histfunc": "sum",
         "hovertemplate": "Name=Tappx<br>Date=%{x}<br>sum of Occurrence=%{y}<extra></extra>",
         "legendgroup": "Tappx",
         "marker": {
          "color": "#B6E880",
          "pattern": {
           "shape": ""
          }
         },
         "name": "Tappx",
         "offsetgroup": "Tappx",
         "orientation": "v",
         "showlegend": true,
         "type": "histogram",
         "x": [
          "2021-03-01"
         ],
         "xaxis": "x",
         "y": [
          536
         ],
         "yaxis": "y"
        },
        {
         "alignmentgroup": "True",
         "bingroup": "x",
         "histfunc": "sum",
         "hovertemplate": "Name=Gigya<br>Date=%{x}<br>sum of Occurrence=%{y}<extra></extra>",
         "legendgroup": "Gigya",
         "marker": {
          "color": "#FF97FF",
          "pattern": {
           "shape": ""
          }
         },
         "name": "Gigya",
         "offsetgroup": "Gigya",
         "orientation": "v",
         "showlegend": true,
         "type": "histogram",
         "x": [
          "2018-08-16"
         ],
         "xaxis": "x",
         "y": [
          535
         ],
         "yaxis": "y"
        },
        {
         "alignmentgroup": "True",
         "bingroup": "x",
         "histfunc": "sum",
         "hovertemplate": "Name=Pusher<br>Date=%{x}<br>sum of Occurrence=%{y}<extra></extra>",
         "legendgroup": "Pusher",
         "marker": {
          "color": "#FECB52",
          "pattern": {
           "shape": ""
          }
         },
         "name": "Pusher",
         "offsetgroup": "Pusher",
         "orientation": "v",
         "showlegend": true,
         "type": "histogram",
         "x": [
          "2019-10-26"
         ],
         "xaxis": "x",
         "y": [
          517
         ],
         "yaxis": "y"
        },
        {
         "alignmentgroup": "True",
         "bingroup": "x",
         "histfunc": "sum",
         "hovertemplate": "Name=Glispa Connect (Formerly Avocarrot)<br>Date=%{x}<br>sum of Occurrence=%{y}<extra></extra>",
         "legendgroup": "Glispa Connect (Formerly Avocarrot)",
         "marker": {
          "color": "#636efa",
          "pattern": {
           "shape": ""
          }
         },
         "name": "Glispa Connect (Formerly Avocarrot)",
         "offsetgroup": "Glispa Connect (Formerly Avocarrot)",
         "orientation": "v",
         "showlegend": true,
         "type": "histogram",
         "x": [
          "2018-01-05"
         ],
         "xaxis": "x",
         "y": [
          484
         ],
         "yaxis": "y"
        },
        {
         "alignmentgroup": "True",
         "bingroup": "x",
         "histfunc": "sum",
         "hovertemplate": "Name=Splunk MINT<br>Date=%{x}<br>sum of Occurrence=%{y}<extra></extra>",
         "legendgroup": "Splunk MINT",
         "marker": {
          "color": "#EF553B",
          "pattern": {
           "shape": ""
          }
         },
         "name": "Splunk MINT",
         "offsetgroup": "Splunk MINT",
         "orientation": "v",
         "showlegend": true,
         "type": "histogram",
         "x": [
          "2019-11-09"
         ],
         "xaxis": "x",
         "y": [
          474
         ],
         "yaxis": "y"
        },
        {
         "alignmentgroup": "True",
         "bingroup": "x",
         "histfunc": "sum",
         "hovertemplate": "Name=In Loco<br>Date=%{x}<br>sum of Occurrence=%{y}<extra></extra>",
         "legendgroup": "In Loco",
         "marker": {
          "color": "#00cc96",
          "pattern": {
           "shape": ""
          }
         },
         "name": "In Loco",
         "offsetgroup": "In Loco",
         "orientation": "v",
         "showlegend": true,
         "type": "histogram",
         "x": [
          "2019-10-26"
         ],
         "xaxis": "x",
         "y": [
          469
         ],
         "yaxis": "y"
        },
        {
         "alignmentgroup": "True",
         "bingroup": "x",
         "histfunc": "sum",
         "hovertemplate": "Name=mParticle<br>Date=%{x}<br>sum of Occurrence=%{y}<extra></extra>",
         "legendgroup": "mParticle",
         "marker": {
          "color": "#ab63fa",
          "pattern": {
           "shape": ""
          }
         },
         "name": "mParticle",
         "offsetgroup": "mParticle",
         "orientation": "v",
         "showlegend": true,
         "type": "histogram",
         "x": [
          "2017-09-24"
         ],
         "xaxis": "x",
         "y": [
          458
         ],
         "yaxis": "y"
        },
        {
         "alignmentgroup": "True",
         "bingroup": "x",
         "histfunc": "sum",
         "hovertemplate": "Name=Receptiv (formerly Mediabrix)<br>Date=%{x}<br>sum of Occurrence=%{y}<extra></extra>",
         "legendgroup": "Receptiv (formerly Mediabrix)",
         "marker": {
          "color": "#FFA15A",
          "pattern": {
           "shape": ""
          }
         },
         "name": "Receptiv (formerly Mediabrix)",
         "offsetgroup": "Receptiv (formerly Mediabrix)",
         "orientation": "v",
         "showlegend": true,
         "type": "histogram",
         "x": [
          "2020-09-19"
         ],
         "xaxis": "x",
         "y": [
          456
         ],
         "yaxis": "y"
        },
        {
         "alignmentgroup": "True",
         "bingroup": "x",
         "histfunc": "sum",
         "hovertemplate": "Name=Soomla<br>Date=%{x}<br>sum of Occurrence=%{y}<extra></extra>",
         "legendgroup": "Soomla",
         "marker": {
          "color": "#19d3f3",
          "pattern": {
           "shape": ""
          }
         },
         "name": "Soomla",
         "offsetgroup": "Soomla",
         "orientation": "v",
         "showlegend": true,
         "type": "histogram",
         "x": [
          "2019-03-10"
         ],
         "xaxis": "x",
         "y": [
          451
         ],
         "yaxis": "y"
        },
        {
         "alignmentgroup": "True",
         "bingroup": "x",
         "histfunc": "sum",
         "hovertemplate": "Name=Add Apt Tr<br>Date=%{x}<br>sum of Occurrence=%{y}<extra></extra>",
         "legendgroup": "Add Apt Tr",
         "marker": {
          "color": "#FF6692",
          "pattern": {
           "shape": ""
          }
         },
         "name": "Add Apt Tr",
         "offsetgroup": "Add Apt Tr",
         "orientation": "v",
         "showlegend": true,
         "type": "histogram",
         "x": [
          "2017-09-27"
         ],
         "xaxis": "x",
         "y": [
          447
         ],
         "yaxis": "y"
        },
        {
         "alignmentgroup": "True",
         "bingroup": "x",
         "histfunc": "sum",
         "hovertemplate": "Name=Baidu Location<br>Date=%{x}<br>sum of Occurrence=%{y}<extra></extra>",
         "legendgroup": "Baidu Location",
         "marker": {
          "color": "#B6E880",
          "pattern": {
           "shape": ""
          }
         },
         "name": "Baidu Location",
         "offsetgroup": "Baidu Location",
         "orientation": "v",
         "showlegend": true,
         "type": "histogram",
         "x": [
          "2018-03-04"
         ],
         "xaxis": "x",
         "y": [
          441
         ],
         "yaxis": "y"
        },
        {
         "alignmentgroup": "True",
         "bingroup": "x",
         "histfunc": "sum",
         "hovertemplate": "Name=Adobe Experience Cloud<br>Date=%{x}<br>sum of Occurrence=%{y}<extra></extra>",
         "legendgroup": "Adobe Experience Cloud",
         "marker": {
          "color": "#FF97FF",
          "pattern": {
           "shape": ""
          }
         },
         "name": "Adobe Experience Cloud",
         "offsetgroup": "Adobe Experience Cloud",
         "orientation": "v",
         "showlegend": true,
         "type": "histogram",
         "x": [
          "2019-10-26"
         ],
         "xaxis": "x",
         "y": [
          440
         ],
         "yaxis": "y"
        },
        {
         "alignmentgroup": "True",
         "bingroup": "x",
         "histfunc": "sum",
         "hovertemplate": "Name=Didomi<br>Date=%{x}<br>sum of Occurrence=%{y}<extra></extra>",
         "legendgroup": "Didomi",
         "marker": {
          "color": "#FECB52",
          "pattern": {
           "shape": ""
          }
         },
         "name": "Didomi",
         "offsetgroup": "Didomi",
         "orientation": "v",
         "showlegend": true,
         "type": "histogram",
         "x": [
          "2020-12-13"
         ],
         "xaxis": "x",
         "y": [
          439
         ],
         "yaxis": "y"
        },
        {
         "alignmentgroup": "True",
         "bingroup": "x",
         "histfunc": "sum",
         "hovertemplate": "Name=Cheetah Ads<br>Date=%{x}<br>sum of Occurrence=%{y}<extra></extra>",
         "legendgroup": "Cheetah Ads",
         "marker": {
          "color": "#636efa",
          "pattern": {
           "shape": ""
          }
         },
         "name": "Cheetah Ads",
         "offsetgroup": "Cheetah Ads",
         "orientation": "v",
         "showlegend": true,
         "type": "histogram",
         "x": [
          "2019-03-10"
         ],
         "xaxis": "x",
         "y": [
          437
         ],
         "yaxis": "y"
        },
        {
         "alignmentgroup": "True",
         "bingroup": "x",
         "histfunc": "sum",
         "hovertemplate": "Name=Snowplow<br>Date=%{x}<br>sum of Occurrence=%{y}<extra></extra>",
         "legendgroup": "Snowplow",
         "marker": {
          "color": "#EF553B",
          "pattern": {
           "shape": ""
          }
         },
         "name": "Snowplow",
         "offsetgroup": "Snowplow",
         "orientation": "v",
         "showlegend": true,
         "type": "histogram",
         "x": [
          "2018-03-04"
         ],
         "xaxis": "x",
         "y": [
          428
         ],
         "yaxis": "y"
        },
        {
         "alignmentgroup": "True",
         "bingroup": "x",
         "histfunc": "sum",
         "hovertemplate": "Name=Appdynamics<br>Date=%{x}<br>sum of Occurrence=%{y}<extra></extra>",
         "legendgroup": "Appdynamics",
         "marker": {
          "color": "#00cc96",
          "pattern": {
           "shape": ""
          }
         },
         "name": "Appdynamics",
         "offsetgroup": "Appdynamics",
         "orientation": "v",
         "showlegend": true,
         "type": "histogram",
         "x": [
          "2019-04-15"
         ],
         "xaxis": "x",
         "y": [
          426
         ],
         "yaxis": "y"
        },
        {
         "alignmentgroup": "True",
         "bingroup": "x",
         "histfunc": "sum",
         "hovertemplate": "Name=RjFun<br>Date=%{x}<br>sum of Occurrence=%{y}<extra></extra>",
         "legendgroup": "RjFun",
         "marker": {
          "color": "#ab63fa",
          "pattern": {
           "shape": ""
          }
         },
         "name": "RjFun",
         "offsetgroup": "RjFun",
         "orientation": "v",
         "showlegend": true,
         "type": "histogram",
         "x": [
          "2021-03-01"
         ],
         "xaxis": "x",
         "y": [
          416
         ],
         "yaxis": "y"
        },
        {
         "alignmentgroup": "True",
         "bingroup": "x",
         "histfunc": "sum",
         "hovertemplate": "Name=AppMonet<br>Date=%{x}<br>sum of Occurrence=%{y}<extra></extra>",
         "legendgroup": "AppMonet",
         "marker": {
          "color": "#FFA15A",
          "pattern": {
           "shape": ""
          }
         },
         "name": "AppMonet",
         "offsetgroup": "AppMonet",
         "orientation": "v",
         "showlegend": true,
         "type": "histogram",
         "x": [
          "2019-03-10"
         ],
         "xaxis": "x",
         "y": [
          414
         ],
         "yaxis": "y"
        },
        {
         "alignmentgroup": "True",
         "bingroup": "x",
         "histfunc": "sum",
         "hovertemplate": "Name=Opensignal<br>Date=%{x}<br>sum of Occurrence=%{y}<extra></extra>",
         "legendgroup": "Opensignal",
         "marker": {
          "color": "#19d3f3",
          "pattern": {
           "shape": ""
          }
         },
         "name": "Opensignal",
         "offsetgroup": "Opensignal",
         "orientation": "v",
         "showlegend": true,
         "type": "histogram",
         "x": [
          "2021-01-24"
         ],
         "xaxis": "x",
         "y": [
          412
         ],
         "yaxis": "y"
        },
        {
         "alignmentgroup": "True",
         "bingroup": "x",
         "histfunc": "sum",
         "hovertemplate": "Name=myTracker<br>Date=%{x}<br>sum of Occurrence=%{y}<extra></extra>",
         "legendgroup": "myTracker",
         "marker": {
          "color": "#FF6692",
          "pattern": {
           "shape": ""
          }
         },
         "name": "myTracker",
         "offsetgroup": "myTracker",
         "orientation": "v",
         "showlegend": true,
         "type": "histogram",
         "x": [
          "2019-03-10"
         ],
         "xaxis": "x",
         "y": [
          402
         ],
         "yaxis": "y"
        },
        {
         "alignmentgroup": "True",
         "bingroup": "x",
         "histfunc": "sum",
         "hovertemplate": "Name=Singular<br>Date=%{x}<br>sum of Occurrence=%{y}<extra></extra>",
         "legendgroup": "Singular",
         "marker": {
          "color": "#B6E880",
          "pattern": {
           "shape": ""
          }
         },
         "name": "Singular",
         "offsetgroup": "Singular",
         "orientation": "v",
         "showlegend": true,
         "type": "histogram",
         "x": [
          "2019-11-09"
         ],
         "xaxis": "x",
         "y": [
          398
         ],
         "yaxis": "y"
        },
        {
         "alignmentgroup": "True",
         "bingroup": "x",
         "histfunc": "sum",
         "hovertemplate": "Name=Conviva<br>Date=%{x}<br>sum of Occurrence=%{y}<extra></extra>",
         "legendgroup": "Conviva",
         "marker": {
          "color": "#FF97FF",
          "pattern": {
           "shape": ""
          }
         },
         "name": "Conviva",
         "offsetgroup": "Conviva",
         "orientation": "v",
         "showlegend": true,
         "type": "histogram",
         "x": [
          "2019-04-15"
         ],
         "xaxis": "x",
         "y": [
          398
         ],
         "yaxis": "y"
        },
        {
         "alignmentgroup": "True",
         "bingroup": "x",
         "histfunc": "sum",
         "hovertemplate": "Name=Swrve<br>Date=%{x}<br>sum of Occurrence=%{y}<extra></extra>",
         "legendgroup": "Swrve",
         "marker": {
          "color": "#FECB52",
          "pattern": {
           "shape": ""
          }
         },
         "name": "Swrve",
         "offsetgroup": "Swrve",
         "orientation": "v",
         "showlegend": true,
         "type": "histogram",
         "x": [
          "2019-04-15"
         ],
         "xaxis": "x",
         "y": [
          394
         ],
         "yaxis": "y"
        },
        {
         "alignmentgroup": "True",
         "bingroup": "x",
         "histfunc": "sum",
         "hovertemplate": "Name=nend<br>Date=%{x}<br>sum of Occurrence=%{y}<extra></extra>",
         "legendgroup": "nend",
         "marker": {
          "color": "#636efa",
          "pattern": {
           "shape": ""
          }
         },
         "name": "nend",
         "offsetgroup": "nend",
         "orientation": "v",
         "showlegend": true,
         "type": "histogram",
         "x": [
          "2019-10-26"
         ],
         "xaxis": "x",
         "y": [
          383
         ],
         "yaxis": "y"
        },
        {
         "alignmentgroup": "True",
         "bingroup": "x",
         "histfunc": "sum",
         "hovertemplate": "Name=Huq Sourcekit<br>Date=%{x}<br>sum of Occurrence=%{y}<extra></extra>",
         "legendgroup": "Huq Sourcekit",
         "marker": {
          "color": "#EF553B",
          "pattern": {
           "shape": ""
          }
         },
         "name": "Huq Sourcekit",
         "offsetgroup": "Huq Sourcekit",
         "orientation": "v",
         "showlegend": true,
         "type": "histogram",
         "x": [
          "2021-05-07"
         ],
         "xaxis": "x",
         "y": [
          376
         ],
         "yaxis": "y"
        },
        {
         "alignmentgroup": "True",
         "bingroup": "x",
         "histfunc": "sum",
         "hovertemplate": "Name=Scandit<br>Date=%{x}<br>sum of Occurrence=%{y}<extra></extra>",
         "legendgroup": "Scandit",
         "marker": {
          "color": "#00cc96",
          "pattern": {
           "shape": ""
          }
         },
         "name": "Scandit",
         "offsetgroup": "Scandit",
         "orientation": "v",
         "showlegend": true,
         "type": "histogram",
         "x": [
          "2018-01-05"
         ],
         "xaxis": "x",
         "y": [
          376
         ],
         "yaxis": "y"
        },
        {
         "alignmentgroup": "True",
         "bingroup": "x",
         "histfunc": "sum",
         "hovertemplate": "Name=Appcelerator Analytics<br>Date=%{x}<br>sum of Occurrence=%{y}<extra></extra>",
         "legendgroup": "Appcelerator Analytics",
         "marker": {
          "color": "#ab63fa",
          "pattern": {
           "shape": ""
          }
         },
         "name": "Appcelerator Analytics",
         "offsetgroup": "Appcelerator Analytics",
         "orientation": "v",
         "showlegend": true,
         "type": "histogram",
         "x": [
          "2019-11-09"
         ],
         "xaxis": "x",
         "y": [
          373
         ],
         "yaxis": "y"
        },
        {
         "alignmentgroup": "True",
         "bingroup": "x",
         "histfunc": "sum",
         "hovertemplate": "Name=Metrics<br>Date=%{x}<br>sum of Occurrence=%{y}<extra></extra>",
         "legendgroup": "Metrics",
         "marker": {
          "color": "#FFA15A",
          "pattern": {
           "shape": ""
          }
         },
         "name": "Metrics",
         "offsetgroup": "Metrics",
         "orientation": "v",
         "showlegend": true,
         "type": "histogram",
         "x": [
          "2019-11-09"
         ],
         "xaxis": "x",
         "y": [
          363
         ],
         "yaxis": "y"
        },
        {
         "alignmentgroup": "True",
         "bingroup": "x",
         "histfunc": "sum",
         "hovertemplate": "Name=Square Metrics<br>Date=%{x}<br>sum of Occurrence=%{y}<extra></extra>",
         "legendgroup": "Square Metrics",
         "marker": {
          "color": "#19d3f3",
          "pattern": {
           "shape": ""
          }
         },
         "name": "Square Metrics",
         "offsetgroup": "Square Metrics",
         "orientation": "v",
         "showlegend": true,
         "type": "histogram",
         "x": [
          "2020-02-25"
         ],
         "xaxis": "x",
         "y": [
          350
         ],
         "yaxis": "y"
        },
        {
         "alignmentgroup": "True",
         "bingroup": "x",
         "histfunc": "sum",
         "hovertemplate": "Name=JiGuang Aurora Mobile JPush<br>Date=%{x}<br>sum of Occurrence=%{y}<extra></extra>",
         "legendgroup": "JiGuang Aurora Mobile JPush",
         "marker": {
          "color": "#FF6692",
          "pattern": {
           "shape": ""
          }
         },
         "name": "JiGuang Aurora Mobile JPush",
         "offsetgroup": "JiGuang Aurora Mobile JPush",
         "orientation": "v",
         "showlegend": true,
         "type": "histogram",
         "x": [
          "2020-12-13"
         ],
         "xaxis": "x",
         "y": [
          348
         ],
         "yaxis": "y"
        },
        {
         "alignmentgroup": "True",
         "bingroup": "x",
         "histfunc": "sum",
         "hovertemplate": "Name=AdFit (Daum)<br>Date=%{x}<br>sum of Occurrence=%{y}<extra></extra>",
         "legendgroup": "AdFit (Daum)",
         "marker": {
          "color": "#B6E880",
          "pattern": {
           "shape": ""
          }
         },
         "name": "AdFit (Daum)",
         "offsetgroup": "AdFit (Daum)",
         "orientation": "v",
         "showlegend": true,
         "type": "histogram",
         "x": [
          "2018-08-16"
         ],
         "xaxis": "x",
         "y": [
          341
         ],
         "yaxis": "y"
        },
        {
         "alignmentgroup": "True",
         "bingroup": "x",
         "histfunc": "sum",
         "hovertemplate": "Name=maio by i-mobile<br>Date=%{x}<br>sum of Occurrence=%{y}<extra></extra>",
         "legendgroup": "maio by i-mobile",
         "marker": {
          "color": "#FF97FF",
          "pattern": {
           "shape": ""
          }
         },
         "name": "maio by i-mobile",
         "offsetgroup": "maio by i-mobile",
         "orientation": "v",
         "showlegend": true,
         "type": "histogram",
         "x": [
          "2020-09-19"
         ],
         "xaxis": "x",
         "y": [
          335
         ],
         "yaxis": "y"
        },
        {
         "alignmentgroup": "True",
         "bingroup": "x",
         "histfunc": "sum",
         "hovertemplate": "Name=JW Player<br>Date=%{x}<br>sum of Occurrence=%{y}<extra></extra>",
         "legendgroup": "JW Player",
         "marker": {
          "color": "#FECB52",
          "pattern": {
           "shape": ""
          }
         },
         "name": "JW Player",
         "offsetgroup": "JW Player",
         "orientation": "v",
         "showlegend": true,
         "type": "histogram",
         "x": [
          "2017-09-24"
         ],
         "xaxis": "x",
         "y": [
          321
         ],
         "yaxis": "y"
        },
        {
         "alignmentgroup": "True",
         "bingroup": "x",
         "histfunc": "sum",
         "hovertemplate": "Name=Dynatrace<br>Date=%{x}<br>sum of Occurrence=%{y}<extra></extra>",
         "legendgroup": "Dynatrace",
         "marker": {
          "color": "#636efa",
          "pattern": {
           "shape": ""
          }
         },
         "name": "Dynatrace",
         "offsetgroup": "Dynatrace",
         "orientation": "v",
         "showlegend": true,
         "type": "histogram",
         "x": [
          "2018-03-04"
         ],
         "xaxis": "x",
         "y": [
          319
         ],
         "yaxis": "y"
        },
        {
         "alignmentgroup": "True",
         "bingroup": "x",
         "histfunc": "sum",
         "hovertemplate": "Name=Prebid Mobile<br>Date=%{x}<br>sum of Occurrence=%{y}<extra></extra>",
         "legendgroup": "Prebid Mobile",
         "marker": {
          "color": "#EF553B",
          "pattern": {
           "shape": ""
          }
         },
         "name": "Prebid Mobile",
         "offsetgroup": "Prebid Mobile",
         "orientation": "v",
         "showlegend": true,
         "type": "histogram",
         "x": [
          "2020-12-13"
         ],
         "xaxis": "x",
         "y": [
          313
         ],
         "yaxis": "y"
        },
        {
         "alignmentgroup": "True",
         "bingroup": "x",
         "histfunc": "sum",
         "hovertemplate": "Name=Tutela<br>Date=%{x}<br>sum of Occurrence=%{y}<extra></extra>",
         "legendgroup": "Tutela",
         "marker": {
          "color": "#00cc96",
          "pattern": {
           "shape": ""
          }
         },
         "name": "Tutela",
         "offsetgroup": "Tutela",
         "orientation": "v",
         "showlegend": true,
         "type": "histogram",
         "x": [
          "2020-09-19"
         ],
         "xaxis": "x",
         "y": [
          308
         ],
         "yaxis": "y"
        },
        {
         "alignmentgroup": "True",
         "bingroup": "x",
         "histfunc": "sum",
         "hovertemplate": "Name=Jumio<br>Date=%{x}<br>sum of Occurrence=%{y}<extra></extra>",
         "legendgroup": "Jumio",
         "marker": {
          "color": "#ab63fa",
          "pattern": {
           "shape": ""
          }
         },
         "name": "Jumio",
         "offsetgroup": "Jumio",
         "orientation": "v",
         "showlegend": true,
         "type": "histogram",
         "x": [
          "2020-12-13"
         ],
         "xaxis": "x",
         "y": [
          307
         ],
         "yaxis": "y"
        },
        {
         "alignmentgroup": "True",
         "bingroup": "x",
         "histfunc": "sum",
         "hovertemplate": "Name=AdBuddiz<br>Date=%{x}<br>sum of Occurrence=%{y}<extra></extra>",
         "legendgroup": "AdBuddiz",
         "marker": {
          "color": "#FFA15A",
          "pattern": {
           "shape": ""
          }
         },
         "name": "AdBuddiz",
         "offsetgroup": "AdBuddiz",
         "orientation": "v",
         "showlegend": true,
         "type": "histogram",
         "x": [
          "2019-08-20"
         ],
         "xaxis": "x",
         "y": [
          297
         ],
         "yaxis": "y"
        },
        {
         "alignmentgroup": "True",
         "bingroup": "x",
         "histfunc": "sum",
         "hovertemplate": "Name=Analytics by NPAW (Youbora Suite)<br>Date=%{x}<br>sum of Occurrence=%{y}<extra></extra>",
         "legendgroup": "Analytics by NPAW (Youbora Suite)",
         "marker": {
          "color": "#19d3f3",
          "pattern": {
           "shape": ""
          }
         },
         "name": "Analytics by NPAW (Youbora Suite)",
         "offsetgroup": "Analytics by NPAW (Youbora Suite)",
         "orientation": "v",
         "showlegend": true,
         "type": "histogram",
         "x": [
          "2021-05-07"
         ],
         "xaxis": "x",
         "y": [
          295
         ],
         "yaxis": "y"
        },
        {
         "alignmentgroup": "True",
         "bingroup": "x",
         "histfunc": "sum",
         "hovertemplate": "Name=NativeX<br>Date=%{x}<br>sum of Occurrence=%{y}<extra></extra>",
         "legendgroup": "NativeX",
         "marker": {
          "color": "#FF6692",
          "pattern": {
           "shape": ""
          }
         },
         "name": "NativeX",
         "offsetgroup": "NativeX",
         "orientation": "v",
         "showlegend": true,
         "type": "histogram",
         "x": [
          "2018-01-05"
         ],
         "xaxis": "x",
         "y": [
          290
         ],
         "yaxis": "y"
        },
        {
         "alignmentgroup": "True",
         "bingroup": "x",
         "histfunc": "sum",
         "hovertemplate": "Name=FreeWheel<br>Date=%{x}<br>sum of Occurrence=%{y}<extra></extra>",
         "legendgroup": "FreeWheel",
         "marker": {
          "color": "#B6E880",
          "pattern": {
           "shape": ""
          }
         },
         "name": "FreeWheel",
         "offsetgroup": "FreeWheel",
         "orientation": "v",
         "showlegend": true,
         "type": "histogram",
         "x": [
          "2019-10-26"
         ],
         "xaxis": "x",
         "y": [
          286
         ],
         "yaxis": "y"
        },
        {
         "alignmentgroup": "True",
         "bingroup": "x",
         "histfunc": "sum",
         "hovertemplate": "Name=Gemius HeatMap<br>Date=%{x}<br>sum of Occurrence=%{y}<extra></extra>",
         "legendgroup": "Gemius HeatMap",
         "marker": {
          "color": "#FF97FF",
          "pattern": {
           "shape": ""
          }
         },
         "name": "Gemius HeatMap",
         "offsetgroup": "Gemius HeatMap",
         "orientation": "v",
         "showlegend": true,
         "type": "histogram",
         "x": [
          "2019-10-26"
         ],
         "xaxis": "x",
         "y": [
          277
         ],
         "yaxis": "y"
        },
        {
         "alignmentgroup": "True",
         "bingroup": "x",
         "histfunc": "sum",
         "hovertemplate": "Name=Chartbeat<br>Date=%{x}<br>sum of Occurrence=%{y}<extra></extra>",
         "legendgroup": "Chartbeat",
         "marker": {
          "color": "#FECB52",
          "pattern": {
           "shape": ""
          }
         },
         "name": "Chartbeat",
         "offsetgroup": "Chartbeat",
         "orientation": "v",
         "showlegend": true,
         "type": "histogram",
         "x": [
          "2020-01-02"
         ],
         "xaxis": "x",
         "y": [
          275
         ],
         "yaxis": "y"
        },
        {
         "alignmentgroup": "True",
         "bingroup": "x",
         "histfunc": "sum",
         "hovertemplate": "Name=Baidu Map<br>Date=%{x}<br>sum of Occurrence=%{y}<extra></extra>",
         "legendgroup": "Baidu Map",
         "marker": {
          "color": "#636efa",
          "pattern": {
           "shape": ""
          }
         },
         "name": "Baidu Map",
         "offsetgroup": "Baidu Map",
         "orientation": "v",
         "showlegend": true,
         "type": "histogram",
         "x": [
          "2018-03-04"
         ],
         "xaxis": "x",
         "y": [
          266
         ],
         "yaxis": "y"
        },
        {
         "alignmentgroup": "True",
         "bingroup": "x",
         "histfunc": "sum",
         "hovertemplate": "Name=LoopMe<br>Date=%{x}<br>sum of Occurrence=%{y}<extra></extra>",
         "legendgroup": "LoopMe",
         "marker": {
          "color": "#EF553B",
          "pattern": {
           "shape": ""
          }
         },
         "name": "LoopMe",
         "offsetgroup": "LoopMe",
         "orientation": "v",
         "showlegend": true,
         "type": "histogram",
         "x": [
          "2021-03-01"
         ],
         "xaxis": "x",
         "y": [
          266
         ],
         "yaxis": "y"
        },
        {
         "alignmentgroup": "True",
         "bingroup": "x",
         "histfunc": "sum",
         "hovertemplate": "Name=TagCommander (Commanders Act.)<br>Date=%{x}<br>sum of Occurrence=%{y}<extra></extra>",
         "legendgroup": "TagCommander (Commanders Act.)",
         "marker": {
          "color": "#00cc96",
          "pattern": {
           "shape": ""
          }
         },
         "name": "TagCommander (Commanders Act.)",
         "offsetgroup": "TagCommander (Commanders Act.)",
         "orientation": "v",
         "showlegend": true,
         "type": "histogram",
         "x": [
          "2017-11-28"
         ],
         "xaxis": "x",
         "y": [
          265
         ],
         "yaxis": "y"
        },
        {
         "alignmentgroup": "True",
         "bingroup": "x",
         "histfunc": "sum",
         "hovertemplate": "Name=Cauly<br>Date=%{x}<br>sum of Occurrence=%{y}<extra></extra>",
         "legendgroup": "Cauly",
         "marker": {
          "color": "#ab63fa",
          "pattern": {
           "shape": ""
          }
         },
         "name": "Cauly",
         "offsetgroup": "Cauly",
         "orientation": "v",
         "showlegend": true,
         "type": "histogram",
         "x": [
          "2019-11-09"
         ],
         "xaxis": "x",
         "y": [
          260
         ],
         "yaxis": "y"
        },
        {
         "alignmentgroup": "True",
         "bingroup": "x",
         "histfunc": "sum",
         "hovertemplate": "Name=UXCam<br>Date=%{x}<br>sum of Occurrence=%{y}<extra></extra>",
         "legendgroup": "UXCam",
         "marker": {
          "color": "#FFA15A",
          "pattern": {
           "shape": ""
          }
         },
         "name": "UXCam",
         "offsetgroup": "UXCam",
         "orientation": "v",
         "showlegend": true,
         "type": "histogram",
         "x": [
          "2019-11-09"
         ],
         "xaxis": "x",
         "y": [
          256
         ],
         "yaxis": "y"
        },
        {
         "alignmentgroup": "True",
         "bingroup": "x",
         "histfunc": "sum",
         "hovertemplate": "Name=GIPHY Analytics<br>Date=%{x}<br>sum of Occurrence=%{y}<extra></extra>",
         "legendgroup": "GIPHY Analytics",
         "marker": {
          "color": "#19d3f3",
          "pattern": {
           "shape": ""
          }
         },
         "name": "GIPHY Analytics",
         "offsetgroup": "GIPHY Analytics",
         "orientation": "v",
         "showlegend": true,
         "type": "histogram",
         "x": [
          "2020-06-08"
         ],
         "xaxis": "x",
         "y": [
          254
         ],
         "yaxis": "y"
        },
        {
         "alignmentgroup": "True",
         "bingroup": "x",
         "histfunc": "sum",
         "hovertemplate": "Name=SuperAwesome<br>Date=%{x}<br>sum of Occurrence=%{y}<extra></extra>",
         "legendgroup": "SuperAwesome",
         "marker": {
          "color": "#FF6692",
          "pattern": {
           "shape": ""
          }
         },
         "name": "SuperAwesome",
         "offsetgroup": "SuperAwesome",
         "orientation": "v",
         "showlegend": true,
         "type": "histogram",
         "x": [
          "2021-03-01"
         ],
         "xaxis": "x",
         "y": [
          254
         ],
         "yaxis": "y"
        },
        {
         "alignmentgroup": "True",
         "bingroup": "x",
         "histfunc": "sum",
         "hovertemplate": "Name=MoEngage<br>Date=%{x}<br>sum of Occurrence=%{y}<extra></extra>",
         "legendgroup": "MoEngage",
         "marker": {
          "color": "#B6E880",
          "pattern": {
           "shape": ""
          }
         },
         "name": "MoEngage",
         "offsetgroup": "MoEngage",
         "orientation": "v",
         "showlegend": true,
         "type": "histogram",
         "x": [
          "2020-01-02"
         ],
         "xaxis": "x",
         "y": [
          252
         ],
         "yaxis": "y"
        },
        {
         "alignmentgroup": "True",
         "bingroup": "x",
         "histfunc": "sum",
         "hovertemplate": "Name=Omniture<br>Date=%{x}<br>sum of Occurrence=%{y}<extra></extra>",
         "legendgroup": "Omniture",
         "marker": {
          "color": "#FF97FF",
          "pattern": {
           "shape": ""
          }
         },
         "name": "Omniture",
         "offsetgroup": "Omniture",
         "orientation": "v",
         "showlegend": true,
         "type": "histogram",
         "x": [
          "2017-11-16"
         ],
         "xaxis": "x",
         "y": [
          251
         ],
         "yaxis": "y"
        },
        {
         "alignmentgroup": "True",
         "bingroup": "x",
         "histfunc": "sum",
         "hovertemplate": "Name=Sensors Analytics<br>Date=%{x}<br>sum of Occurrence=%{y}<extra></extra>",
         "legendgroup": "Sensors Analytics",
         "marker": {
          "color": "#FECB52",
          "pattern": {
           "shape": ""
          }
         },
         "name": "Sensors Analytics",
         "offsetgroup": "Sensors Analytics",
         "orientation": "v",
         "showlegend": true,
         "type": "histogram",
         "x": [
          "2019-11-09"
         ],
         "xaxis": "x",
         "y": [
          248
         ],
         "yaxis": "y"
        },
        {
         "alignmentgroup": "True",
         "bingroup": "x",
         "histfunc": "sum",
         "hovertemplate": "Name=Quantcast<br>Date=%{x}<br>sum of Occurrence=%{y}<extra></extra>",
         "legendgroup": "Quantcast",
         "marker": {
          "color": "#636efa",
          "pattern": {
           "shape": ""
          }
         },
         "name": "Quantcast",
         "offsetgroup": "Quantcast",
         "orientation": "v",
         "showlegend": true,
         "type": "histogram",
         "x": [
          "2018-03-04"
         ],
         "xaxis": "x",
         "y": [
          242
         ],
         "yaxis": "y"
        },
        {
         "alignmentgroup": "True",
         "bingroup": "x",
         "histfunc": "sum",
         "hovertemplate": "Name=deltaDNA<br>Date=%{x}<br>sum of Occurrence=%{y}<extra></extra>",
         "legendgroup": "deltaDNA",
         "marker": {
          "color": "#EF553B",
          "pattern": {
           "shape": ""
          }
         },
         "name": "deltaDNA",
         "offsetgroup": "deltaDNA",
         "orientation": "v",
         "showlegend": true,
         "type": "histogram",
         "x": [
          "2019-03-19"
         ],
         "xaxis": "x",
         "y": [
          236
         ],
         "yaxis": "y"
        },
        {
         "alignmentgroup": "True",
         "bingroup": "x",
         "histfunc": "sum",
         "hovertemplate": "Name=Button<br>Date=%{x}<br>sum of Occurrence=%{y}<extra></extra>",
         "legendgroup": "Button",
         "marker": {
          "color": "#00cc96",
          "pattern": {
           "shape": ""
          }
         },
         "name": "Button",
         "offsetgroup": "Button",
         "orientation": "v",
         "showlegend": true,
         "type": "histogram",
         "x": [
          "2020-12-13"
         ],
         "xaxis": "x",
         "y": [
          221
         ],
         "yaxis": "y"
        },
        {
         "alignmentgroup": "True",
         "bingroup": "x",
         "histfunc": "sum",
         "hovertemplate": "Name=Webtrekk<br>Date=%{x}<br>sum of Occurrence=%{y}<extra></extra>",
         "legendgroup": "Webtrekk",
         "marker": {
          "color": "#ab63fa",
          "pattern": {
           "shape": ""
          }
         },
         "name": "Webtrekk",
         "offsetgroup": "Webtrekk",
         "orientation": "v",
         "showlegend": true,
         "type": "histogram",
         "x": [
          "2019-11-09"
         ],
         "xaxis": "x",
         "y": [
          219
         ],
         "yaxis": "y"
        },
        {
         "alignmentgroup": "True",
         "bingroup": "x",
         "histfunc": "sum",
         "hovertemplate": "Name=Bugfender<br>Date=%{x}<br>sum of Occurrence=%{y}<extra></extra>",
         "legendgroup": "Bugfender",
         "marker": {
          "color": "#FFA15A",
          "pattern": {
           "shape": ""
          }
         },
         "name": "Bugfender",
         "offsetgroup": "Bugfender",
         "orientation": "v",
         "showlegend": true,
         "type": "histogram",
         "x": [
          "2019-10-26"
         ],
         "xaxis": "x",
         "y": [
          218
         ],
         "yaxis": "y"
        },
        {
         "alignmentgroup": "True",
         "bingroup": "x",
         "histfunc": "sum",
         "hovertemplate": "Name=Zoho Analytics<br>Date=%{x}<br>sum of Occurrence=%{y}<extra></extra>",
         "legendgroup": "Zoho Analytics",
         "marker": {
          "color": "#19d3f3",
          "pattern": {
           "shape": ""
          }
         },
         "name": "Zoho Analytics",
         "offsetgroup": "Zoho Analytics",
         "orientation": "v",
         "showlegend": true,
         "type": "histogram",
         "x": [
          "2021-03-01"
         ],
         "xaxis": "x",
         "y": [
          215
         ],
         "yaxis": "y"
        },
        {
         "alignmentgroup": "True",
         "bingroup": "x",
         "histfunc": "sum",
         "hovertemplate": "Name=ACRCloud<br>Date=%{x}<br>sum of Occurrence=%{y}<extra></extra>",
         "legendgroup": "ACRCloud",
         "marker": {
          "color": "#FF6692",
          "pattern": {
           "shape": ""
          }
         },
         "name": "ACRCloud",
         "offsetgroup": "ACRCloud",
         "orientation": "v",
         "showlegend": true,
         "type": "histogram",
         "x": [
          "2020-09-19"
         ],
         "xaxis": "x",
         "y": [
          210
         ],
         "yaxis": "y"
        },
        {
         "alignmentgroup": "True",
         "bingroup": "x",
         "histfunc": "sum",
         "hovertemplate": "Name=Rubicon Project<br>Date=%{x}<br>sum of Occurrence=%{y}<extra></extra>",
         "legendgroup": "Rubicon Project",
         "marker": {
          "color": "#B6E880",
          "pattern": {
           "shape": ""
          }
         },
         "name": "Rubicon Project",
         "offsetgroup": "Rubicon Project",
         "orientation": "v",
         "showlegend": true,
         "type": "histogram",
         "x": [
          "2018-08-16"
         ],
         "xaxis": "x",
         "y": [
          206
         ],
         "yaxis": "y"
        },
        {
         "alignmentgroup": "True",
         "bingroup": "x",
         "histfunc": "sum",
         "hovertemplate": "Name=Gimbal<br>Date=%{x}<br>sum of Occurrence=%{y}<extra></extra>",
         "legendgroup": "Gimbal",
         "marker": {
          "color": "#FF97FF",
          "pattern": {
           "shape": ""
          }
         },
         "name": "Gimbal",
         "offsetgroup": "Gimbal",
         "orientation": "v",
         "showlegend": true,
         "type": "histogram",
         "x": [
          "2019-04-15"
         ],
         "xaxis": "x",
         "y": [
          203
         ],
         "yaxis": "y"
        },
        {
         "alignmentgroup": "True",
         "bingroup": "x",
         "histfunc": "sum",
         "hovertemplate": "Name=Schibsted<br>Date=%{x}<br>sum of Occurrence=%{y}<extra></extra>",
         "legendgroup": "Schibsted",
         "marker": {
          "color": "#FECB52",
          "pattern": {
           "shape": ""
          }
         },
         "name": "Schibsted",
         "offsetgroup": "Schibsted",
         "orientation": "v",
         "showlegend": true,
         "type": "histogram",
         "x": [
          "2017-09-25"
         ],
         "xaxis": "x",
         "y": [
          199
         ],
         "yaxis": "y"
        },
        {
         "alignmentgroup": "True",
         "bingroup": "x",
         "histfunc": "sum",
         "hovertemplate": "Name=Estimote<br>Date=%{x}<br>sum of Occurrence=%{y}<extra></extra>",
         "legendgroup": "Estimote",
         "marker": {
          "color": "#636efa",
          "pattern": {
           "shape": ""
          }
         },
         "name": "Estimote",
         "offsetgroup": "Estimote",
         "orientation": "v",
         "showlegend": true,
         "type": "histogram",
         "x": [
          "2018-03-04"
         ],
         "xaxis": "x",
         "y": [
          199
         ],
         "yaxis": "y"
        },
        {
         "alignmentgroup": "True",
         "bingroup": "x",
         "histfunc": "sum",
         "hovertemplate": "Name=Carnival<br>Date=%{x}<br>sum of Occurrence=%{y}<extra></extra>",
         "legendgroup": "Carnival",
         "marker": {
          "color": "#EF553B",
          "pattern": {
           "shape": ""
          }
         },
         "name": "Carnival",
         "offsetgroup": "Carnival",
         "orientation": "v",
         "showlegend": true,
         "type": "histogram",
         "x": [
          "2018-03-04"
         ],
         "xaxis": "x",
         "y": [
          199
         ],
         "yaxis": "y"
        },
        {
         "alignmentgroup": "True",
         "bingroup": "x",
         "histfunc": "sum",
         "hovertemplate": "Name=Kiip<br>Date=%{x}<br>sum of Occurrence=%{y}<extra></extra>",
         "legendgroup": "Kiip",
         "marker": {
          "color": "#00cc96",
          "pattern": {
           "shape": ""
          }
         },
         "name": "Kiip",
         "offsetgroup": "Kiip",
         "orientation": "v",
         "showlegend": true,
         "type": "histogram",
         "x": [
          "2019-08-20"
         ],
         "xaxis": "x",
         "y": [
          197
         ],
         "yaxis": "y"
        },
        {
         "alignmentgroup": "True",
         "bingroup": "x",
         "histfunc": "sum",
         "hovertemplate": "Name=Wootric<br>Date=%{x}<br>sum of Occurrence=%{y}<extra></extra>",
         "legendgroup": "Wootric",
         "marker": {
          "color": "#ab63fa",
          "pattern": {
           "shape": ""
          }
         },
         "name": "Wootric",
         "offsetgroup": "Wootric",
         "orientation": "v",
         "showlegend": true,
         "type": "histogram",
         "x": [
          "2019-10-26"
         ],
         "xaxis": "x",
         "y": [
          194
         ],
         "yaxis": "y"
        },
        {
         "alignmentgroup": "True",
         "bingroup": "x",
         "histfunc": "sum",
         "hovertemplate": "Name=Qualtrics<br>Date=%{x}<br>sum of Occurrence=%{y}<extra></extra>",
         "legendgroup": "Qualtrics",
         "marker": {
          "color": "#FFA15A",
          "pattern": {
           "shape": ""
          }
         },
         "name": "Qualtrics",
         "offsetgroup": "Qualtrics",
         "orientation": "v",
         "showlegend": true,
         "type": "histogram",
         "x": [
          "2020-06-08"
         ],
         "xaxis": "x",
         "y": [
          190
         ],
         "yaxis": "y"
        },
        {
         "alignmentgroup": "True",
         "bingroup": "x",
         "histfunc": "sum",
         "hovertemplate": "Name=BidMachine<br>Date=%{x}<br>sum of Occurrence=%{y}<extra></extra>",
         "legendgroup": "BidMachine",
         "marker": {
          "color": "#19d3f3",
          "pattern": {
           "shape": ""
          }
         },
         "name": "BidMachine",
         "offsetgroup": "BidMachine",
         "orientation": "v",
         "showlegend": true,
         "type": "histogram",
         "x": [
          "2021-03-01"
         ],
         "xaxis": "x",
         "y": [
          187
         ],
         "yaxis": "y"
        },
        {
         "alignmentgroup": "True",
         "bingroup": "x",
         "histfunc": "sum",
         "hovertemplate": "Name=Display<br>Date=%{x}<br>sum of Occurrence=%{y}<extra></extra>",
         "legendgroup": "Display",
         "marker": {
          "color": "#FF6692",
          "pattern": {
           "shape": ""
          }
         },
         "name": "Display",
         "offsetgroup": "Display",
         "orientation": "v",
         "showlegend": true,
         "type": "histogram",
         "x": [
          "2019-03-19"
         ],
         "xaxis": "x",
         "y": [
          186
         ],
         "yaxis": "y"
        },
        {
         "alignmentgroup": "True",
         "bingroup": "x",
         "histfunc": "sum",
         "hovertemplate": "Name=Sense360<br>Date=%{x}<br>sum of Occurrence=%{y}<extra></extra>",
         "legendgroup": "Sense360",
         "marker": {
          "color": "#B6E880",
          "pattern": {
           "shape": ""
          }
         },
         "name": "Sense360",
         "offsetgroup": "Sense360",
         "orientation": "v",
         "showlegend": true,
         "type": "histogram",
         "x": [
          "2018-08-16"
         ],
         "xaxis": "x",
         "y": [
          185
         ],
         "yaxis": "y"
        },
        {
         "alignmentgroup": "True",
         "bingroup": "x",
         "histfunc": "sum",
         "hovertemplate": "Name=KIDOZ<br>Date=%{x}<br>sum of Occurrence=%{y}<extra></extra>",
         "legendgroup": "KIDOZ",
         "marker": {
          "color": "#FF97FF",
          "pattern": {
           "shape": ""
          }
         },
         "name": "KIDOZ",
         "offsetgroup": "KIDOZ",
         "orientation": "v",
         "showlegend": true,
         "type": "histogram",
         "x": [
          "2019-10-26"
         ],
         "xaxis": "x",
         "y": [
          185
         ],
         "yaxis": "y"
        },
        {
         "alignmentgroup": "True",
         "bingroup": "x",
         "histfunc": "sum",
         "hovertemplate": "Name=TapResearch<br>Date=%{x}<br>sum of Occurrence=%{y}<extra></extra>",
         "legendgroup": "TapResearch",
         "marker": {
          "color": "#FECB52",
          "pattern": {
           "shape": ""
          }
         },
         "name": "TapResearch",
         "offsetgroup": "TapResearch",
         "orientation": "v",
         "showlegend": true,
         "type": "histogram",
         "x": [
          "2021-03-01"
         ],
         "xaxis": "x",
         "y": [
          185
         ],
         "yaxis": "y"
        },
        {
         "alignmentgroup": "True",
         "bingroup": "x",
         "histfunc": "sum",
         "hovertemplate": "Name=OneAudience<br>Date=%{x}<br>sum of Occurrence=%{y}<extra></extra>",
         "legendgroup": "OneAudience",
         "marker": {
          "color": "#636efa",
          "pattern": {
           "shape": ""
          }
         },
         "name": "OneAudience",
         "offsetgroup": "OneAudience",
         "orientation": "v",
         "showlegend": true,
         "type": "histogram",
         "x": [
          "2021-02-14"
         ],
         "xaxis": "x",
         "y": [
          179
         ],
         "yaxis": "y"
        },
        {
         "alignmentgroup": "True",
         "bingroup": "x",
         "histfunc": "sum",
         "hovertemplate": "Name=IQzone<br>Date=%{x}<br>sum of Occurrence=%{y}<extra></extra>",
         "legendgroup": "IQzone",
         "marker": {
          "color": "#EF553B",
          "pattern": {
           "shape": ""
          }
         },
         "name": "IQzone",
         "offsetgroup": "IQzone",
         "orientation": "v",
         "showlegend": true,
         "type": "histogram",
         "x": [
          "2019-10-26"
         ],
         "xaxis": "x",
         "y": [
          178
         ],
         "yaxis": "y"
        },
        {
         "alignmentgroup": "True",
         "bingroup": "x",
         "histfunc": "sum",
         "hovertemplate": "Name=Admost<br>Date=%{x}<br>sum of Occurrence=%{y}<extra></extra>",
         "legendgroup": "Admost",
         "marker": {
          "color": "#00cc96",
          "pattern": {
           "shape": ""
          }
         },
         "name": "Admost",
         "offsetgroup": "Admost",
         "orientation": "v",
         "showlegend": true,
         "type": "histogram",
         "x": [
          "2020-02-25"
         ],
         "xaxis": "x",
         "y": [
          176
         ],
         "yaxis": "y"
        },
        {
         "alignmentgroup": "True",
         "bingroup": "x",
         "histfunc": "sum",
         "hovertemplate": "Name=Tapdaq<br>Date=%{x}<br>sum of Occurrence=%{y}<extra></extra>",
         "legendgroup": "Tapdaq",
         "marker": {
          "color": "#ab63fa",
          "pattern": {
           "shape": ""
          }
         },
         "name": "Tapdaq",
         "offsetgroup": "Tapdaq",
         "orientation": "v",
         "showlegend": true,
         "type": "histogram",
         "x": [
          "2019-11-09"
         ],
         "xaxis": "x",
         "y": [
          173
         ],
         "yaxis": "y"
        },
        {
         "alignmentgroup": "True",
         "bingroup": "x",
         "histfunc": "sum",
         "hovertemplate": "Name=CallDorado<br>Date=%{x}<br>sum of Occurrence=%{y}<extra></extra>",
         "legendgroup": "CallDorado",
         "marker": {
          "color": "#FFA15A",
          "pattern": {
           "shape": ""
          }
         },
         "name": "CallDorado",
         "offsetgroup": "CallDorado",
         "orientation": "v",
         "showlegend": true,
         "type": "histogram",
         "x": [
          "2019-11-09"
         ],
         "xaxis": "x",
         "y": [
          169
         ],
         "yaxis": "y"
        },
        {
         "alignmentgroup": "True",
         "bingroup": "x",
         "histfunc": "sum",
         "hovertemplate": "Name=OpenLocate<br>Date=%{x}<br>sum of Occurrence=%{y}<extra></extra>",
         "legendgroup": "OpenLocate",
         "marker": {
          "color": "#19d3f3",
          "pattern": {
           "shape": ""
          }
         },
         "name": "OpenLocate",
         "offsetgroup": "OpenLocate",
         "orientation": "v",
         "showlegend": true,
         "type": "histogram",
         "x": [
          "2017-11-16"
         ],
         "xaxis": "x",
         "y": [
          165
         ],
         "yaxis": "y"
        },
        {
         "alignmentgroup": "True",
         "bingroup": "x",
         "histfunc": "sum",
         "hovertemplate": "Name=Radius Networks<br>Date=%{x}<br>sum of Occurrence=%{y}<extra></extra>",
         "legendgroup": "Radius Networks",
         "marker": {
          "color": "#FF6692",
          "pattern": {
           "shape": ""
          }
         },
         "name": "Radius Networks",
         "offsetgroup": "Radius Networks",
         "orientation": "v",
         "showlegend": true,
         "type": "histogram",
         "x": [
          "2018-03-04"
         ],
         "xaxis": "x",
         "y": [
          164
         ],
         "yaxis": "y"
        },
        {
         "alignmentgroup": "True",
         "bingroup": "x",
         "histfunc": "sum",
         "hovertemplate": "Name=GOM Factory AdPie<br>Date=%{x}<br>sum of Occurrence=%{y}<extra></extra>",
         "legendgroup": "GOM Factory AdPie",
         "marker": {
          "color": "#B6E880",
          "pattern": {
           "shape": ""
          }
         },
         "name": "GOM Factory AdPie",
         "offsetgroup": "GOM Factory AdPie",
         "orientation": "v",
         "showlegend": true,
         "type": "histogram",
         "x": [
          "2021-03-01"
         ],
         "xaxis": "x",
         "y": [
          164
         ],
         "yaxis": "y"
        },
        {
         "alignmentgroup": "True",
         "bingroup": "x",
         "histfunc": "sum",
         "hovertemplate": "Name=AppsGeyser<br>Date=%{x}<br>sum of Occurrence=%{y}<extra></extra>",
         "legendgroup": "AppsGeyser",
         "marker": {
          "color": "#FF97FF",
          "pattern": {
           "shape": ""
          }
         },
         "name": "AppsGeyser",
         "offsetgroup": "AppsGeyser",
         "orientation": "v",
         "showlegend": true,
         "type": "histogram",
         "x": [
          "2021-03-01"
         ],
         "xaxis": "x",
         "y": [
          160
         ],
         "yaxis": "y"
        },
        {
         "alignmentgroup": "True",
         "bingroup": "x",
         "histfunc": "sum",
         "hovertemplate": "Name=TalkingData<br>Date=%{x}<br>sum of Occurrence=%{y}<extra></extra>",
         "legendgroup": "TalkingData",
         "marker": {
          "color": "#FECB52",
          "pattern": {
           "shape": ""
          }
         },
         "name": "TalkingData",
         "offsetgroup": "TalkingData",
         "orientation": "v",
         "showlegend": true,
         "type": "histogram",
         "x": [
          "2020-02-25"
         ],
         "xaxis": "x",
         "y": [
          159
         ],
         "yaxis": "y"
        },
        {
         "alignmentgroup": "True",
         "bingroup": "x",
         "histfunc": "sum",
         "hovertemplate": "Name=AnySDK<br>Date=%{x}<br>sum of Occurrence=%{y}<extra></extra>",
         "legendgroup": "AnySDK",
         "marker": {
          "color": "#636efa",
          "pattern": {
           "shape": ""
          }
         },
         "name": "AnySDK",
         "offsetgroup": "AnySDK",
         "orientation": "v",
         "showlegend": true,
         "type": "histogram",
         "x": [
          "2020-12-13"
         ],
         "xaxis": "x",
         "y": [
          159
         ],
         "yaxis": "y"
        },
        {
         "alignmentgroup": "True",
         "bingroup": "x",
         "histfunc": "sum",
         "hovertemplate": "Name=MobPower<br>Date=%{x}<br>sum of Occurrence=%{y}<extra></extra>",
         "legendgroup": "MobPower",
         "marker": {
          "color": "#EF553B",
          "pattern": {
           "shape": ""
          }
         },
         "name": "MobPower",
         "offsetgroup": "MobPower",
         "orientation": "v",
         "showlegend": true,
         "type": "histogram",
         "x": [
          "2019-08-20"
         ],
         "xaxis": "x",
         "y": [
          159
         ],
         "yaxis": "y"
        },
        {
         "alignmentgroup": "True",
         "bingroup": "x",
         "histfunc": "sum",
         "hovertemplate": "Name=adPOPcorn<br>Date=%{x}<br>sum of Occurrence=%{y}<extra></extra>",
         "legendgroup": "adPOPcorn",
         "marker": {
          "color": "#00cc96",
          "pattern": {
           "shape": ""
          }
         },
         "name": "adPOPcorn",
         "offsetgroup": "adPOPcorn",
         "orientation": "v",
         "showlegend": true,
         "type": "histogram",
         "x": [
          "2020-09-19"
         ],
         "xaxis": "x",
         "y": [
          155
         ],
         "yaxis": "y"
        },
        {
         "alignmentgroup": "True",
         "bingroup": "x",
         "histfunc": "sum",
         "hovertemplate": "Name=Lotame<br>Date=%{x}<br>sum of Occurrence=%{y}<extra></extra>",
         "legendgroup": "Lotame",
         "marker": {
          "color": "#ab63fa",
          "pattern": {
           "shape": ""
          }
         },
         "name": "Lotame",
         "offsetgroup": "Lotame",
         "orientation": "v",
         "showlegend": true,
         "type": "histogram",
         "x": [
          "2020-01-02"
         ],
         "xaxis": "x",
         "y": [
          155
         ],
         "yaxis": "y"
        },
        {
         "alignmentgroup": "True",
         "bingroup": "x",
         "histfunc": "sum",
         "hovertemplate": "Name=Kontakt<br>Date=%{x}<br>sum of Occurrence=%{y}<extra></extra>",
         "legendgroup": "Kontakt",
         "marker": {
          "color": "#FFA15A",
          "pattern": {
           "shape": ""
          }
         },
         "name": "Kontakt",
         "offsetgroup": "Kontakt",
         "orientation": "v",
         "showlegend": true,
         "type": "histogram",
         "x": [
          "2017-12-03"
         ],
         "xaxis": "x",
         "y": [
          153
         ],
         "yaxis": "y"
        },
        {
         "alignmentgroup": "True",
         "bingroup": "x",
         "histfunc": "sum",
         "hovertemplate": "Name=DOV-E<br>Date=%{x}<br>sum of Occurrence=%{y}<extra></extra>",
         "legendgroup": "DOV-E",
         "marker": {
          "color": "#19d3f3",
          "pattern": {
           "shape": ""
          }
         },
         "name": "DOV-E",
         "offsetgroup": "DOV-E",
         "orientation": "v",
         "showlegend": true,
         "type": "histogram",
         "x": [
          "2019-03-19"
         ],
         "xaxis": "x",
         "y": [
          153
         ],
         "yaxis": "y"
        },
        {
         "alignmentgroup": "True",
         "bingroup": "x",
         "histfunc": "sum",
         "hovertemplate": "Name=Snapchat Login Kit<br>Date=%{x}<br>sum of Occurrence=%{y}<extra></extra>",
         "legendgroup": "Snapchat Login Kit",
         "marker": {
          "color": "#FF6692",
          "pattern": {
           "shape": ""
          }
         },
         "name": "Snapchat Login Kit",
         "offsetgroup": "Snapchat Login Kit",
         "orientation": "v",
         "showlegend": true,
         "type": "histogram",
         "x": [
          "2021-05-07"
         ],
         "xaxis": "x",
         "y": [
          152
         ],
         "yaxis": "y"
        },
        {
         "alignmentgroup": "True",
         "bingroup": "x",
         "histfunc": "sum",
         "hovertemplate": "Name=Teemo<br>Date=%{x}<br>sum of Occurrence=%{y}<extra></extra>",
         "legendgroup": "Teemo",
         "marker": {
          "color": "#B6E880",
          "pattern": {
           "shape": ""
          }
         },
         "name": "Teemo",
         "offsetgroup": "Teemo",
         "orientation": "v",
         "showlegend": true,
         "type": "histogram",
         "x": [
          "2017-09-24"
         ],
         "xaxis": "x",
         "y": [
          152
         ],
         "yaxis": "y"
        },
        {
         "alignmentgroup": "True",
         "bingroup": "x",
         "histfunc": "sum",
         "hovertemplate": "Name=BlueKai (acquired by Oracle)<br>Date=%{x}<br>sum of Occurrence=%{y}<extra></extra>",
         "legendgroup": "BlueKai (acquired by Oracle)",
         "marker": {
          "color": "#FF97FF",
          "pattern": {
           "shape": ""
          }
         },
         "name": "BlueKai (acquired by Oracle)",
         "offsetgroup": "BlueKai (acquired by Oracle)",
         "orientation": "v",
         "showlegend": true,
         "type": "histogram",
         "x": [
          "2018-08-16"
         ],
         "xaxis": "x",
         "y": [
          147
         ],
         "yaxis": "y"
        },
        {
         "alignmentgroup": "True",
         "bingroup": "x",
         "histfunc": "sum",
         "hovertemplate": "Name=Adbrix<br>Date=%{x}<br>sum of Occurrence=%{y}<extra></extra>",
         "legendgroup": "Adbrix",
         "marker": {
          "color": "#FECB52",
          "pattern": {
           "shape": ""
          }
         },
         "name": "Adbrix",
         "offsetgroup": "Adbrix",
         "orientation": "v",
         "showlegend": true,
         "type": "histogram",
         "x": [
          "2019-11-09"
         ],
         "xaxis": "x",
         "y": [
          144
         ],
         "yaxis": "y"
        },
        {
         "alignmentgroup": "True",
         "bingroup": "x",
         "histfunc": "sum",
         "hovertemplate": "Name=Cloudmobi<br>Date=%{x}<br>sum of Occurrence=%{y}<extra></extra>",
         "legendgroup": "Cloudmobi",
         "marker": {
          "color": "#636efa",
          "pattern": {
           "shape": ""
          }
         },
         "name": "Cloudmobi",
         "offsetgroup": "Cloudmobi",
         "orientation": "v",
         "showlegend": true,
         "type": "histogram",
         "x": [
          "2019-03-10"
         ],
         "xaxis": "x",
         "y": [
          144
         ],
         "yaxis": "y"
        },
        {
         "alignmentgroup": "True",
         "bingroup": "x",
         "histfunc": "sum",
         "hovertemplate": "Name=Axonix<br>Date=%{x}<br>sum of Occurrence=%{y}<extra></extra>",
         "legendgroup": "Axonix",
         "marker": {
          "color": "#EF553B",
          "pattern": {
           "shape": ""
          }
         },
         "name": "Axonix",
         "offsetgroup": "Axonix",
         "orientation": "v",
         "showlegend": true,
         "type": "histogram",
         "x": [
          "2019-10-26"
         ],
         "xaxis": "x",
         "y": [
          142
         ],
         "yaxis": "y"
        },
        {
         "alignmentgroup": "True",
         "bingroup": "x",
         "histfunc": "sum",
         "hovertemplate": "Name=Taplytics<br>Date=%{x}<br>sum of Occurrence=%{y}<extra></extra>",
         "legendgroup": "Taplytics",
         "marker": {
          "color": "#00cc96",
          "pattern": {
           "shape": ""
          }
         },
         "name": "Taplytics",
         "offsetgroup": "Taplytics",
         "orientation": "v",
         "showlegend": true,
         "type": "histogram",
         "x": [
          "2019-06-20"
         ],
         "xaxis": "x",
         "y": [
          139
         ],
         "yaxis": "y"
        },
        {
         "alignmentgroup": "True",
         "bingroup": "x",
         "histfunc": "sum",
         "hovertemplate": "Name=TNK Factory<br>Date=%{x}<br>sum of Occurrence=%{y}<extra></extra>",
         "legendgroup": "TNK Factory",
         "marker": {
          "color": "#ab63fa",
          "pattern": {
           "shape": ""
          }
         },
         "name": "TNK Factory",
         "offsetgroup": "TNK Factory",
         "orientation": "v",
         "showlegend": true,
         "type": "histogram",
         "x": [
          "2019-10-26"
         ],
         "xaxis": "x",
         "y": [
          138
         ],
         "yaxis": "y"
        },
        {
         "alignmentgroup": "True",
         "bingroup": "x",
         "histfunc": "sum",
         "hovertemplate": "Name=Revmob<br>Date=%{x}<br>sum of Occurrence=%{y}<extra></extra>",
         "legendgroup": "Revmob",
         "marker": {
          "color": "#FFA15A",
          "pattern": {
           "shape": ""
          }
         },
         "name": "Revmob",
         "offsetgroup": "Revmob",
         "orientation": "v",
         "showlegend": true,
         "type": "histogram",
         "x": [
          "2020-01-02"
         ],
         "xaxis": "x",
         "y": [
          135
         ],
         "yaxis": "y"
        },
        {
         "alignmentgroup": "True",
         "bingroup": "x",
         "histfunc": "sum",
         "hovertemplate": "Name=Supersonic Ads<br>Date=%{x}<br>sum of Occurrence=%{y}<extra></extra>",
         "legendgroup": "Supersonic Ads",
         "marker": {
          "color": "#19d3f3",
          "pattern": {
           "shape": ""
          }
         },
         "name": "Supersonic Ads",
         "offsetgroup": "Supersonic Ads",
         "orientation": "v",
         "showlegend": true,
         "type": "histogram",
         "x": [
          "2018-03-04"
         ],
         "xaxis": "x",
         "y": [
          130
         ],
         "yaxis": "y"
        },
        {
         "alignmentgroup": "True",
         "bingroup": "x",
         "histfunc": "sum",
         "hovertemplate": "Name=Heap<br>Date=%{x}<br>sum of Occurrence=%{y}<extra></extra>",
         "legendgroup": "Heap",
         "marker": {
          "color": "#FF6692",
          "pattern": {
           "shape": ""
          }
         },
         "name": "Heap",
         "offsetgroup": "Heap",
         "orientation": "v",
         "showlegend": true,
         "type": "histogram",
         "x": [
          "2020-06-08"
         ],
         "xaxis": "x",
         "y": [
          127
         ],
         "yaxis": "y"
        },
        {
         "alignmentgroup": "True",
         "bingroup": "x",
         "histfunc": "sum",
         "hovertemplate": "Name=Ooyala<br>Date=%{x}<br>sum of Occurrence=%{y}<extra></extra>",
         "legendgroup": "Ooyala",
         "marker": {
          "color": "#B6E880",
          "pattern": {
           "shape": ""
          }
         },
         "name": "Ooyala",
         "offsetgroup": "Ooyala",
         "orientation": "v",
         "showlegend": true,
         "type": "histogram",
         "x": [
          "2019-07-01"
         ],
         "xaxis": "x",
         "y": [
          126
         ],
         "yaxis": "y"
        },
        {
         "alignmentgroup": "True",
         "bingroup": "x",
         "histfunc": "sum",
         "hovertemplate": "Name=WeChat Location<br>Date=%{x}<br>sum of Occurrence=%{y}<extra></extra>",
         "legendgroup": "WeChat Location",
         "marker": {
          "color": "#FF97FF",
          "pattern": {
           "shape": ""
          }
         },
         "name": "WeChat Location",
         "offsetgroup": "WeChat Location",
         "orientation": "v",
         "showlegend": true,
         "type": "histogram",
         "x": [
          "2018-01-05"
         ],
         "xaxis": "x",
         "y": [
          125
         ],
         "yaxis": "y"
        },
        {
         "alignmentgroup": "True",
         "bingroup": "x",
         "histfunc": "sum",
         "hovertemplate": "Name=AdsWizz<br>Date=%{x}<br>sum of Occurrence=%{y}<extra></extra>",
         "legendgroup": "AdsWizz",
         "marker": {
          "color": "#FECB52",
          "pattern": {
           "shape": ""
          }
         },
         "name": "AdsWizz",
         "offsetgroup": "AdsWizz",
         "orientation": "v",
         "showlegend": true,
         "type": "histogram",
         "x": [
          "2017-11-15"
         ],
         "xaxis": "x",
         "y": [
          125
         ],
         "yaxis": "y"
        },
        {
         "alignmentgroup": "True",
         "bingroup": "x",
         "histfunc": "sum",
         "hovertemplate": "Name=FollowAnalytics<br>Date=%{x}<br>sum of Occurrence=%{y}<extra></extra>",
         "legendgroup": "FollowAnalytics",
         "marker": {
          "color": "#636efa",
          "pattern": {
           "shape": ""
          }
         },
         "name": "FollowAnalytics",
         "offsetgroup": "FollowAnalytics",
         "orientation": "v",
         "showlegend": true,
         "type": "histogram",
         "x": [
          "2020-01-02"
         ],
         "xaxis": "x",
         "y": [
          123
         ],
         "yaxis": "y"
        },
        {
         "alignmentgroup": "True",
         "bingroup": "x",
         "histfunc": "sum",
         "hovertemplate": "Name=Baidu Mobile Stat<br>Date=%{x}<br>sum of Occurrence=%{y}<extra></extra>",
         "legendgroup": "Baidu Mobile Stat",
         "marker": {
          "color": "#EF553B",
          "pattern": {
           "shape": ""
          }
         },
         "name": "Baidu Mobile Stat",
         "offsetgroup": "Baidu Mobile Stat",
         "orientation": "v",
         "showlegend": true,
         "type": "histogram",
         "x": [
          "2018-03-04"
         ],
         "xaxis": "x",
         "y": [
          121
         ],
         "yaxis": "y"
        },
        {
         "alignmentgroup": "True",
         "bingroup": "x",
         "histfunc": "sum",
         "hovertemplate": "Name=Uber Analytics<br>Date=%{x}<br>sum of Occurrence=%{y}<extra></extra>",
         "legendgroup": "Uber Analytics",
         "marker": {
          "color": "#00cc96",
          "pattern": {
           "shape": ""
          }
         },
         "name": "Uber Analytics",
         "offsetgroup": "Uber Analytics",
         "orientation": "v",
         "showlegend": true,
         "type": "histogram",
         "x": [
          "2018-01-05"
         ],
         "xaxis": "x",
         "y": [
          121
         ],
         "yaxis": "y"
        },
        {
         "alignmentgroup": "True",
         "bingroup": "x",
         "histfunc": "sum",
         "hovertemplate": "Name=Singlespot<br>Date=%{x}<br>sum of Occurrence=%{y}<extra></extra>",
         "legendgroup": "Singlespot",
         "marker": {
          "color": "#ab63fa",
          "pattern": {
           "shape": ""
          }
         },
         "name": "Singlespot",
         "offsetgroup": "Singlespot",
         "orientation": "v",
         "showlegend": true,
         "type": "histogram",
         "x": [
          "2018-08-16"
         ],
         "xaxis": "x",
         "y": [
          120
         ],
         "yaxis": "y"
        },
        {
         "alignmentgroup": "True",
         "bingroup": "x",
         "histfunc": "sum",
         "hovertemplate": "Name=AdAdapted<br>Date=%{x}<br>sum of Occurrence=%{y}<extra></extra>",
         "legendgroup": "AdAdapted",
         "marker": {
          "color": "#FFA15A",
          "pattern": {
           "shape": ""
          }
         },
         "name": "AdAdapted",
         "offsetgroup": "AdAdapted",
         "orientation": "v",
         "showlegend": true,
         "type": "histogram",
         "x": [
          "2020-02-25"
         ],
         "xaxis": "x",
         "y": [
          119
         ],
         "yaxis": "y"
        },
        {
         "alignmentgroup": "True",
         "bingroup": "x",
         "histfunc": "sum",
         "hovertemplate": "Name=Tapstream<br>Date=%{x}<br>sum of Occurrence=%{y}<extra></extra>",
         "legendgroup": "Tapstream",
         "marker": {
          "color": "#19d3f3",
          "pattern": {
           "shape": ""
          }
         },
         "name": "Tapstream",
         "offsetgroup": "Tapstream",
         "orientation": "v",
         "showlegend": true,
         "type": "histogram",
         "x": [
          "2019-11-09"
         ],
         "xaxis": "x",
         "y": [
          118
         ],
         "yaxis": "y"
        },
        {
         "alignmentgroup": "True",
         "bingroup": "x",
         "histfunc": "sum",
         "hovertemplate": "Name=Verve<br>Date=%{x}<br>sum of Occurrence=%{y}<extra></extra>",
         "legendgroup": "Verve",
         "marker": {
          "color": "#FF6692",
          "pattern": {
           "shape": ""
          }
         },
         "name": "Verve",
         "offsetgroup": "Verve",
         "orientation": "v",
         "showlegend": true,
         "type": "histogram",
         "x": [
          "2019-11-09"
         ],
         "xaxis": "x",
         "y": [
          118
         ],
         "yaxis": "y"
        },
        {
         "alignmentgroup": "True",
         "bingroup": "x",
         "histfunc": "sum",
         "hovertemplate": "Name=Areametrics<br>Date=%{x}<br>sum of Occurrence=%{y}<extra></extra>",
         "legendgroup": "Areametrics",
         "marker": {
          "color": "#B6E880",
          "pattern": {
           "shape": ""
          }
         },
         "name": "Areametrics",
         "offsetgroup": "Areametrics",
         "orientation": "v",
         "showlegend": true,
         "type": "histogram",
         "x": [
          "2017-12-03"
         ],
         "xaxis": "x",
         "y": [
          116
         ],
         "yaxis": "y"
        },
        {
         "alignmentgroup": "True",
         "bingroup": "x",
         "histfunc": "sum",
         "hovertemplate": "Name=Apsalar<br>Date=%{x}<br>sum of Occurrence=%{y}<extra></extra>",
         "legendgroup": "Apsalar",
         "marker": {
          "color": "#FF97FF",
          "pattern": {
           "shape": ""
          }
         },
         "name": "Apsalar",
         "offsetgroup": "Apsalar",
         "orientation": "v",
         "showlegend": true,
         "type": "histogram",
         "x": [
          "2019-11-09"
         ],
         "xaxis": "x",
         "y": [
          116
         ],
         "yaxis": "y"
        },
        {
         "alignmentgroup": "True",
         "bingroup": "x",
         "histfunc": "sum",
         "hovertemplate": "Name=YuMe<br>Date=%{x}<br>sum of Occurrence=%{y}<extra></extra>",
         "legendgroup": "YuMe",
         "marker": {
          "color": "#FECB52",
          "pattern": {
           "shape": ""
          }
         },
         "name": "YuMe",
         "offsetgroup": "YuMe",
         "orientation": "v",
         "showlegend": true,
         "type": "histogram",
         "x": [
          "2020-06-08"
         ],
         "xaxis": "x",
         "y": [
          114
         ],
         "yaxis": "y"
        },
        {
         "alignmentgroup": "True",
         "bingroup": "x",
         "histfunc": "sum",
         "hovertemplate": "Name=Bugsee<br>Date=%{x}<br>sum of Occurrence=%{y}<extra></extra>",
         "legendgroup": "Bugsee",
         "marker": {
          "color": "#636efa",
          "pattern": {
           "shape": ""
          }
         },
         "name": "Bugsee",
         "offsetgroup": "Bugsee",
         "orientation": "v",
         "showlegend": true,
         "type": "histogram",
         "x": [
          "2019-11-09"
         ],
         "xaxis": "x",
         "y": [
          111
         ],
         "yaxis": "y"
        },
        {
         "alignmentgroup": "True",
         "bingroup": "x",
         "histfunc": "sum",
         "hovertemplate": "Name=Pilgrim by Foursquare<br>Date=%{x}<br>sum of Occurrence=%{y}<extra></extra>",
         "legendgroup": "Pilgrim by Foursquare",
         "marker": {
          "color": "#EF553B",
          "pattern": {
           "shape": ""
          }
         },
         "name": "Pilgrim by Foursquare",
         "offsetgroup": "Pilgrim by Foursquare",
         "orientation": "v",
         "showlegend": true,
         "type": "histogram",
         "x": [
          "2019-03-19"
         ],
         "xaxis": "x",
         "y": [
          111
         ],
         "yaxis": "y"
        },
        {
         "alignmentgroup": "True",
         "bingroup": "x",
         "histfunc": "sum",
         "hovertemplate": "Name=Ad Generation<br>Date=%{x}<br>sum of Occurrence=%{y}<extra></extra>",
         "legendgroup": "Ad Generation",
         "marker": {
          "color": "#00cc96",
          "pattern": {
           "shape": ""
          }
         },
         "name": "Ad Generation",
         "offsetgroup": "Ad Generation",
         "orientation": "v",
         "showlegend": true,
         "type": "histogram",
         "x": [
          "2021-03-01"
         ],
         "xaxis": "x",
         "y": [
          106
         ],
         "yaxis": "y"
        },
        {
         "alignmentgroup": "True",
         "bingroup": "x",
         "histfunc": "sum",
         "hovertemplate": "Name=Lisnr<br>Date=%{x}<br>sum of Occurrence=%{y}<extra></extra>",
         "legendgroup": "Lisnr",
         "marker": {
          "color": "#ab63fa",
          "pattern": {
           "shape": ""
          }
         },
         "name": "Lisnr",
         "offsetgroup": "Lisnr",
         "orientation": "v",
         "showlegend": true,
         "type": "histogram",
         "x": [
          "2018-01-05"
         ],
         "xaxis": "x",
         "y": [
          104
         ],
         "yaxis": "y"
        },
        {
         "alignmentgroup": "True",
         "bingroup": "x",
         "histfunc": "sum",
         "hovertemplate": "Name=PubMatic<br>Date=%{x}<br>sum of Occurrence=%{y}<extra></extra>",
         "legendgroup": "PubMatic",
         "marker": {
          "color": "#FFA15A",
          "pattern": {
           "shape": ""
          }
         },
         "name": "PubMatic",
         "offsetgroup": "PubMatic",
         "orientation": "v",
         "showlegend": true,
         "type": "histogram",
         "x": [
          "2019-10-26"
         ],
         "xaxis": "x",
         "y": [
          104
         ],
         "yaxis": "y"
        },
        {
         "alignmentgroup": "True",
         "bingroup": "x",
         "histfunc": "sum",
         "hovertemplate": "Name=Cedexis Radar<br>Date=%{x}<br>sum of Occurrence=%{y}<extra></extra>",
         "legendgroup": "Cedexis Radar",
         "marker": {
          "color": "#19d3f3",
          "pattern": {
           "shape": ""
          }
         },
         "name": "Cedexis Radar",
         "offsetgroup": "Cedexis Radar",
         "orientation": "v",
         "showlegend": true,
         "type": "histogram",
         "x": [
          "2021-05-07"
         ],
         "xaxis": "x",
         "y": [
          100
         ],
         "yaxis": "y"
        },
        {
         "alignmentgroup": "True",
         "bingroup": "x",
         "histfunc": "sum",
         "hovertemplate": "Name=Radar<br>Date=%{x}<br>sum of Occurrence=%{y}<extra></extra>",
         "legendgroup": "Radar",
         "marker": {
          "color": "#FF6692",
          "pattern": {
           "shape": ""
          }
         },
         "name": "Radar",
         "offsetgroup": "Radar",
         "orientation": "v",
         "showlegend": true,
         "type": "histogram",
         "x": [
          "2020-02-25"
         ],
         "xaxis": "x",
         "y": [
          100
         ],
         "yaxis": "y"
        },
        {
         "alignmentgroup": "True",
         "bingroup": "x",
         "histfunc": "sum",
         "hovertemplate": "Name=Carto (formerly Nutiteq)<br>Date=%{x}<br>sum of Occurrence=%{y}<extra></extra>",
         "legendgroup": "Carto (formerly Nutiteq)",
         "marker": {
          "color": "#B6E880",
          "pattern": {
           "shape": ""
          }
         },
         "name": "Carto (formerly Nutiteq)",
         "offsetgroup": "Carto (formerly Nutiteq)",
         "orientation": "v",
         "showlegend": true,
         "type": "histogram",
         "x": [
          "2020-12-13"
         ],
         "xaxis": "x",
         "y": [
          99
         ],
         "yaxis": "y"
        },
        {
         "alignmentgroup": "True",
         "bingroup": "x",
         "histfunc": "sum",
         "hovertemplate": "Name=HyperTrack<br>Date=%{x}<br>sum of Occurrence=%{y}<extra></extra>",
         "legendgroup": "HyperTrack",
         "marker": {
          "color": "#FF97FF",
          "pattern": {
           "shape": ""
          }
         },
         "name": "HyperTrack",
         "offsetgroup": "HyperTrack",
         "orientation": "v",
         "showlegend": true,
         "type": "histogram",
         "x": [
          "2018-01-05"
         ],
         "xaxis": "x",
         "y": [
          97
         ],
         "yaxis": "y"
        },
        {
         "alignmentgroup": "True",
         "bingroup": "x",
         "histfunc": "sum",
         "hovertemplate": "Name=BugSense<br>Date=%{x}<br>sum of Occurrence=%{y}<extra></extra>",
         "legendgroup": "BugSense",
         "marker": {
          "color": "#FECB52",
          "pattern": {
           "shape": ""
          }
         },
         "name": "BugSense",
         "offsetgroup": "BugSense",
         "orientation": "v",
         "showlegend": true,
         "type": "histogram",
         "x": [
          "2021-03-01"
         ],
         "xaxis": "x",
         "y": [
          94
         ],
         "yaxis": "y"
        },
        {
         "alignmentgroup": "True",
         "bingroup": "x",
         "histfunc": "sum",
         "hovertemplate": "Name=Yinzcam Sobek<br>Date=%{x}<br>sum of Occurrence=%{y}<extra></extra>",
         "legendgroup": "Yinzcam Sobek",
         "marker": {
          "color": "#636efa",
          "pattern": {
           "shape": ""
          }
         },
         "name": "Yinzcam Sobek",
         "offsetgroup": "Yinzcam Sobek",
         "orientation": "v",
         "showlegend": true,
         "type": "histogram",
         "x": [
          "2019-06-20"
         ],
         "xaxis": "x",
         "y": [
          92
         ],
         "yaxis": "y"
        },
        {
         "alignmentgroup": "True",
         "bingroup": "x",
         "histfunc": "sum",
         "hovertemplate": "Name=Keen<br>Date=%{x}<br>sum of Occurrence=%{y}<extra></extra>",
         "legendgroup": "Keen",
         "marker": {
          "color": "#EF553B",
          "pattern": {
           "shape": ""
          }
         },
         "name": "Keen",
         "offsetgroup": "Keen",
         "orientation": "v",
         "showlegend": true,
         "type": "histogram",
         "x": [
          "2019-11-09"
         ],
         "xaxis": "x",
         "y": [
          92
         ],
         "yaxis": "y"
        },
        {
         "alignmentgroup": "True",
         "bingroup": "x",
         "histfunc": "sum",
         "hovertemplate": "Name=Tencent Weiyun<br>Date=%{x}<br>sum of Occurrence=%{y}<extra></extra>",
         "legendgroup": "Tencent Weiyun",
         "marker": {
          "color": "#00cc96",
          "pattern": {
           "shape": ""
          }
         },
         "name": "Tencent Weiyun",
         "offsetgroup": "Tencent Weiyun",
         "orientation": "v",
         "showlegend": true,
         "type": "histogram",
         "x": [
          "2018-03-04"
         ],
         "xaxis": "x",
         "y": [
          91
         ],
         "yaxis": "y"
        },
        {
         "alignmentgroup": "True",
         "bingroup": "x",
         "histfunc": "sum",
         "hovertemplate": "Name=Webtrends<br>Date=%{x}<br>sum of Occurrence=%{y}<extra></extra>",
         "legendgroup": "Webtrends",
         "marker": {
          "color": "#ab63fa",
          "pattern": {
           "shape": ""
          }
         },
         "name": "Webtrends",
         "offsetgroup": "Webtrends",
         "orientation": "v",
         "showlegend": true,
         "type": "histogram",
         "x": [
          "2018-03-04"
         ],
         "xaxis": "x",
         "y": [
          89
         ],
         "yaxis": "y"
        },
        {
         "alignmentgroup": "True",
         "bingroup": "x",
         "histfunc": "sum",
         "hovertemplate": "Name=PingStart<br>Date=%{x}<br>sum of Occurrence=%{y}<extra></extra>",
         "legendgroup": "PingStart",
         "marker": {
          "color": "#FFA15A",
          "pattern": {
           "shape": ""
          }
         },
         "name": "PingStart",
         "offsetgroup": "PingStart",
         "orientation": "v",
         "showlegend": true,
         "type": "histogram",
         "x": [
          "2019-11-09"
         ],
         "xaxis": "x",
         "y": [
          88
         ],
         "yaxis": "y"
        },
        {
         "alignmentgroup": "True",
         "bingroup": "x",
         "histfunc": "sum",
         "hovertemplate": "Name=Upsight<br>Date=%{x}<br>sum of Occurrence=%{y}<extra></extra>",
         "legendgroup": "Upsight",
         "marker": {
          "color": "#19d3f3",
          "pattern": {
           "shape": ""
          }
         },
         "name": "Upsight",
         "offsetgroup": "Upsight",
         "orientation": "v",
         "showlegend": true,
         "type": "histogram",
         "x": [
          "2019-11-09"
         ],
         "xaxis": "x",
         "y": [
          88
         ],
         "yaxis": "y"
        },
        {
         "alignmentgroup": "True",
         "bingroup": "x",
         "histfunc": "sum",
         "hovertemplate": "Name=fullstory<br>Date=%{x}<br>sum of Occurrence=%{y}<extra></extra>",
         "legendgroup": "fullstory",
         "marker": {
          "color": "#FF6692",
          "pattern": {
           "shape": ""
          }
         },
         "name": "fullstory",
         "offsetgroup": "fullstory",
         "orientation": "v",
         "showlegend": true,
         "type": "histogram",
         "x": [
          "2021-05-07"
         ],
         "xaxis": "x",
         "y": [
          87
         ],
         "yaxis": "y"
        },
        {
         "alignmentgroup": "True",
         "bingroup": "x",
         "histfunc": "sum",
         "hovertemplate": "Name=Split<br>Date=%{x}<br>sum of Occurrence=%{y}<extra></extra>",
         "legendgroup": "Split",
         "marker": {
          "color": "#B6E880",
          "pattern": {
           "shape": ""
          }
         },
         "name": "Split",
         "offsetgroup": "Split",
         "orientation": "v",
         "showlegend": true,
         "type": "histogram",
         "x": [
          "2020-12-13"
         ],
         "xaxis": "x",
         "y": [
          86
         ],
         "yaxis": "y"
        },
        {
         "alignmentgroup": "True",
         "bingroup": "x",
         "histfunc": "sum",
         "hovertemplate": "Name=Foresee<br>Date=%{x}<br>sum of Occurrence=%{y}<extra></extra>",
         "legendgroup": "Foresee",
         "marker": {
          "color": "#FF97FF",
          "pattern": {
           "shape": ""
          }
         },
         "name": "Foresee",
         "offsetgroup": "Foresee",
         "orientation": "v",
         "showlegend": true,
         "type": "histogram",
         "x": [
          "2018-08-16"
         ],
         "xaxis": "x",
         "y": [
          85
         ],
         "yaxis": "y"
        },
        {
         "alignmentgroup": "True",
         "bingroup": "x",
         "histfunc": "sum",
         "hovertemplate": "Name=Emarsys Predict<br>Date=%{x}<br>sum of Occurrence=%{y}<extra></extra>",
         "legendgroup": "Emarsys Predict",
         "marker": {
          "color": "#FECB52",
          "pattern": {
           "shape": ""
          }
         },
         "name": "Emarsys Predict",
         "offsetgroup": "Emarsys Predict",
         "orientation": "v",
         "showlegend": true,
         "type": "histogram",
         "x": [
          "2020-01-02"
         ],
         "xaxis": "x",
         "y": [
          84
         ],
         "yaxis": "y"
        },
        {
         "alignmentgroup": "True",
         "bingroup": "x",
         "histfunc": "sum",
         "hovertemplate": "Name=Exponea<br>Date=%{x}<br>sum of Occurrence=%{y}<extra></extra>",
         "legendgroup": "Exponea",
         "marker": {
          "color": "#636efa",
          "pattern": {
           "shape": ""
          }
         },
         "name": "Exponea",
         "offsetgroup": "Exponea",
         "orientation": "v",
         "showlegend": true,
         "type": "histogram",
         "x": [
          "2021-01-24"
         ],
         "xaxis": "x",
         "y": [
          83
         ],
         "yaxis": "y"
        },
        {
         "alignmentgroup": "True",
         "bingroup": "x",
         "histfunc": "sum",
         "hovertemplate": "Name=YouAppi<br>Date=%{x}<br>sum of Occurrence=%{y}<extra></extra>",
         "legendgroup": "YouAppi",
         "marker": {
          "color": "#EF553B",
          "pattern": {
           "shape": ""
          }
         },
         "name": "YouAppi",
         "offsetgroup": "YouAppi",
         "orientation": "v",
         "showlegend": true,
         "type": "histogram",
         "x": [
          "2019-10-26"
         ],
         "xaxis": "x",
         "y": [
          82
         ],
         "yaxis": "y"
        },
        {
         "alignmentgroup": "True",
         "bingroup": "x",
         "histfunc": "sum",
         "hovertemplate": "Name=Alphonso<br>Date=%{x}<br>sum of Occurrence=%{y}<extra></extra>",
         "legendgroup": "Alphonso",
         "marker": {
          "color": "#00cc96",
          "pattern": {
           "shape": ""
          }
         },
         "name": "Alphonso",
         "offsetgroup": "Alphonso",
         "orientation": "v",
         "showlegend": true,
         "type": "histogram",
         "x": [
          "2018-01-05"
         ],
         "xaxis": "x",
         "y": [
          82
         ],
         "yaxis": "y"
        },
        {
         "alignmentgroup": "True",
         "bingroup": "x",
         "histfunc": "sum",
         "hovertemplate": "Name=PredicIO<br>Date=%{x}<br>sum of Occurrence=%{y}<extra></extra>",
         "legendgroup": "PredicIO",
         "marker": {
          "color": "#ab63fa",
          "pattern": {
           "shape": ""
          }
         },
         "name": "PredicIO",
         "offsetgroup": "PredicIO",
         "orientation": "v",
         "showlegend": true,
         "type": "histogram",
         "x": [
          "2021-02-14"
         ],
         "xaxis": "x",
         "y": [
          81
         ],
         "yaxis": "y"
        },
        {
         "alignmentgroup": "True",
         "bingroup": "x",
         "histfunc": "sum",
         "hovertemplate": "Name=AdFalcon<br>Date=%{x}<br>sum of Occurrence=%{y}<extra></extra>",
         "legendgroup": "AdFalcon",
         "marker": {
          "color": "#FFA15A",
          "pattern": {
           "shape": ""
          }
         },
         "name": "AdFalcon",
         "offsetgroup": "AdFalcon",
         "orientation": "v",
         "showlegend": true,
         "type": "histogram",
         "x": [
          "2020-06-08"
         ],
         "xaxis": "x",
         "y": [
          79
         ],
         "yaxis": "y"
        },
        {
         "alignmentgroup": "True",
         "bingroup": "x",
         "histfunc": "sum",
         "hovertemplate": "Name=InMarket<br>Date=%{x}<br>sum of Occurrence=%{y}<extra></extra>",
         "legendgroup": "InMarket",
         "marker": {
          "color": "#19d3f3",
          "pattern": {
           "shape": ""
          }
         },
         "name": "InMarket",
         "offsetgroup": "InMarket",
         "orientation": "v",
         "showlegend": true,
         "type": "histogram",
         "x": [
          "2019-03-19"
         ],
         "xaxis": "x",
         "y": [
          78
         ],
         "yaxis": "y"
        },
        {
         "alignmentgroup": "True",
         "bingroup": "x",
         "histfunc": "sum",
         "hovertemplate": "Name=SignalFrame<br>Date=%{x}<br>sum of Occurrence=%{y}<extra></extra>",
         "legendgroup": "SignalFrame",
         "marker": {
          "color": "#FF6692",
          "pattern": {
           "shape": ""
          }
         },
         "name": "SignalFrame",
         "offsetgroup": "SignalFrame",
         "orientation": "v",
         "showlegend": true,
         "type": "histogram",
         "x": [
          "2021-01-24"
         ],
         "xaxis": "x",
         "y": [
          78
         ],
         "yaxis": "y"
        },
        {
         "alignmentgroup": "True",
         "bingroup": "x",
         "histfunc": "sum",
         "hovertemplate": "Name=JumpTap<br>Date=%{x}<br>sum of Occurrence=%{y}<extra></extra>",
         "legendgroup": "JumpTap",
         "marker": {
          "color": "#B6E880",
          "pattern": {
           "shape": ""
          }
         },
         "name": "JumpTap",
         "offsetgroup": "JumpTap",
         "orientation": "v",
         "showlegend": true,
         "type": "histogram",
         "x": [
          "2021-03-01"
         ],
         "xaxis": "x",
         "y": [
          77
         ],
         "yaxis": "y"
        },
        {
         "alignmentgroup": "True",
         "bingroup": "x",
         "histfunc": "sum",
         "hovertemplate": "Name=OpenX<br>Date=%{x}<br>sum of Occurrence=%{y}<extra></extra>",
         "legendgroup": "OpenX",
         "marker": {
          "color": "#FF97FF",
          "pattern": {
           "shape": ""
          }
         },
         "name": "OpenX",
         "offsetgroup": "OpenX",
         "orientation": "v",
         "showlegend": true,
         "type": "histogram",
         "x": [
          "2019-06-20"
         ],
         "xaxis": "x",
         "y": [
          77
         ],
         "yaxis": "y"
        },
        {
         "alignmentgroup": "True",
         "bingroup": "x",
         "histfunc": "sum",
         "hovertemplate": "Name=Glympse<br>Date=%{x}<br>sum of Occurrence=%{y}<extra></extra>",
         "legendgroup": "Glympse",
         "marker": {
          "color": "#FECB52",
          "pattern": {
           "shape": ""
          }
         },
         "name": "Glympse",
         "offsetgroup": "Glympse",
         "orientation": "v",
         "showlegend": true,
         "type": "histogram",
         "x": [
          "2020-02-25"
         ],
         "xaxis": "x",
         "y": [
          76
         ],
         "yaxis": "y"
        },
        {
         "alignmentgroup": "True",
         "bingroup": "x",
         "histfunc": "sum",
         "hovertemplate": "Name=Retency<br>Date=%{x}<br>sum of Occurrence=%{y}<extra></extra>",
         "legendgroup": "Retency",
         "marker": {
          "color": "#636efa",
          "pattern": {
           "shape": ""
          }
         },
         "name": "Retency",
         "offsetgroup": "Retency",
         "orientation": "v",
         "showlegend": true,
         "type": "histogram",
         "x": [
          "2018-03-04"
         ],
         "xaxis": "x",
         "y": [
          76
         ],
         "yaxis": "y"
        },
        {
         "alignmentgroup": "True",
         "bingroup": "x",
         "histfunc": "sum",
         "hovertemplate": "Name=Bazaarvoice<br>Date=%{x}<br>sum of Occurrence=%{y}<extra></extra>",
         "legendgroup": "Bazaarvoice",
         "marker": {
          "color": "#EF553B",
          "pattern": {
           "shape": ""
          }
         },
         "name": "Bazaarvoice",
         "offsetgroup": "Bazaarvoice",
         "orientation": "v",
         "showlegend": true,
         "type": "histogram",
         "x": [
          "2020-02-25"
         ],
         "xaxis": "x",
         "y": [
          75
         ],
         "yaxis": "y"
        },
        {
         "alignmentgroup": "True",
         "bingroup": "x",
         "histfunc": "sum",
         "hovertemplate": "Name=Backelite<br>Date=%{x}<br>sum of Occurrence=%{y}<extra></extra>",
         "legendgroup": "Backelite",
         "marker": {
          "color": "#00cc96",
          "pattern": {
           "shape": ""
          }
         },
         "name": "Backelite",
         "offsetgroup": "Backelite",
         "orientation": "v",
         "showlegend": true,
         "type": "histogram",
         "x": [
          "2017-12-03"
         ],
         "xaxis": "x",
         "y": [
          75
         ],
         "yaxis": "y"
        },
        {
         "alignmentgroup": "True",
         "bingroup": "x",
         "histfunc": "sum",
         "hovertemplate": "Name=Mail.ru<br>Date=%{x}<br>sum of Occurrence=%{y}<extra></extra>",
         "legendgroup": "Mail.ru",
         "marker": {
          "color": "#ab63fa",
          "pattern": {
           "shape": ""
          }
         },
         "name": "Mail.ru",
         "offsetgroup": "Mail.ru",
         "orientation": "v",
         "showlegend": true,
         "type": "histogram",
         "x": [
          "2020-11-27"
         ],
         "xaxis": "x",
         "y": [
          74
         ],
         "yaxis": "y"
        },
        {
         "alignmentgroup": "True",
         "bingroup": "x",
         "histfunc": "sum",
         "hovertemplate": "Name=Auditude<br>Date=%{x}<br>sum of Occurrence=%{y}<extra></extra>",
         "legendgroup": "Auditude",
         "marker": {
          "color": "#FFA15A",
          "pattern": {
           "shape": ""
          }
         },
         "name": "Auditude",
         "offsetgroup": "Auditude",
         "orientation": "v",
         "showlegend": true,
         "type": "histogram",
         "x": [
          "2019-05-02"
         ],
         "xaxis": "x",
         "y": [
          74
         ],
         "yaxis": "y"
        },
        {
         "alignmentgroup": "True",
         "bingroup": "x",
         "histfunc": "sum",
         "hovertemplate": "Name=BeaconsInSpace (Fysical)<br>Date=%{x}<br>sum of Occurrence=%{y}<extra></extra>",
         "legendgroup": "BeaconsInSpace (Fysical)",
         "marker": {
          "color": "#19d3f3",
          "pattern": {
           "shape": ""
          }
         },
         "name": "BeaconsInSpace (Fysical)",
         "offsetgroup": "BeaconsInSpace (Fysical)",
         "orientation": "v",
         "showlegend": true,
         "type": "histogram",
         "x": [
          "2020-02-25"
         ],
         "xaxis": "x",
         "y": [
          73
         ],
         "yaxis": "y"
        },
        {
         "alignmentgroup": "True",
         "bingroup": "x",
         "histfunc": "sum",
         "hovertemplate": "Name=Raygun<br>Date=%{x}<br>sum of Occurrence=%{y}<extra></extra>",
         "legendgroup": "Raygun",
         "marker": {
          "color": "#FF6692",
          "pattern": {
           "shape": ""
          }
         },
         "name": "Raygun",
         "offsetgroup": "Raygun",
         "orientation": "v",
         "showlegend": true,
         "type": "histogram",
         "x": [
          "2021-03-01"
         ],
         "xaxis": "x",
         "y": [
          73
         ],
         "yaxis": "y"
        },
        {
         "alignmentgroup": "True",
         "bingroup": "x",
         "histfunc": "sum",
         "hovertemplate": "Name=Ensighten<br>Date=%{x}<br>sum of Occurrence=%{y}<extra></extra>",
         "legendgroup": "Ensighten",
         "marker": {
          "color": "#B6E880",
          "pattern": {
           "shape": ""
          }
         },
         "name": "Ensighten",
         "offsetgroup": "Ensighten",
         "orientation": "v",
         "showlegend": true,
         "type": "histogram",
         "x": [
          "2018-08-16"
         ],
         "xaxis": "x",
         "y": [
          72
         ],
         "yaxis": "y"
        },
        {
         "alignmentgroup": "True",
         "bingroup": "x",
         "histfunc": "sum",
         "hovertemplate": "Name=Mobile Engagement<br>Date=%{x}<br>sum of Occurrence=%{y}<extra></extra>",
         "legendgroup": "Mobile Engagement",
         "marker": {
          "color": "#FF97FF",
          "pattern": {
           "shape": ""
          }
         },
         "name": "Mobile Engagement",
         "offsetgroup": "Mobile Engagement",
         "orientation": "v",
         "showlegend": true,
         "type": "histogram",
         "x": [
          "2017-12-04"
         ],
         "xaxis": "x",
         "y": [
          72
         ],
         "yaxis": "y"
        },
        {
         "alignmentgroup": "True",
         "bingroup": "x",
         "histfunc": "sum",
         "hovertemplate": "Name=ADLIB<br>Date=%{x}<br>sum of Occurrence=%{y}<extra></extra>",
         "legendgroup": "ADLIB",
         "marker": {
          "color": "#FECB52",
          "pattern": {
           "shape": ""
          }
         },
         "name": "ADLIB",
         "offsetgroup": "ADLIB",
         "orientation": "v",
         "showlegend": true,
         "type": "histogram",
         "x": [
          "2019-03-10"
         ],
         "xaxis": "x",
         "y": [
          71
         ],
         "yaxis": "y"
        },
        {
         "alignmentgroup": "True",
         "bingroup": "x",
         "histfunc": "sum",
         "hovertemplate": "Name=360Dialog<br>Date=%{x}<br>sum of Occurrence=%{y}<extra></extra>",
         "legendgroup": "360Dialog",
         "marker": {
          "color": "#636efa",
          "pattern": {
           "shape": ""
          }
         },
         "name": "360Dialog",
         "offsetgroup": "360Dialog",
         "orientation": "v",
         "showlegend": true,
         "type": "histogram",
         "x": [
          "2020-09-19"
         ],
         "xaxis": "x",
         "y": [
          68
         ],
         "yaxis": "y"
        },
        {
         "alignmentgroup": "True",
         "bingroup": "x",
         "histfunc": "sum",
         "hovertemplate": "Name=Altamob<br>Date=%{x}<br>sum of Occurrence=%{y}<extra></extra>",
         "legendgroup": "Altamob",
         "marker": {
          "color": "#EF553B",
          "pattern": {
           "shape": ""
          }
         },
         "name": "Altamob",
         "offsetgroup": "Altamob",
         "orientation": "v",
         "showlegend": true,
         "type": "histogram",
         "x": [
          "2020-01-02"
         ],
         "xaxis": "x",
         "y": [
          68
         ],
         "yaxis": "y"
        },
        {
         "alignmentgroup": "True",
         "bingroup": "x",
         "histfunc": "sum",
         "hovertemplate": "Name=Bolts<br>Date=%{x}<br>sum of Occurrence=%{y}<extra></extra>",
         "legendgroup": "Bolts",
         "marker": {
          "color": "#00cc96",
          "pattern": {
           "shape": ""
          }
         },
         "name": "Bolts",
         "offsetgroup": "Bolts",
         "orientation": "v",
         "showlegend": true,
         "type": "histogram",
         "x": [
          "2021-05-07"
         ],
         "xaxis": "x",
         "y": [
          67
         ],
         "yaxis": "y"
        },
        {
         "alignmentgroup": "True",
         "bingroup": "x",
         "histfunc": "sum",
         "hovertemplate": "Name=Reveal Mobile<br>Date=%{x}<br>sum of Occurrence=%{y}<extra></extra>",
         "legendgroup": "Reveal Mobile",
         "marker": {
          "color": "#ab63fa",
          "pattern": {
           "shape": ""
          }
         },
         "name": "Reveal Mobile",
         "offsetgroup": "Reveal Mobile",
         "orientation": "v",
         "showlegend": true,
         "type": "histogram",
         "x": [
          "2019-11-09"
         ],
         "xaxis": "x",
         "y": [
          67
         ],
         "yaxis": "y"
        },
        {
         "alignmentgroup": "True",
         "bingroup": "x",
         "histfunc": "sum",
         "hovertemplate": "Name=AMoAd<br>Date=%{x}<br>sum of Occurrence=%{y}<extra></extra>",
         "legendgroup": "AMoAd",
         "marker": {
          "color": "#FFA15A",
          "pattern": {
           "shape": ""
          }
         },
         "name": "AMoAd",
         "offsetgroup": "AMoAd",
         "orientation": "v",
         "showlegend": true,
         "type": "histogram",
         "x": [
          "2020-02-25"
         ],
         "xaxis": "x",
         "y": [
          66
         ],
         "yaxis": "y"
        },
        {
         "alignmentgroup": "True",
         "bingroup": "x",
         "histfunc": "sum",
         "hovertemplate": "Name=Twine Data<br>Date=%{x}<br>sum of Occurrence=%{y}<extra></extra>",
         "legendgroup": "Twine Data",
         "marker": {
          "color": "#19d3f3",
          "pattern": {
           "shape": ""
          }
         },
         "name": "Twine Data",
         "offsetgroup": "Twine Data",
         "orientation": "v",
         "showlegend": true,
         "type": "histogram",
         "x": [
          "2020-09-19"
         ],
         "xaxis": "x",
         "y": [
          66
         ],
         "yaxis": "y"
        },
        {
         "alignmentgroup": "True",
         "bingroup": "x",
         "histfunc": "sum",
         "hovertemplate": "Name=Beintoo<br>Date=%{x}<br>sum of Occurrence=%{y}<extra></extra>",
         "legendgroup": "Beintoo",
         "marker": {
          "color": "#FF6692",
          "pattern": {
           "shape": ""
          }
         },
         "name": "Beintoo",
         "offsetgroup": "Beintoo",
         "orientation": "v",
         "showlegend": true,
         "type": "histogram",
         "x": [
          "2021-05-07"
         ],
         "xaxis": "x",
         "y": [
          65
         ],
         "yaxis": "y"
        },
        {
         "alignmentgroup": "True",
         "bingroup": "x",
         "histfunc": "sum",
         "hovertemplate": "Name=Vectaury<br>Date=%{x}<br>sum of Occurrence=%{y}<extra></extra>",
         "legendgroup": "Vectaury",
         "marker": {
          "color": "#B6E880",
          "pattern": {
           "shape": ""
          }
         },
         "name": "Vectaury",
         "offsetgroup": "Vectaury",
         "orientation": "v",
         "showlegend": true,
         "type": "histogram",
         "x": [
          "2017-09-28"
         ],
         "xaxis": "x",
         "y": [
          64
         ],
         "yaxis": "y"
        },
        {
         "alignmentgroup": "True",
         "bingroup": "x",
         "histfunc": "sum",
         "hovertemplate": "Name=Insider<br>Date=%{x}<br>sum of Occurrence=%{y}<extra></extra>",
         "legendgroup": "Insider",
         "marker": {
          "color": "#FF97FF",
          "pattern": {
           "shape": ""
          }
         },
         "name": "Insider",
         "offsetgroup": "Insider",
         "orientation": "v",
         "showlegend": true,
         "type": "histogram",
         "x": [
          "2021-05-07"
         ],
         "xaxis": "x",
         "y": [
          63
         ],
         "yaxis": "y"
        },
        {
         "alignmentgroup": "True",
         "bingroup": "x",
         "histfunc": "sum",
         "hovertemplate": "Name=Colocator<br>Date=%{x}<br>sum of Occurrence=%{y}<extra></extra>",
         "legendgroup": "Colocator",
         "marker": {
          "color": "#FECB52",
          "pattern": {
           "shape": ""
          }
         },
         "name": "Colocator",
         "offsetgroup": "Colocator",
         "orientation": "v",
         "showlegend": true,
         "type": "histogram",
         "x": [
          "2017-12-04"
         ],
         "xaxis": "x",
         "y": [
          62
         ],
         "yaxis": "y"
        },
        {
         "alignmentgroup": "True",
         "bingroup": "x",
         "histfunc": "sum",
         "hovertemplate": "Name=Houndify<br>Date=%{x}<br>sum of Occurrence=%{y}<extra></extra>",
         "legendgroup": "Houndify",
         "marker": {
          "color": "#636efa",
          "pattern": {
           "shape": ""
          }
         },
         "name": "Houndify",
         "offsetgroup": "Houndify",
         "orientation": "v",
         "showlegend": true,
         "type": "histogram",
         "x": [
          "2019-06-20"
         ],
         "xaxis": "x",
         "y": [
          61
         ],
         "yaxis": "y"
        },
        {
         "alignmentgroup": "True",
         "bingroup": "x",
         "histfunc": "sum",
         "hovertemplate": "Name=Alooma<br>Date=%{x}<br>sum of Occurrence=%{y}<extra></extra>",
         "legendgroup": "Alooma",
         "marker": {
          "color": "#EF553B",
          "pattern": {
           "shape": ""
          }
         },
         "name": "Alooma",
         "offsetgroup": "Alooma",
         "orientation": "v",
         "showlegend": true,
         "type": "histogram",
         "x": [
          "2021-05-07"
         ],
         "xaxis": "x",
         "y": [
          61
         ],
         "yaxis": "y"
        },
        {
         "alignmentgroup": "True",
         "bingroup": "x",
         "histfunc": "sum",
         "hovertemplate": "Name=AdMuing<br>Date=%{x}<br>sum of Occurrence=%{y}<extra></extra>",
         "legendgroup": "AdMuing",
         "marker": {
          "color": "#00cc96",
          "pattern": {
           "shape": ""
          }
         },
         "name": "AdMuing",
         "offsetgroup": "AdMuing",
         "orientation": "v",
         "showlegend": true,
         "type": "histogram",
         "x": [
          "2020-02-25"
         ],
         "xaxis": "x",
         "y": [
          60
         ],
         "yaxis": "y"
        },
        {
         "alignmentgroup": "True",
         "bingroup": "x",
         "histfunc": "sum",
         "hovertemplate": "Name=Loggly<br>Date=%{x}<br>sum of Occurrence=%{y}<extra></extra>",
         "legendgroup": "Loggly",
         "marker": {
          "color": "#ab63fa",
          "pattern": {
           "shape": ""
          }
         },
         "name": "Loggly",
         "offsetgroup": "Loggly",
         "orientation": "v",
         "showlegend": true,
         "type": "histogram",
         "x": [
          "2017-09-24"
         ],
         "xaxis": "x",
         "y": [
          60
         ],
         "yaxis": "y"
        },
        {
         "alignmentgroup": "True",
         "bingroup": "x",
         "histfunc": "sum",
         "hovertemplate": "Name=Baidu Mobile Ads<br>Date=%{x}<br>sum of Occurrence=%{y}<extra></extra>",
         "legendgroup": "Baidu Mobile Ads",
         "marker": {
          "color": "#FFA15A",
          "pattern": {
           "shape": ""
          }
         },
         "name": "Baidu Mobile Ads",
         "offsetgroup": "Baidu Mobile Ads",
         "orientation": "v",
         "showlegend": true,
         "type": "histogram",
         "x": [
          "2018-03-04"
         ],
         "xaxis": "x",
         "y": [
          60
         ],
         "yaxis": "y"
        },
        {
         "alignmentgroup": "True",
         "bingroup": "x",
         "histfunc": "sum",
         "hovertemplate": "Name=BuzzAd Benefit<br>Date=%{x}<br>sum of Occurrence=%{y}<extra></extra>",
         "legendgroup": "BuzzAd Benefit",
         "marker": {
          "color": "#19d3f3",
          "pattern": {
           "shape": ""
          }
         },
         "name": "BuzzAd Benefit",
         "offsetgroup": "BuzzAd Benefit",
         "orientation": "v",
         "showlegend": true,
         "type": "histogram",
         "x": [
          "2021-03-01"
         ],
         "xaxis": "x",
         "y": [
          60
         ],
         "yaxis": "y"
        },
        {
         "alignmentgroup": "True",
         "bingroup": "x",
         "histfunc": "sum",
         "hovertemplate": "Name=Admixer<br>Date=%{x}<br>sum of Occurrence=%{y}<extra></extra>",
         "legendgroup": "Admixer",
         "marker": {
          "color": "#FF6692",
          "pattern": {
           "shape": ""
          }
         },
         "name": "Admixer",
         "offsetgroup": "Admixer",
         "orientation": "v",
         "showlegend": true,
         "type": "histogram",
         "x": [
          "2020-02-25"
         ],
         "xaxis": "x",
         "y": [
          59
         ],
         "yaxis": "y"
        },
        {
         "alignmentgroup": "True",
         "bingroup": "x",
         "histfunc": "sum",
         "hovertemplate": "Name=Widespace<br>Date=%{x}<br>sum of Occurrence=%{y}<extra></extra>",
         "legendgroup": "Widespace",
         "marker": {
          "color": "#B6E880",
          "pattern": {
           "shape": ""
          }
         },
         "name": "Widespace",
         "offsetgroup": "Widespace",
         "orientation": "v",
         "showlegend": true,
         "type": "histogram",
         "x": [
          "2017-09-24"
         ],
         "xaxis": "x",
         "y": [
          58
         ],
         "yaxis": "y"
        },
        {
         "alignmentgroup": "True",
         "bingroup": "x",
         "histfunc": "sum",
         "hovertemplate": "Name=Janrain<br>Date=%{x}<br>sum of Occurrence=%{y}<extra></extra>",
         "legendgroup": "Janrain",
         "marker": {
          "color": "#FF97FF",
          "pattern": {
           "shape": ""
          }
         },
         "name": "Janrain",
         "offsetgroup": "Janrain",
         "orientation": "v",
         "showlegend": true,
         "type": "histogram",
         "x": [
          "2021-03-12"
         ],
         "xaxis": "x",
         "y": [
          58
         ],
         "yaxis": "y"
        },
        {
         "alignmentgroup": "True",
         "bingroup": "x",
         "histfunc": "sum",
         "hovertemplate": "Name=Alohalytics<br>Date=%{x}<br>sum of Occurrence=%{y}<extra></extra>",
         "legendgroup": "Alohalytics",
         "marker": {
          "color": "#FECB52",
          "pattern": {
           "shape": ""
          }
         },
         "name": "Alohalytics",
         "offsetgroup": "Alohalytics",
         "orientation": "v",
         "showlegend": true,
         "type": "histogram",
         "x": [
          "2020-02-25"
         ],
         "xaxis": "x",
         "y": [
          57
         ],
         "yaxis": "y"
        },
        {
         "alignmentgroup": "True",
         "bingroup": "x",
         "histfunc": "sum",
         "hovertemplate": "Name=flymob<br>Date=%{x}<br>sum of Occurrence=%{y}<extra></extra>",
         "legendgroup": "flymob",
         "marker": {
          "color": "#636efa",
          "pattern": {
           "shape": ""
          }
         },
         "name": "flymob",
         "offsetgroup": "flymob",
         "orientation": "v",
         "showlegend": true,
         "type": "histogram",
         "x": [
          "2020-02-25"
         ],
         "xaxis": "x",
         "y": [
          55
         ],
         "yaxis": "y"
        },
        {
         "alignmentgroup": "True",
         "bingroup": "x",
         "histfunc": "sum",
         "hovertemplate": "Name=Eulerian<br>Date=%{x}<br>sum of Occurrence=%{y}<extra></extra>",
         "legendgroup": "Eulerian",
         "marker": {
          "color": "#EF553B",
          "pattern": {
           "shape": ""
          }
         },
         "name": "Eulerian",
         "offsetgroup": "Eulerian",
         "orientation": "v",
         "showlegend": true,
         "type": "histogram",
         "x": [
          "2017-12-03"
         ],
         "xaxis": "x",
         "y": [
          55
         ],
         "yaxis": "y"
        },
        {
         "alignmentgroup": "True",
         "bingroup": "x",
         "histfunc": "sum",
         "hovertemplate": "Name=Sentiance<br>Date=%{x}<br>sum of Occurrence=%{y}<extra></extra>",
         "legendgroup": "Sentiance",
         "marker": {
          "color": "#00cc96",
          "pattern": {
           "shape": ""
          }
         },
         "name": "Sentiance",
         "offsetgroup": "Sentiance",
         "orientation": "v",
         "showlegend": true,
         "type": "histogram",
         "x": [
          "2020-02-25"
         ],
         "xaxis": "x",
         "y": [
          55
         ],
         "yaxis": "y"
        },
        {
         "alignmentgroup": "True",
         "bingroup": "x",
         "histfunc": "sum",
         "hovertemplate": "Name=Esri ArcGIS<br>Date=%{x}<br>sum of Occurrence=%{y}<extra></extra>",
         "legendgroup": "Esri ArcGIS",
         "marker": {
          "color": "#ab63fa",
          "pattern": {
           "shape": ""
          }
         },
         "name": "Esri ArcGIS",
         "offsetgroup": "Esri ArcGIS",
         "orientation": "v",
         "showlegend": true,
         "type": "histogram",
         "x": [
          "2020-06-08"
         ],
         "xaxis": "x",
         "y": [
          54
         ],
         "yaxis": "y"
        },
        {
         "alignmentgroup": "True",
         "bingroup": "x",
         "histfunc": "sum",
         "hovertemplate": "Name=Instreamatic (Adman)<br>Date=%{x}<br>sum of Occurrence=%{y}<extra></extra>",
         "legendgroup": "Instreamatic (Adman)",
         "marker": {
          "color": "#FFA15A",
          "pattern": {
           "shape": ""
          }
         },
         "name": "Instreamatic (Adman)",
         "offsetgroup": "Instreamatic (Adman)",
         "orientation": "v",
         "showlegend": true,
         "type": "histogram",
         "x": [
          "2019-05-02"
         ],
         "xaxis": "x",
         "y": [
          53
         ],
         "yaxis": "y"
        },
        {
         "alignmentgroup": "True",
         "bingroup": "x",
         "histfunc": "sum",
         "hovertemplate": "Name=Adfurikun<br>Date=%{x}<br>sum of Occurrence=%{y}<extra></extra>",
         "legendgroup": "Adfurikun",
         "marker": {
          "color": "#19d3f3",
          "pattern": {
           "shape": ""
          }
         },
         "name": "Adfurikun",
         "offsetgroup": "Adfurikun",
         "orientation": "v",
         "showlegend": true,
         "type": "histogram",
         "x": [
          "2018-08-16"
         ],
         "xaxis": "x",
         "y": [
          53
         ],
         "yaxis": "y"
        },
        {
         "alignmentgroup": "True",
         "bingroup": "x",
         "histfunc": "sum",
         "hovertemplate": "Name=Umeng Feedback<br>Date=%{x}<br>sum of Occurrence=%{y}<extra></extra>",
         "legendgroup": "Umeng Feedback",
         "marker": {
          "color": "#FF6692",
          "pattern": {
           "shape": ""
          }
         },
         "name": "Umeng Feedback",
         "offsetgroup": "Umeng Feedback",
         "orientation": "v",
         "showlegend": true,
         "type": "histogram",
         "x": [
          "2018-03-04"
         ],
         "xaxis": "x",
         "y": [
          53
         ],
         "yaxis": "y"
        },
        {
         "alignmentgroup": "True",
         "bingroup": "x",
         "histfunc": "sum",
         "hovertemplate": "Name=Anagog<br>Date=%{x}<br>sum of Occurrence=%{y}<extra></extra>",
         "legendgroup": "Anagog",
         "marker": {
          "color": "#B6E880",
          "pattern": {
           "shape": ""
          }
         },
         "name": "Anagog",
         "offsetgroup": "Anagog",
         "orientation": "v",
         "showlegend": true,
         "type": "histogram",
         "x": [
          "2020-02-25"
         ],
         "xaxis": "x",
         "y": [
          53
         ],
         "yaxis": "y"
        },
        {
         "alignmentgroup": "True",
         "bingroup": "x",
         "histfunc": "sum",
         "hovertemplate": "Name=Unacast Pure<br>Date=%{x}<br>sum of Occurrence=%{y}<extra></extra>",
         "legendgroup": "Unacast Pure",
         "marker": {
          "color": "#FF97FF",
          "pattern": {
           "shape": ""
          }
         },
         "name": "Unacast Pure",
         "offsetgroup": "Unacast Pure",
         "orientation": "v",
         "showlegend": true,
         "type": "histogram",
         "x": [
          "2020-07-13"
         ],
         "xaxis": "x",
         "y": [
          53
         ],
         "yaxis": "y"
        },
        {
         "alignmentgroup": "True",
         "bingroup": "x",
         "histfunc": "sum",
         "hovertemplate": "Name=ThinkingData Analytics<br>Date=%{x}<br>sum of Occurrence=%{y}<extra></extra>",
         "legendgroup": "ThinkingData Analytics",
         "marker": {
          "color": "#FECB52",
          "pattern": {
           "shape": ""
          }
         },
         "name": "ThinkingData Analytics",
         "offsetgroup": "ThinkingData Analytics",
         "orientation": "v",
         "showlegend": true,
         "type": "histogram",
         "x": [
          "2021-03-01"
         ],
         "xaxis": "x",
         "y": [
          52
         ],
         "yaxis": "y"
        },
        {
         "alignmentgroup": "True",
         "bingroup": "x",
         "histfunc": "sum",
         "hovertemplate": "Name=Adot<br>Date=%{x}<br>sum of Occurrence=%{y}<extra></extra>",
         "legendgroup": "Adot",
         "marker": {
          "color": "#636efa",
          "pattern": {
           "shape": ""
          }
         },
         "name": "Adot",
         "offsetgroup": "Adot",
         "orientation": "v",
         "showlegend": true,
         "type": "histogram",
         "x": [
          "2019-03-10"
         ],
         "xaxis": "x",
         "y": [
          52
         ],
         "yaxis": "y"
        },
        {
         "alignmentgroup": "True",
         "bingroup": "x",
         "histfunc": "sum",
         "hovertemplate": "Name=Locuslabs<br>Date=%{x}<br>sum of Occurrence=%{y}<extra></extra>",
         "legendgroup": "Locuslabs",
         "marker": {
          "color": "#EF553B",
          "pattern": {
           "shape": ""
          }
         },
         "name": "Locuslabs",
         "offsetgroup": "Locuslabs",
         "orientation": "v",
         "showlegend": true,
         "type": "histogram",
         "x": [
          "2017-12-03"
         ],
         "xaxis": "x",
         "y": [
          52
         ],
         "yaxis": "y"
        },
        {
         "alignmentgroup": "True",
         "bingroup": "x",
         "histfunc": "sum",
         "hovertemplate": "Name=Tamoco<br>Date=%{x}<br>sum of Occurrence=%{y}<extra></extra>",
         "legendgroup": "Tamoco",
         "marker": {
          "color": "#00cc96",
          "pattern": {
           "shape": ""
          }
         },
         "name": "Tamoco",
         "offsetgroup": "Tamoco",
         "orientation": "v",
         "showlegend": true,
         "type": "histogram",
         "x": [
          "2020-06-08"
         ],
         "xaxis": "x",
         "y": [
          49
         ],
         "yaxis": "y"
        },
        {
         "alignmentgroup": "True",
         "bingroup": "x",
         "histfunc": "sum",
         "hovertemplate": "Name=Roximity<br>Date=%{x}<br>sum of Occurrence=%{y}<extra></extra>",
         "legendgroup": "Roximity",
         "marker": {
          "color": "#ab63fa",
          "pattern": {
           "shape": ""
          }
         },
         "name": "Roximity",
         "offsetgroup": "Roximity",
         "orientation": "v",
         "showlegend": true,
         "type": "histogram",
         "x": [
          "2020-02-25"
         ],
         "xaxis": "x",
         "y": [
          49
         ],
         "yaxis": "y"
        },
        {
         "alignmentgroup": "True",
         "bingroup": "x",
         "histfunc": "sum",
         "hovertemplate": "Name=SK planet Tad<br>Date=%{x}<br>sum of Occurrence=%{y}<extra></extra>",
         "legendgroup": "SK planet Tad",
         "marker": {
          "color": "#FFA15A",
          "pattern": {
           "shape": ""
          }
         },
         "name": "SK planet Tad",
         "offsetgroup": "SK planet Tad",
         "orientation": "v",
         "showlegend": true,
         "type": "histogram",
         "x": [
          "2020-12-13"
         ],
         "xaxis": "x",
         "y": [
          48
         ],
         "yaxis": "y"
        },
        {
         "alignmentgroup": "True",
         "bingroup": "x",
         "histfunc": "sum",
         "hovertemplate": "Name=Adjoe<br>Date=%{x}<br>sum of Occurrence=%{y}<extra></extra>",
         "legendgroup": "Adjoe",
         "marker": {
          "color": "#19d3f3",
          "pattern": {
           "shape": ""
          }
         },
         "name": "Adjoe",
         "offsetgroup": "Adjoe",
         "orientation": "v",
         "showlegend": true,
         "type": "histogram",
         "x": [
          "2021-03-01"
         ],
         "xaxis": "x",
         "y": [
          46
         ],
         "yaxis": "y"
        },
        {
         "alignmentgroup": "True",
         "bingroup": "x",
         "histfunc": "sum",
         "hovertemplate": "Name=Conversant<br>Date=%{x}<br>sum of Occurrence=%{y}<extra></extra>",
         "legendgroup": "Conversant",
         "marker": {
          "color": "#FF6692",
          "pattern": {
           "shape": ""
          }
         },
         "name": "Conversant",
         "offsetgroup": "Conversant",
         "orientation": "v",
         "showlegend": true,
         "type": "histogram",
         "x": [
          "2020-02-25"
         ],
         "xaxis": "x",
         "y": [
          45
         ],
         "yaxis": "y"
        },
        {
         "alignmentgroup": "True",
         "bingroup": "x",
         "histfunc": "sum",
         "hovertemplate": "Name=Tencent Map LBS<br>Date=%{x}<br>sum of Occurrence=%{y}<extra></extra>",
         "legendgroup": "Tencent Map LBS",
         "marker": {
          "color": "#B6E880",
          "pattern": {
           "shape": ""
          }
         },
         "name": "Tencent Map LBS",
         "offsetgroup": "Tencent Map LBS",
         "orientation": "v",
         "showlegend": true,
         "type": "histogram",
         "x": [
          "2018-03-04"
         ],
         "xaxis": "x",
         "y": [
          44
         ],
         "yaxis": "y"
        },
        {
         "alignmentgroup": "True",
         "bingroup": "x",
         "histfunc": "sum",
         "hovertemplate": "Name=Fiksu<br>Date=%{x}<br>sum of Occurrence=%{y}<extra></extra>",
         "legendgroup": "Fiksu",
         "marker": {
          "color": "#FF97FF",
          "pattern": {
           "shape": ""
          }
         },
         "name": "Fiksu",
         "offsetgroup": "Fiksu",
         "orientation": "v",
         "showlegend": true,
         "type": "histogram",
         "x": [
          "2018-08-16"
         ],
         "xaxis": "x",
         "y": [
          44
         ],
         "yaxis": "y"
        },
        {
         "alignmentgroup": "True",
         "bingroup": "x",
         "histfunc": "sum",
         "hovertemplate": "Name=ABTasty<br>Date=%{x}<br>sum of Occurrence=%{y}<extra></extra>",
         "legendgroup": "ABTasty",
         "marker": {
          "color": "#FECB52",
          "pattern": {
           "shape": ""
          }
         },
         "name": "ABTasty",
         "offsetgroup": "ABTasty",
         "orientation": "v",
         "showlegend": true,
         "type": "histogram",
         "x": [
          "2020-09-19"
         ],
         "xaxis": "x",
         "y": [
          43
         ],
         "yaxis": "y"
        },
        {
         "alignmentgroup": "True",
         "bingroup": "x",
         "histfunc": "sum",
         "hovertemplate": "Name=Zendrive<br>Date=%{x}<br>sum of Occurrence=%{y}<extra></extra>",
         "legendgroup": "Zendrive",
         "marker": {
          "color": "#636efa",
          "pattern": {
           "shape": ""
          }
         },
         "name": "Zendrive",
         "offsetgroup": "Zendrive",
         "orientation": "v",
         "showlegend": true,
         "type": "histogram",
         "x": [
          "2021-05-07"
         ],
         "xaxis": "x",
         "y": [
          43
         ],
         "yaxis": "y"
        },
        {
         "alignmentgroup": "True",
         "bingroup": "x",
         "histfunc": "sum",
         "hovertemplate": "Name=Repro<br>Date=%{x}<br>sum of Occurrence=%{y}<extra></extra>",
         "legendgroup": "Repro",
         "marker": {
          "color": "#EF553B",
          "pattern": {
           "shape": ""
          }
         },
         "name": "Repro",
         "offsetgroup": "Repro",
         "orientation": "v",
         "showlegend": true,
         "type": "histogram",
         "x": [
          "2019-11-09"
         ],
         "xaxis": "x",
         "y": [
          42
         ],
         "yaxis": "y"
        },
        {
         "alignmentgroup": "True",
         "bingroup": "x",
         "histfunc": "sum",
         "hovertemplate": "Name=Kissmetrics<br>Date=%{x}<br>sum of Occurrence=%{y}<extra></extra>",
         "legendgroup": "Kissmetrics",
         "marker": {
          "color": "#00cc96",
          "pattern": {
           "shape": ""
          }
         },
         "name": "Kissmetrics",
         "offsetgroup": "Kissmetrics",
         "orientation": "v",
         "showlegend": true,
         "type": "histogram",
         "x": [
          "2019-11-09"
         ],
         "xaxis": "x",
         "y": [
          42
         ],
         "yaxis": "y"
        },
        {
         "alignmentgroup": "True",
         "bingroup": "x",
         "histfunc": "sum",
         "hovertemplate": "Name=Placer<br>Date=%{x}<br>sum of Occurrence=%{y}<extra></extra>",
         "legendgroup": "Placer",
         "marker": {
          "color": "#ab63fa",
          "pattern": {
           "shape": ""
          }
         },
         "name": "Placer",
         "offsetgroup": "Placer",
         "orientation": "v",
         "showlegend": true,
         "type": "histogram",
         "x": [
          "2020-02-25"
         ],
         "xaxis": "x",
         "y": [
          41
         ],
         "yaxis": "y"
        },
        {
         "alignmentgroup": "True",
         "bingroup": "x",
         "histfunc": "sum",
         "hovertemplate": "Name=Metaps<br>Date=%{x}<br>sum of Occurrence=%{y}<extra></extra>",
         "legendgroup": "Metaps",
         "marker": {
          "color": "#FFA15A",
          "pattern": {
           "shape": ""
          }
         },
         "name": "Metaps",
         "offsetgroup": "Metaps",
         "orientation": "v",
         "showlegend": true,
         "type": "histogram",
         "x": [
          "2020-06-08"
         ],
         "xaxis": "x",
         "y": [
          41
         ],
         "yaxis": "y"
        },
        {
         "alignmentgroup": "True",
         "bingroup": "x",
         "histfunc": "sum",
         "hovertemplate": "Name=POKKT<br>Date=%{x}<br>sum of Occurrence=%{y}<extra></extra>",
         "legendgroup": "POKKT",
         "marker": {
          "color": "#19d3f3",
          "pattern": {
           "shape": ""
          }
         },
         "name": "POKKT",
         "offsetgroup": "POKKT",
         "orientation": "v",
         "showlegend": true,
         "type": "histogram",
         "x": [
          "2020-12-13"
         ],
         "xaxis": "x",
         "y": [
          40
         ],
         "yaxis": "y"
        },
        {
         "alignmentgroup": "True",
         "bingroup": "x",
         "histfunc": "sum",
         "hovertemplate": "Name=Enhance<br>Date=%{x}<br>sum of Occurrence=%{y}<extra></extra>",
         "legendgroup": "Enhance",
         "marker": {
          "color": "#FF6692",
          "pattern": {
           "shape": ""
          }
         },
         "name": "Enhance",
         "offsetgroup": "Enhance",
         "orientation": "v",
         "showlegend": true,
         "type": "histogram",
         "x": [
          "2020-06-08"
         ],
         "xaxis": "x",
         "y": [
          40
         ],
         "yaxis": "y"
        },
        {
         "alignmentgroup": "True",
         "bingroup": "x",
         "histfunc": "sum",
         "hovertemplate": "Name=Flowsense<br>Date=%{x}<br>sum of Occurrence=%{y}<extra></extra>",
         "legendgroup": "Flowsense",
         "marker": {
          "color": "#B6E880",
          "pattern": {
           "shape": ""
          }
         },
         "name": "Flowsense",
         "offsetgroup": "Flowsense",
         "orientation": "v",
         "showlegend": true,
         "type": "histogram",
         "x": [
          "2021-05-07"
         ],
         "xaxis": "x",
         "y": [
          39
         ],
         "yaxis": "y"
        },
        {
         "alignmentgroup": "True",
         "bingroup": "x",
         "histfunc": "sum",
         "hovertemplate": "Name=Tinder Analytics<br>Date=%{x}<br>sum of Occurrence=%{y}<extra></extra>",
         "legendgroup": "Tinder Analytics",
         "marker": {
          "color": "#FF97FF",
          "pattern": {
           "shape": ""
          }
         },
         "name": "Tinder Analytics",
         "offsetgroup": "Tinder Analytics",
         "orientation": "v",
         "showlegend": true,
         "type": "histogram",
         "x": [
          "2017-09-24"
         ],
         "xaxis": "x",
         "y": [
          38
         ],
         "yaxis": "y"
        },
        {
         "alignmentgroup": "True",
         "bingroup": "x",
         "histfunc": "sum",
         "hovertemplate": "Name=MDOTM<br>Date=%{x}<br>sum of Occurrence=%{y}<extra></extra>",
         "legendgroup": "MDOTM",
         "marker": {
          "color": "#FECB52",
          "pattern": {
           "shape": ""
          }
         },
         "name": "MDOTM",
         "offsetgroup": "MDOTM",
         "orientation": "v",
         "showlegend": true,
         "type": "histogram",
         "x": [
          "2020-06-08"
         ],
         "xaxis": "x",
         "y": [
          38
         ],
         "yaxis": "y"
        },
        {
         "alignmentgroup": "True",
         "bingroup": "x",
         "histfunc": "sum",
         "hovertemplate": "Name=Amobee<br>Date=%{x}<br>sum of Occurrence=%{y}<extra></extra>",
         "legendgroup": "Amobee",
         "marker": {
          "color": "#636efa",
          "pattern": {
           "shape": ""
          }
         },
         "name": "Amobee",
         "offsetgroup": "Amobee",
         "orientation": "v",
         "showlegend": true,
         "type": "histogram",
         "x": [
          "2020-02-25"
         ],
         "xaxis": "x",
         "y": [
          37
         ],
         "yaxis": "y"
        },
        {
         "alignmentgroup": "True",
         "bingroup": "x",
         "histfunc": "sum",
         "hovertemplate": "Name=Cifrasoft<br>Date=%{x}<br>sum of Occurrence=%{y}<extra></extra>",
         "legendgroup": "Cifrasoft",
         "marker": {
          "color": "#EF553B",
          "pattern": {
           "shape": ""
          }
         },
         "name": "Cifrasoft",
         "offsetgroup": "Cifrasoft",
         "orientation": "v",
         "showlegend": true,
         "type": "histogram",
         "x": [
          "2021-05-07"
         ],
         "xaxis": "x",
         "y": [
          36
         ],
         "yaxis": "y"
        },
        {
         "alignmentgroup": "True",
         "bingroup": "x",
         "histfunc": "sum",
         "hovertemplate": "Name=Factual<br>Date=%{x}<br>sum of Occurrence=%{y}<extra></extra>",
         "legendgroup": "Factual",
         "marker": {
          "color": "#00cc96",
          "pattern": {
           "shape": ""
          }
         },
         "name": "Factual",
         "offsetgroup": "Factual",
         "orientation": "v",
         "showlegend": true,
         "type": "histogram",
         "x": [
          "2020-09-19"
         ],
         "xaxis": "x",
         "y": [
          35
         ],
         "yaxis": "y"
        },
        {
         "alignmentgroup": "True",
         "bingroup": "x",
         "histfunc": "sum",
         "hovertemplate": "Name=FidZup<br>Date=%{x}<br>sum of Occurrence=%{y}<extra></extra>",
         "legendgroup": "FidZup",
         "marker": {
          "color": "#ab63fa",
          "pattern": {
           "shape": ""
          }
         },
         "name": "FidZup",
         "offsetgroup": "FidZup",
         "orientation": "v",
         "showlegend": true,
         "type": "histogram",
         "x": [
          "2017-09-24"
         ],
         "xaxis": "x",
         "y": [
          35
         ],
         "yaxis": "y"
        },
        {
         "alignmentgroup": "True",
         "bingroup": "x",
         "histfunc": "sum",
         "hovertemplate": "Name=Moodmedia<br>Date=%{x}<br>sum of Occurrence=%{y}<extra></extra>",
         "legendgroup": "Moodmedia",
         "marker": {
          "color": "#FFA15A",
          "pattern": {
           "shape": ""
          }
         },
         "name": "Moodmedia",
         "offsetgroup": "Moodmedia",
         "orientation": "v",
         "showlegend": true,
         "type": "histogram",
         "x": [
          "2019-06-20"
         ],
         "xaxis": "x",
         "y": [
          35
         ],
         "yaxis": "y"
        },
        {
         "alignmentgroup": "True",
         "bingroup": "x",
         "histfunc": "sum",
         "hovertemplate": "Name=fineboost<br>Date=%{x}<br>sum of Occurrence=%{y}<extra></extra>",
         "legendgroup": "fineboost",
         "marker": {
          "color": "#19d3f3",
          "pattern": {
           "shape": ""
          }
         },
         "name": "fineboost",
         "offsetgroup": "fineboost",
         "orientation": "v",
         "showlegend": true,
         "type": "histogram",
         "x": [
          "2021-03-01"
         ],
         "xaxis": "x",
         "y": [
          34
         ],
         "yaxis": "y"
        },
        {
         "alignmentgroup": "True",
         "bingroup": "x",
         "histfunc": "sum",
         "hovertemplate": "Name=Bitly<br>Date=%{x}<br>sum of Occurrence=%{y}<extra></extra>",
         "legendgroup": "Bitly",
         "marker": {
          "color": "#FF6692",
          "pattern": {
           "shape": ""
          }
         },
         "name": "Bitly",
         "offsetgroup": "Bitly",
         "orientation": "v",
         "showlegend": true,
         "type": "histogram",
         "x": [
          "2020-06-08"
         ],
         "xaxis": "x",
         "y": [
          34
         ],
         "yaxis": "y"
        },
        {
         "alignmentgroup": "True",
         "bingroup": "x",
         "histfunc": "sum",
         "hovertemplate": "Name=BlueConic<br>Date=%{x}<br>sum of Occurrence=%{y}<extra></extra>",
         "legendgroup": "BlueConic",
         "marker": {
          "color": "#B6E880",
          "pattern": {
           "shape": ""
          }
         },
         "name": "BlueConic",
         "offsetgroup": "BlueConic",
         "orientation": "v",
         "showlegend": true,
         "type": "histogram",
         "x": [
          "2018-08-16"
         ],
         "xaxis": "x",
         "y": [
          33
         ],
         "yaxis": "y"
        },
        {
         "alignmentgroup": "True",
         "bingroup": "x",
         "histfunc": "sum",
         "hovertemplate": "Name=Alimama (formerly AdsMogo)<br>Date=%{x}<br>sum of Occurrence=%{y}<extra></extra>",
         "legendgroup": "Alimama (formerly AdsMogo)",
         "marker": {
          "color": "#FF97FF",
          "pattern": {
           "shape": ""
          }
         },
         "name": "Alimama (formerly AdsMogo)",
         "offsetgroup": "Alimama (formerly AdsMogo)",
         "orientation": "v",
         "showlegend": true,
         "type": "histogram",
         "x": [
          "2020-12-13"
         ],
         "xaxis": "x",
         "y": [
          33
         ],
         "yaxis": "y"
        },
        {
         "alignmentgroup": "True",
         "bingroup": "x",
         "histfunc": "sum",
         "hovertemplate": "Name=Pendo<br>Date=%{x}<br>sum of Occurrence=%{y}<extra></extra>",
         "legendgroup": "Pendo",
         "marker": {
          "color": "#FECB52",
          "pattern": {
           "shape": ""
          }
         },
         "name": "Pendo",
         "offsetgroup": "Pendo",
         "orientation": "v",
         "showlegend": true,
         "type": "histogram",
         "x": [
          "2021-05-16"
         ],
         "xaxis": "x",
         "y": [
          32
         ],
         "yaxis": "y"
        },
        {
         "alignmentgroup": "True",
         "bingroup": "x",
         "histfunc": "sum",
         "hovertemplate": "Name=ShallWeAD<br>Date=%{x}<br>sum of Occurrence=%{y}<extra></extra>",
         "legendgroup": "ShallWeAD",
         "marker": {
          "color": "#636efa",
          "pattern": {
           "shape": ""
          }
         },
         "name": "ShallWeAD",
         "offsetgroup": "ShallWeAD",
         "orientation": "v",
         "showlegend": true,
         "type": "histogram",
         "x": [
          "2019-03-19"
         ],
         "xaxis": "x",
         "y": [
          30
         ],
         "yaxis": "y"
        },
        {
         "alignmentgroup": "True",
         "bingroup": "x",
         "histfunc": "sum",
         "hovertemplate": "Name=Placed<br>Date=%{x}<br>sum of Occurrence=%{y}<extra></extra>",
         "legendgroup": "Placed",
         "marker": {
          "color": "#EF553B",
          "pattern": {
           "shape": ""
          }
         },
         "name": "Placed",
         "offsetgroup": "Placed",
         "orientation": "v",
         "showlegend": true,
         "type": "histogram",
         "x": [
          "2019-03-10"
         ],
         "xaxis": "x",
         "y": [
          30
         ],
         "yaxis": "y"
        },
        {
         "alignmentgroup": "True",
         "bingroup": "x",
         "histfunc": "sum",
         "hovertemplate": "Name=Footmarks<br>Date=%{x}<br>sum of Occurrence=%{y}<extra></extra>",
         "legendgroup": "Footmarks",
         "marker": {
          "color": "#00cc96",
          "pattern": {
           "shape": ""
          }
         },
         "name": "Footmarks",
         "offsetgroup": "Footmarks",
         "orientation": "v",
         "showlegend": true,
         "type": "histogram",
         "x": [
          "2020-09-19"
         ],
         "xaxis": "x",
         "y": [
          29
         ],
         "yaxis": "y"
        },
        {
         "alignmentgroup": "True",
         "bingroup": "x",
         "histfunc": "sum",
         "hovertemplate": "Name=Weborama<br>Date=%{x}<br>sum of Occurrence=%{y}<extra></extra>",
         "legendgroup": "Weborama",
         "marker": {
          "color": "#ab63fa",
          "pattern": {
           "shape": ""
          }
         },
         "name": "Weborama",
         "offsetgroup": "Weborama",
         "orientation": "v",
         "showlegend": true,
         "type": "histogram",
         "x": [
          "2017-09-24"
         ],
         "xaxis": "x",
         "y": [
          28
         ],
         "yaxis": "y"
        },
        {
         "alignmentgroup": "True",
         "bingroup": "x",
         "histfunc": "sum",
         "hovertemplate": "Name=OfferToro<br>Date=%{x}<br>sum of Occurrence=%{y}<extra></extra>",
         "legendgroup": "OfferToro",
         "marker": {
          "color": "#FFA15A",
          "pattern": {
           "shape": ""
          }
         },
         "name": "OfferToro",
         "offsetgroup": "OfferToro",
         "orientation": "v",
         "showlegend": true,
         "type": "histogram",
         "x": [
          "2021-05-07"
         ],
         "xaxis": "x",
         "y": [
          27
         ],
         "yaxis": "y"
        },
        {
         "alignmentgroup": "True",
         "bingroup": "x",
         "histfunc": "sum",
         "hovertemplate": "Name=Sync2Ad<br>Date=%{x}<br>sum of Occurrence=%{y}<extra></extra>",
         "legendgroup": "Sync2Ad",
         "marker": {
          "color": "#19d3f3",
          "pattern": {
           "shape": ""
          }
         },
         "name": "Sync2Ad",
         "offsetgroup": "Sync2Ad",
         "orientation": "v",
         "showlegend": true,
         "type": "histogram",
         "x": [
          "2017-09-24"
         ],
         "xaxis": "x",
         "y": [
          26
         ],
         "yaxis": "y"
        },
        {
         "alignmentgroup": "True",
         "bingroup": "x",
         "histfunc": "sum",
         "hovertemplate": "Name=Mopinion<br>Date=%{x}<br>sum of Occurrence=%{y}<extra></extra>",
         "legendgroup": "Mopinion",
         "marker": {
          "color": "#FF6692",
          "pattern": {
           "shape": ""
          }
         },
         "name": "Mopinion",
         "offsetgroup": "Mopinion",
         "orientation": "v",
         "showlegend": true,
         "type": "histogram",
         "x": [
          "2021-05-07"
         ],
         "xaxis": "x",
         "y": [
          25
         ],
         "yaxis": "y"
        },
        {
         "alignmentgroup": "True",
         "bingroup": "x",
         "histfunc": "sum",
         "hovertemplate": "Name=Ligatus<br>Date=%{x}<br>sum of Occurrence=%{y}<extra></extra>",
         "legendgroup": "Ligatus",
         "marker": {
          "color": "#B6E880",
          "pattern": {
           "shape": ""
          }
         },
         "name": "Ligatus",
         "offsetgroup": "Ligatus",
         "orientation": "v",
         "showlegend": true,
         "type": "histogram",
         "x": [
          "2017-09-24"
         ],
         "xaxis": "x",
         "y": [
          25
         ],
         "yaxis": "y"
        },
        {
         "alignmentgroup": "True",
         "bingroup": "x",
         "histfunc": "sum",
         "hovertemplate": "Name=Virgo Mobile<br>Date=%{x}<br>sum of Occurrence=%{y}<extra></extra>",
         "legendgroup": "Virgo Mobile",
         "marker": {
          "color": "#FF97FF",
          "pattern": {
           "shape": ""
          }
         },
         "name": "Virgo Mobile",
         "offsetgroup": "Virgo Mobile",
         "orientation": "v",
         "showlegend": true,
         "type": "histogram",
         "x": [
          "2021-03-01"
         ],
         "xaxis": "x",
         "y": [
          25
         ],
         "yaxis": "y"
        },
        {
         "alignmentgroup": "True",
         "bingroup": "x",
         "histfunc": "sum",
         "hovertemplate": "Name=Pyze<br>Date=%{x}<br>sum of Occurrence=%{y}<extra></extra>",
         "legendgroup": "Pyze",
         "marker": {
          "color": "#FECB52",
          "pattern": {
           "shape": ""
          }
         },
         "name": "Pyze",
         "offsetgroup": "Pyze",
         "orientation": "v",
         "showlegend": true,
         "type": "histogram",
         "x": [
          "2020-02-25"
         ],
         "xaxis": "x",
         "y": [
          24
         ],
         "yaxis": "y"
        },
        {
         "alignmentgroup": "True",
         "bingroup": "x",
         "histfunc": "sum",
         "hovertemplate": "Name=Amazon Mobile Associates<br>Date=%{x}<br>sum of Occurrence=%{y}<extra></extra>",
         "legendgroup": "Amazon Mobile Associates",
         "marker": {
          "color": "#636efa",
          "pattern": {
           "shape": ""
          }
         },
         "name": "Amazon Mobile Associates",
         "offsetgroup": "Amazon Mobile Associates",
         "orientation": "v",
         "showlegend": true,
         "type": "histogram",
         "x": [
          "2018-03-04"
         ],
         "xaxis": "x",
         "y": [
          23
         ],
         "yaxis": "y"
        },
        {
         "alignmentgroup": "True",
         "bingroup": "x",
         "histfunc": "sum",
         "hovertemplate": "Name=Geniee<br>Date=%{x}<br>sum of Occurrence=%{y}<extra></extra>",
         "legendgroup": "Geniee",
         "marker": {
          "color": "#EF553B",
          "pattern": {
           "shape": ""
          }
         },
         "name": "Geniee",
         "offsetgroup": "Geniee",
         "orientation": "v",
         "showlegend": true,
         "type": "histogram",
         "x": [
          "2021-05-07"
         ],
         "xaxis": "x",
         "y": [
          23
         ],
         "yaxis": "y"
        },
        {
         "alignmentgroup": "True",
         "bingroup": "x",
         "histfunc": "sum",
         "hovertemplate": "Name=ExactTarget<br>Date=%{x}<br>sum of Occurrence=%{y}<extra></extra>",
         "legendgroup": "ExactTarget",
         "marker": {
          "color": "#00cc96",
          "pattern": {
           "shape": ""
          }
         },
         "name": "ExactTarget",
         "offsetgroup": "ExactTarget",
         "orientation": "v",
         "showlegend": true,
         "type": "histogram",
         "x": [
          "2017-11-16"
         ],
         "xaxis": "x",
         "y": [
          22
         ],
         "yaxis": "y"
        },
        {
         "alignmentgroup": "True",
         "bingroup": "x",
         "histfunc": "sum",
         "hovertemplate": "Name=S4M<br>Date=%{x}<br>sum of Occurrence=%{y}<extra></extra>",
         "legendgroup": "S4M",
         "marker": {
          "color": "#ab63fa",
          "pattern": {
           "shape": ""
          }
         },
         "name": "S4M",
         "offsetgroup": "S4M",
         "orientation": "v",
         "showlegend": true,
         "type": "histogram",
         "x": [
          "2017-09-24"
         ],
         "xaxis": "x",
         "y": [
          22
         ],
         "yaxis": "y"
        },
        {
         "alignmentgroup": "True",
         "bingroup": "x",
         "histfunc": "sum",
         "hovertemplate": "Name=Adform<br>Date=%{x}<br>sum of Occurrence=%{y}<extra></extra>",
         "legendgroup": "Adform",
         "marker": {
          "color": "#FFA15A",
          "pattern": {
           "shape": ""
          }
         },
         "name": "Adform",
         "offsetgroup": "Adform",
         "orientation": "v",
         "showlegend": true,
         "type": "histogram",
         "x": [
          "2018-08-16"
         ],
         "xaxis": "x",
         "y": [
          21
         ],
         "yaxis": "y"
        },
        {
         "alignmentgroup": "True",
         "bingroup": "x",
         "histfunc": "sum",
         "hovertemplate": "Name=Akamai MAP<br>Date=%{x}<br>sum of Occurrence=%{y}<extra></extra>",
         "legendgroup": "Akamai MAP",
         "marker": {
          "color": "#19d3f3",
          "pattern": {
           "shape": ""
          }
         },
         "name": "Akamai MAP",
         "offsetgroup": "Akamai MAP",
         "orientation": "v",
         "showlegend": true,
         "type": "histogram",
         "x": [
          "2020-11-27"
         ],
         "xaxis": "x",
         "y": [
          21
         ],
         "yaxis": "y"
        },
        {
         "alignmentgroup": "True",
         "bingroup": "x",
         "histfunc": "sum",
         "hovertemplate": "Name=OtherLevels<br>Date=%{x}<br>sum of Occurrence=%{y}<extra></extra>",
         "legendgroup": "OtherLevels",
         "marker": {
          "color": "#FF6692",
          "pattern": {
           "shape": ""
          }
         },
         "name": "OtherLevels",
         "offsetgroup": "OtherLevels",
         "orientation": "v",
         "showlegend": true,
         "type": "histogram",
         "x": [
          "2019-03-19"
         ],
         "xaxis": "x",
         "y": [
          20
         ],
         "yaxis": "y"
        },
        {
         "alignmentgroup": "True",
         "bingroup": "x",
         "histfunc": "sum",
         "hovertemplate": "Name=Airpush<br>Date=%{x}<br>sum of Occurrence=%{y}<extra></extra>",
         "legendgroup": "Airpush",
         "marker": {
          "color": "#B6E880",
          "pattern": {
           "shape": ""
          }
         },
         "name": "Airpush",
         "offsetgroup": "Airpush",
         "orientation": "v",
         "showlegend": true,
         "type": "histogram",
         "x": [
          "2020-12-13"
         ],
         "xaxis": "x",
         "y": [
          20
         ],
         "yaxis": "y"
        },
        {
         "alignmentgroup": "True",
         "bingroup": "x",
         "histfunc": "sum",
         "hovertemplate": "Name=Parse.ly<br>Date=%{x}<br>sum of Occurrence=%{y}<extra></extra>",
         "legendgroup": "Parse.ly",
         "marker": {
          "color": "#FF97FF",
          "pattern": {
           "shape": ""
          }
         },
         "name": "Parse.ly",
         "offsetgroup": "Parse.ly",
         "orientation": "v",
         "showlegend": true,
         "type": "histogram",
         "x": [
          "2020-06-08"
         ],
         "xaxis": "x",
         "y": [
          19
         ],
         "yaxis": "y"
        },
        {
         "alignmentgroup": "True",
         "bingroup": "x",
         "histfunc": "sum",
         "hovertemplate": "Name=OpenBack<br>Date=%{x}<br>sum of Occurrence=%{y}<extra></extra>",
         "legendgroup": "OpenBack",
         "marker": {
          "color": "#FECB52",
          "pattern": {
           "shape": ""
          }
         },
         "name": "OpenBack",
         "offsetgroup": "OpenBack",
         "orientation": "v",
         "showlegend": true,
         "type": "histogram",
         "x": [
          "2021-02-14"
         ],
         "xaxis": "x",
         "y": [
          18
         ],
         "yaxis": "y"
        },
        {
         "alignmentgroup": "True",
         "bingroup": "x",
         "histfunc": "sum",
         "hovertemplate": "Name=AppVador<br>Date=%{x}<br>sum of Occurrence=%{y}<extra></extra>",
         "legendgroup": "AppVador",
         "marker": {
          "color": "#636efa",
          "pattern": {
           "shape": ""
          }
         },
         "name": "AppVador",
         "offsetgroup": "AppVador",
         "orientation": "v",
         "showlegend": true,
         "type": "histogram",
         "x": [
          "2021-03-01"
         ],
         "xaxis": "x",
         "y": [
          18
         ],
         "yaxis": "y"
        },
        {
         "alignmentgroup": "True",
         "bingroup": "x",
         "histfunc": "sum",
         "hovertemplate": "Name=Applause<br>Date=%{x}<br>sum of Occurrence=%{y}<extra></extra>",
         "legendgroup": "Applause",
         "marker": {
          "color": "#EF553B",
          "pattern": {
           "shape": ""
          }
         },
         "name": "Applause",
         "offsetgroup": "Applause",
         "orientation": "v",
         "showlegend": true,
         "type": "histogram",
         "x": [
          "2018-03-04"
         ],
         "xaxis": "x",
         "y": [
          17
         ],
         "yaxis": "y"
        },
        {
         "alignmentgroup": "True",
         "bingroup": "x",
         "histfunc": "sum",
         "hovertemplate": "Name=Dynamic Yield<br>Date=%{x}<br>sum of Occurrence=%{y}<extra></extra>",
         "legendgroup": "Dynamic Yield",
         "marker": {
          "color": "#00cc96",
          "pattern": {
           "shape": ""
          }
         },
         "name": "Dynamic Yield",
         "offsetgroup": "Dynamic Yield",
         "orientation": "v",
         "showlegend": true,
         "type": "histogram",
         "x": [
          "2018-08-16"
         ],
         "xaxis": "x",
         "y": [
          17
         ],
         "yaxis": "y"
        },
        {
         "alignmentgroup": "True",
         "bingroup": "x",
         "histfunc": "sum",
         "hovertemplate": "Name=Adcash<br>Date=%{x}<br>sum of Occurrence=%{y}<extra></extra>",
         "legendgroup": "Adcash",
         "marker": {
          "color": "#ab63fa",
          "pattern": {
           "shape": ""
          }
         },
         "name": "Adcash",
         "offsetgroup": "Adcash",
         "orientation": "v",
         "showlegend": true,
         "type": "histogram",
         "x": [
          "2020-02-25"
         ],
         "xaxis": "x",
         "y": [
          17
         ],
         "yaxis": "y"
        },
        {
         "alignmentgroup": "True",
         "bingroup": "x",
         "histfunc": "sum",
         "hovertemplate": "Name=Zapr<br>Date=%{x}<br>sum of Occurrence=%{y}<extra></extra>",
         "legendgroup": "Zapr",
         "marker": {
          "color": "#FFA15A",
          "pattern": {
           "shape": ""
          }
         },
         "name": "Zapr",
         "offsetgroup": "Zapr",
         "orientation": "v",
         "showlegend": true,
         "type": "histogram",
         "x": [
          "2020-06-08"
         ],
         "xaxis": "x",
         "y": [
          17
         ],
         "yaxis": "y"
        },
        {
         "alignmentgroup": "True",
         "bingroup": "x",
         "histfunc": "sum",
         "hovertemplate": "Name=Tealeaf<br>Date=%{x}<br>sum of Occurrence=%{y}<extra></extra>",
         "legendgroup": "Tealeaf",
         "marker": {
          "color": "#19d3f3",
          "pattern": {
           "shape": ""
          }
         },
         "name": "Tealeaf",
         "offsetgroup": "Tealeaf",
         "orientation": "v",
         "showlegend": true,
         "type": "histogram",
         "x": [
          "2020-02-25"
         ],
         "xaxis": "x",
         "y": [
          15
         ],
         "yaxis": "y"
        },
        {
         "alignmentgroup": "True",
         "bingroup": "x",
         "histfunc": "sum",
         "hovertemplate": "Name=Persona.ly<br>Date=%{x}<br>sum of Occurrence=%{y}<extra></extra>",
         "legendgroup": "Persona.ly",
         "marker": {
          "color": "#FF6692",
          "pattern": {
           "shape": ""
          }
         },
         "name": "Persona.ly",
         "offsetgroup": "Persona.ly",
         "orientation": "v",
         "showlegend": true,
         "type": "histogram",
         "x": [
          "2019-03-10"
         ],
         "xaxis": "x",
         "y": [
          15
         ],
         "yaxis": "y"
        },
        {
         "alignmentgroup": "True",
         "bingroup": "x",
         "histfunc": "sum",
         "hovertemplate": "Name=TeleQuid<br>Date=%{x}<br>sum of Occurrence=%{y}<extra></extra>",
         "legendgroup": "TeleQuid",
         "marker": {
          "color": "#B6E880",
          "pattern": {
           "shape": ""
          }
         },
         "name": "TeleQuid",
         "offsetgroup": "TeleQuid",
         "orientation": "v",
         "showlegend": true,
         "type": "histogram",
         "x": [
          "2018-03-04"
         ],
         "xaxis": "x",
         "y": [
          14
         ],
         "yaxis": "y"
        },
        {
         "alignmentgroup": "True",
         "bingroup": "x",
         "histfunc": "sum",
         "hovertemplate": "Name=Signal360<br>Date=%{x}<br>sum of Occurrence=%{y}<extra></extra>",
         "legendgroup": "Signal360",
         "marker": {
          "color": "#FF97FF",
          "pattern": {
           "shape": ""
          }
         },
         "name": "Signal360",
         "offsetgroup": "Signal360",
         "orientation": "v",
         "showlegend": true,
         "type": "histogram",
         "x": [
          "2018-01-13"
         ],
         "xaxis": "x",
         "y": [
          14
         ],
         "yaxis": "y"
        },
        {
         "alignmentgroup": "True",
         "bingroup": "x",
         "histfunc": "sum",
         "hovertemplate": "Name=OzTAM<br>Date=%{x}<br>sum of Occurrence=%{y}<extra></extra>",
         "legendgroup": "OzTAM",
         "marker": {
          "color": "#FECB52",
          "pattern": {
           "shape": ""
          }
         },
         "name": "OzTAM",
         "offsetgroup": "OzTAM",
         "orientation": "v",
         "showlegend": true,
         "type": "histogram",
         "x": [
          "2020-09-19"
         ],
         "xaxis": "x",
         "y": [
          14
         ],
         "yaxis": "y"
        },
        {
         "alignmentgroup": "True",
         "bingroup": "x",
         "histfunc": "sum",
         "hovertemplate": "Name=GPShopper<br>Date=%{x}<br>sum of Occurrence=%{y}<extra></extra>",
         "legendgroup": "GPShopper",
         "marker": {
          "color": "#636efa",
          "pattern": {
           "shape": ""
          }
         },
         "name": "GPShopper",
         "offsetgroup": "GPShopper",
         "orientation": "v",
         "showlegend": true,
         "type": "histogram",
         "x": [
          "2021-03-12"
         ],
         "xaxis": "x",
         "y": [
          13
         ],
         "yaxis": "y"
        },
        {
         "alignmentgroup": "True",
         "bingroup": "x",
         "histfunc": "sum",
         "hovertemplate": "Name=Point Inside<br>Date=%{x}<br>sum of Occurrence=%{y}<extra></extra>",
         "legendgroup": "Point Inside",
         "marker": {
          "color": "#EF553B",
          "pattern": {
           "shape": ""
          }
         },
         "name": "Point Inside",
         "offsetgroup": "Point Inside",
         "orientation": "v",
         "showlegend": true,
         "type": "histogram",
         "x": [
          "2021-03-12"
         ],
         "xaxis": "x",
         "y": [
          12
         ],
         "yaxis": "y"
        },
        {
         "alignmentgroup": "True",
         "bingroup": "x",
         "histfunc": "sum",
         "hovertemplate": "Name=Acuant<br>Date=%{x}<br>sum of Occurrence=%{y}<extra></extra>",
         "legendgroup": "Acuant",
         "marker": {
          "color": "#00cc96",
          "pattern": {
           "shape": ""
          }
         },
         "name": "Acuant",
         "offsetgroup": "Acuant",
         "orientation": "v",
         "showlegend": true,
         "type": "histogram",
         "x": [
          "2021-03-12"
         ],
         "xaxis": "x",
         "y": [
          12
         ],
         "yaxis": "y"
        },
        {
         "alignmentgroup": "True",
         "bingroup": "x",
         "histfunc": "sum",
         "hovertemplate": "Name=Treasure Data<br>Date=%{x}<br>sum of Occurrence=%{y}<extra></extra>",
         "legendgroup": "Treasure Data",
         "marker": {
          "color": "#ab63fa",
          "pattern": {
           "shape": ""
          }
         },
         "name": "Treasure Data",
         "offsetgroup": "Treasure Data",
         "orientation": "v",
         "showlegend": true,
         "type": "histogram",
         "x": [
          "2021-05-16"
         ],
         "xaxis": "x",
         "y": [
          12
         ],
         "yaxis": "y"
        },
        {
         "alignmentgroup": "True",
         "bingroup": "x",
         "histfunc": "sum",
         "hovertemplate": "Name=Inrix<br>Date=%{x}<br>sum of Occurrence=%{y}<extra></extra>",
         "legendgroup": "Inrix",
         "marker": {
          "color": "#FFA15A",
          "pattern": {
           "shape": ""
          }
         },
         "name": "Inrix",
         "offsetgroup": "Inrix",
         "orientation": "v",
         "showlegend": true,
         "type": "histogram",
         "x": [
          "2018-01-06"
         ],
         "xaxis": "x",
         "y": [
          11
         ],
         "yaxis": "y"
        },
        {
         "alignmentgroup": "True",
         "bingroup": "x",
         "histfunc": "sum",
         "hovertemplate": "Name=PushSpring<br>Date=%{x}<br>sum of Occurrence=%{y}<extra></extra>",
         "legendgroup": "PushSpring",
         "marker": {
          "color": "#19d3f3",
          "pattern": {
           "shape": ""
          }
         },
         "name": "PushSpring",
         "offsetgroup": "PushSpring",
         "orientation": "v",
         "showlegend": true,
         "type": "histogram",
         "x": [
          "2020-02-25"
         ],
         "xaxis": "x",
         "y": [
          11
         ],
         "yaxis": "y"
        },
        {
         "alignmentgroup": "True",
         "bingroup": "x",
         "histfunc": "sum",
         "hovertemplate": "Name=mediba<br>Date=%{x}<br>sum of Occurrence=%{y}<extra></extra>",
         "legendgroup": "mediba",
         "marker": {
          "color": "#FF6692",
          "pattern": {
           "shape": ""
          }
         },
         "name": "mediba",
         "offsetgroup": "mediba",
         "orientation": "v",
         "showlegend": true,
         "type": "histogram",
         "x": [
          "2020-06-08"
         ],
         "xaxis": "x",
         "y": [
          11
         ],
         "yaxis": "y"
        },
        {
         "alignmentgroup": "True",
         "bingroup": "x",
         "histfunc": "sum",
         "hovertemplate": "Name=IndoorAtlas<br>Date=%{x}<br>sum of Occurrence=%{y}<extra></extra>",
         "legendgroup": "IndoorAtlas",
         "marker": {
          "color": "#B6E880",
          "pattern": {
           "shape": ""
          }
         },
         "name": "IndoorAtlas",
         "offsetgroup": "IndoorAtlas",
         "orientation": "v",
         "showlegend": true,
         "type": "histogram",
         "x": [
          "2021-03-12"
         ],
         "xaxis": "x",
         "y": [
          10
         ],
         "yaxis": "y"
        },
        {
         "alignmentgroup": "True",
         "bingroup": "x",
         "histfunc": "sum",
         "hovertemplate": "Name=Herow<br>Date=%{x}<br>sum of Occurrence=%{y}<extra></extra>",
         "legendgroup": "Herow",
         "marker": {
          "color": "#FF97FF",
          "pattern": {
           "shape": ""
          }
         },
         "name": "Herow",
         "offsetgroup": "Herow",
         "orientation": "v",
         "showlegend": true,
         "type": "histogram",
         "x": [
          "2020-02-25"
         ],
         "xaxis": "x",
         "y": [
          10
         ],
         "yaxis": "y"
        },
        {
         "alignmentgroup": "True",
         "bingroup": "x",
         "histfunc": "sum",
         "hovertemplate": "Name=Tencent MTA<br>Date=%{x}<br>sum of Occurrence=%{y}<extra></extra>",
         "legendgroup": "Tencent MTA",
         "marker": {
          "color": "#FECB52",
          "pattern": {
           "shape": ""
          }
         },
         "name": "Tencent MTA",
         "offsetgroup": "Tencent MTA",
         "orientation": "v",
         "showlegend": true,
         "type": "histogram",
         "x": [
          "2018-03-04"
         ],
         "xaxis": "x",
         "y": [
          9
         ],
         "yaxis": "y"
        },
        {
         "alignmentgroup": "True",
         "bingroup": "x",
         "histfunc": "sum",
         "hovertemplate": "Name=SilverPush<br>Date=%{x}<br>sum of Occurrence=%{y}<extra></extra>",
         "legendgroup": "SilverPush",
         "marker": {
          "color": "#636efa",
          "pattern": {
           "shape": ""
          }
         },
         "name": "SilverPush",
         "offsetgroup": "SilverPush",
         "orientation": "v",
         "showlegend": true,
         "type": "histogram",
         "x": [
          "2018-01-05"
         ],
         "xaxis": "x",
         "y": [
          8
         ],
         "yaxis": "y"
        },
        {
         "alignmentgroup": "True",
         "bingroup": "x",
         "histfunc": "sum",
         "hovertemplate": "Name=Blesh<br>Date=%{x}<br>sum of Occurrence=%{y}<extra></extra>",
         "legendgroup": "Blesh",
         "marker": {
          "color": "#EF553B",
          "pattern": {
           "shape": ""
          }
         },
         "name": "Blesh",
         "offsetgroup": "Blesh",
         "orientation": "v",
         "showlegend": true,
         "type": "histogram",
         "x": [
          "2021-03-12"
         ],
         "xaxis": "x",
         "y": [
          8
         ],
         "yaxis": "y"
        },
        {
         "alignmentgroup": "True",
         "bingroup": "x",
         "histfunc": "sum",
         "hovertemplate": "Name=Baidu Navigation<br>Date=%{x}<br>sum of Occurrence=%{y}<extra></extra>",
         "legendgroup": "Baidu Navigation",
         "marker": {
          "color": "#00cc96",
          "pattern": {
           "shape": ""
          }
         },
         "name": "Baidu Navigation",
         "offsetgroup": "Baidu Navigation",
         "orientation": "v",
         "showlegend": true,
         "type": "histogram",
         "x": [
          "2018-03-04"
         ],
         "xaxis": "x",
         "y": [
          7
         ],
         "yaxis": "y"
        },
        {
         "alignmentgroup": "True",
         "bingroup": "x",
         "histfunc": "sum",
         "hovertemplate": "Name=Adcenix<br>Date=%{x}<br>sum of Occurrence=%{y}<extra></extra>",
         "legendgroup": "Adcenix",
         "marker": {
          "color": "#ab63fa",
          "pattern": {
           "shape": ""
          }
         },
         "name": "Adcenix",
         "offsetgroup": "Adcenix",
         "orientation": "v",
         "showlegend": true,
         "type": "histogram",
         "x": [
          "2021-02-28"
         ],
         "xaxis": "x",
         "y": [
          6
         ],
         "yaxis": "y"
        },
        {
         "alignmentgroup": "True",
         "bingroup": "x",
         "histfunc": "sum",
         "hovertemplate": "Name=ScoreLoop<br>Date=%{x}<br>sum of Occurrence=%{y}<extra></extra>",
         "legendgroup": "ScoreLoop",
         "marker": {
          "color": "#FFA15A",
          "pattern": {
           "shape": ""
          }
         },
         "name": "ScoreLoop",
         "offsetgroup": "ScoreLoop",
         "orientation": "v",
         "showlegend": true,
         "type": "histogram",
         "x": [
          "2021-03-12"
         ],
         "xaxis": "x",
         "y": [
          6
         ],
         "yaxis": "y"
        },
        {
         "alignmentgroup": "True",
         "bingroup": "x",
         "histfunc": "sum",
         "hovertemplate": "Name=IBM Digital Analytics<br>Date=%{x}<br>sum of Occurrence=%{y}<extra></extra>",
         "legendgroup": "IBM Digital Analytics",
         "marker": {
          "color": "#19d3f3",
          "pattern": {
           "shape": ""
          }
         },
         "name": "IBM Digital Analytics",
         "offsetgroup": "IBM Digital Analytics",
         "orientation": "v",
         "showlegend": true,
         "type": "histogram",
         "x": [
          "2021-02-28"
         ],
         "xaxis": "x",
         "y": [
          6
         ],
         "yaxis": "y"
        },
        {
         "alignmentgroup": "True",
         "bingroup": "x",
         "histfunc": "sum",
         "hovertemplate": "Name=MOCA<br>Date=%{x}<br>sum of Occurrence=%{y}<extra></extra>",
         "legendgroup": "MOCA",
         "marker": {
          "color": "#FF6692",
          "pattern": {
           "shape": ""
          }
         },
         "name": "MOCA",
         "offsetgroup": "MOCA",
         "orientation": "v",
         "showlegend": true,
         "type": "histogram",
         "x": [
          "2021-03-12"
         ],
         "xaxis": "x",
         "y": [
          6
         ],
         "yaxis": "y"
        },
        {
         "alignmentgroup": "True",
         "bingroup": "x",
         "histfunc": "sum",
         "hovertemplate": "Name=Actv8me<br>Date=%{x}<br>sum of Occurrence=%{y}<extra></extra>",
         "legendgroup": "Actv8me",
         "marker": {
          "color": "#B6E880",
          "pattern": {
           "shape": ""
          }
         },
         "name": "Actv8me",
         "offsetgroup": "Actv8me",
         "orientation": "v",
         "showlegend": true,
         "type": "histogram",
         "x": [
          "2020-09-19"
         ],
         "xaxis": "x",
         "y": [
          6
         ],
         "yaxis": "y"
        },
        {
         "alignmentgroup": "True",
         "bingroup": "x",
         "histfunc": "sum",
         "hovertemplate": "Name=Aarki<br>Date=%{x}<br>sum of Occurrence=%{y}<extra></extra>",
         "legendgroup": "Aarki",
         "marker": {
          "color": "#FF97FF",
          "pattern": {
           "shape": ""
          }
         },
         "name": "Aarki",
         "offsetgroup": "Aarki",
         "orientation": "v",
         "showlegend": true,
         "type": "histogram",
         "x": [
          "2020-09-19"
         ],
         "xaxis": "x",
         "y": [
          5
         ],
         "yaxis": "y"
        },
        {
         "alignmentgroup": "True",
         "bingroup": "x",
         "histfunc": "sum",
         "hovertemplate": "Name=Bluecats<br>Date=%{x}<br>sum of Occurrence=%{y}<extra></extra>",
         "legendgroup": "Bluecats",
         "marker": {
          "color": "#FECB52",
          "pattern": {
           "shape": ""
          }
         },
         "name": "Bluecats",
         "offsetgroup": "Bluecats",
         "orientation": "v",
         "showlegend": true,
         "type": "histogram",
         "x": [
          "2021-03-12"
         ],
         "xaxis": "x",
         "y": [
          5
         ],
         "yaxis": "y"
        },
        {
         "alignmentgroup": "True",
         "bingroup": "x",
         "histfunc": "sum",
         "hovertemplate": "Name=Shopkick<br>Date=%{x}<br>sum of Occurrence=%{y}<extra></extra>",
         "legendgroup": "Shopkick",
         "marker": {
          "color": "#636efa",
          "pattern": {
           "shape": ""
          }
         },
         "name": "Shopkick",
         "offsetgroup": "Shopkick",
         "orientation": "v",
         "showlegend": true,
         "type": "histogram",
         "x": [
          "2018-01-05"
         ],
         "xaxis": "x",
         "y": [
          4
         ],
         "yaxis": "y"
        },
        {
         "alignmentgroup": "True",
         "bingroup": "x",
         "histfunc": "sum",
         "hovertemplate": "Name=FLUZO<br>Date=%{x}<br>sum of Occurrence=%{y}<extra></extra>",
         "legendgroup": "FLUZO",
         "marker": {
          "color": "#EF553B",
          "pattern": {
           "shape": ""
          }
         },
         "name": "FLUZO",
         "offsetgroup": "FLUZO",
         "orientation": "v",
         "showlegend": true,
         "type": "histogram",
         "x": [
          "2021-03-12"
         ],
         "xaxis": "x",
         "y": [
          4
         ],
         "yaxis": "y"
        },
        {
         "alignmentgroup": "True",
         "bingroup": "x",
         "histfunc": "sum",
         "hovertemplate": "Name=CoolaData<br>Date=%{x}<br>sum of Occurrence=%{y}<extra></extra>",
         "legendgroup": "CoolaData",
         "marker": {
          "color": "#00cc96",
          "pattern": {
           "shape": ""
          }
         },
         "name": "CoolaData",
         "offsetgroup": "CoolaData",
         "orientation": "v",
         "showlegend": true,
         "type": "histogram",
         "x": [
          "2021-03-12"
         ],
         "xaxis": "x",
         "y": [
          4
         ],
         "yaxis": "y"
        },
        {
         "alignmentgroup": "True",
         "bingroup": "x",
         "histfunc": "sum",
         "hovertemplate": "Name=Vpon<br>Date=%{x}<br>sum of Occurrence=%{y}<extra></extra>",
         "legendgroup": "Vpon",
         "marker": {
          "color": "#ab63fa",
          "pattern": {
           "shape": ""
          }
         },
         "name": "Vpon",
         "offsetgroup": "Vpon",
         "orientation": "v",
         "showlegend": true,
         "type": "histogram",
         "x": [
          "2020-06-08"
         ],
         "xaxis": "x",
         "y": [
          4
         ],
         "yaxis": "y"
        },
        {
         "alignmentgroup": "True",
         "bingroup": "x",
         "histfunc": "sum",
         "hovertemplate": "Name=Sensoro<br>Date=%{x}<br>sum of Occurrence=%{y}<extra></extra>",
         "legendgroup": "Sensoro",
         "marker": {
          "color": "#FFA15A",
          "pattern": {
           "shape": ""
          }
         },
         "name": "Sensoro",
         "offsetgroup": "Sensoro",
         "orientation": "v",
         "showlegend": true,
         "type": "histogram",
         "x": [
          "2018-08-16"
         ],
         "xaxis": "x",
         "y": [
          3
         ],
         "yaxis": "y"
        },
        {
         "alignmentgroup": "True",
         "bingroup": "x",
         "histfunc": "sum",
         "hovertemplate": "Name=Lenddo<br>Date=%{x}<br>sum of Occurrence=%{y}<extra></extra>",
         "legendgroup": "Lenddo",
         "marker": {
          "color": "#19d3f3",
          "pattern": {
           "shape": ""
          }
         },
         "name": "Lenddo",
         "offsetgroup": "Lenddo",
         "orientation": "v",
         "showlegend": true,
         "type": "histogram",
         "x": [
          "2020-12-13"
         ],
         "xaxis": "x",
         "y": [
          3
         ],
         "yaxis": "y"
        },
        {
         "alignmentgroup": "True",
         "bingroup": "x",
         "histfunc": "sum",
         "hovertemplate": "Name=IPQualityScore<br>Date=%{x}<br>sum of Occurrence=%{y}<extra></extra>",
         "legendgroup": "IPQualityScore",
         "marker": {
          "color": "#FF6692",
          "pattern": {
           "shape": ""
          }
         },
         "name": "IPQualityScore",
         "offsetgroup": "IPQualityScore",
         "orientation": "v",
         "showlegend": true,
         "type": "histogram",
         "x": [
          "2021-01-24"
         ],
         "xaxis": "x",
         "y": [
          3
         ],
         "yaxis": "y"
        },
        {
         "alignmentgroup": "True",
         "bingroup": "x",
         "histfunc": "sum",
         "hovertemplate": "Name=AdLocus<br>Date=%{x}<br>sum of Occurrence=%{y}<extra></extra>",
         "legendgroup": "AdLocus",
         "marker": {
          "color": "#B6E880",
          "pattern": {
           "shape": ""
          }
         },
         "name": "AdLocus",
         "offsetgroup": "AdLocus",
         "orientation": "v",
         "showlegend": true,
         "type": "histogram",
         "x": [
          "2021-02-28"
         ],
         "xaxis": "x",
         "y": [
          1
         ],
         "yaxis": "y"
        },
        {
         "alignmentgroup": "True",
         "bingroup": "x",
         "histfunc": "sum",
         "hovertemplate": "Name=Proximi.io<br>Date=%{x}<br>sum of Occurrence=%{y}<extra></extra>",
         "legendgroup": "Proximi.io",
         "marker": {
          "color": "#FF97FF",
          "pattern": {
           "shape": ""
          }
         },
         "name": "Proximi.io",
         "offsetgroup": "Proximi.io",
         "orientation": "v",
         "showlegend": true,
         "type": "histogram",
         "x": [
          "2021-03-12"
         ],
         "xaxis": "x",
         "y": [
          1
         ],
         "yaxis": "y"
        },
        {
         "alignmentgroup": "True",
         "bingroup": "x",
         "histfunc": "sum",
         "hovertemplate": "Name=Admitad<br>Date=%{x}<br>sum of Occurrence=%{y}<extra></extra>",
         "legendgroup": "Admitad",
         "marker": {
          "color": "#FECB52",
          "pattern": {
           "shape": ""
          }
         },
         "name": "Admitad",
         "offsetgroup": "Admitad",
         "orientation": "v",
         "showlegend": true,
         "type": "histogram",
         "x": [
          "2021-02-28"
         ],
         "xaxis": "x",
         "y": [
          1
         ],
         "yaxis": "y"
        },
        {
         "alignmentgroup": "True",
         "bingroup": "x",
         "histfunc": "sum",
         "hovertemplate": "Name=Plexure<br>Date=%{x}<br>sum of Occurrence=%{y}<extra></extra>",
         "legendgroup": "Plexure",
         "marker": {
          "color": "#636efa",
          "pattern": {
           "shape": ""
          }
         },
         "name": "Plexure",
         "offsetgroup": "Plexure",
         "orientation": "v",
         "showlegend": true,
         "type": "histogram",
         "x": [
          "2021-05-16"
         ],
         "xaxis": "x",
         "y": [
          1
         ],
         "yaxis": "y"
        }
       ],
       "layout": {
        "barmode": "relative",
        "legend": {
         "title": {
          "text": "Name"
         },
         "tracegroupgap": 0
        },
        "margin": {
         "t": 60
        },
        "template": {
         "data": {
          "bar": [
           {
            "error_x": {
             "color": "#2a3f5f"
            },
            "error_y": {
             "color": "#2a3f5f"
            },
            "marker": {
             "line": {
              "color": "#E5ECF6",
              "width": 0.5
             },
             "pattern": {
              "fillmode": "overlay",
              "size": 10,
              "solidity": 0.2
             }
            },
            "type": "bar"
           }
          ],
          "barpolar": [
           {
            "marker": {
             "line": {
              "color": "#E5ECF6",
              "width": 0.5
             },
             "pattern": {
              "fillmode": "overlay",
              "size": 10,
              "solidity": 0.2
             }
            },
            "type": "barpolar"
           }
          ],
          "carpet": [
           {
            "aaxis": {
             "endlinecolor": "#2a3f5f",
             "gridcolor": "white",
             "linecolor": "white",
             "minorgridcolor": "white",
             "startlinecolor": "#2a3f5f"
            },
            "baxis": {
             "endlinecolor": "#2a3f5f",
             "gridcolor": "white",
             "linecolor": "white",
             "minorgridcolor": "white",
             "startlinecolor": "#2a3f5f"
            },
            "type": "carpet"
           }
          ],
          "choropleth": [
           {
            "colorbar": {
             "outlinewidth": 0,
             "ticks": ""
            },
            "type": "choropleth"
           }
          ],
          "contour": [
           {
            "colorbar": {
             "outlinewidth": 0,
             "ticks": ""
            },
            "colorscale": [
             [
              0,
              "#0d0887"
             ],
             [
              0.1111111111111111,
              "#46039f"
             ],
             [
              0.2222222222222222,
              "#7201a8"
             ],
             [
              0.3333333333333333,
              "#9c179e"
             ],
             [
              0.4444444444444444,
              "#bd3786"
             ],
             [
              0.5555555555555556,
              "#d8576b"
             ],
             [
              0.6666666666666666,
              "#ed7953"
             ],
             [
              0.7777777777777778,
              "#fb9f3a"
             ],
             [
              0.8888888888888888,
              "#fdca26"
             ],
             [
              1,
              "#f0f921"
             ]
            ],
            "type": "contour"
           }
          ],
          "contourcarpet": [
           {
            "colorbar": {
             "outlinewidth": 0,
             "ticks": ""
            },
            "type": "contourcarpet"
           }
          ],
          "heatmap": [
           {
            "colorbar": {
             "outlinewidth": 0,
             "ticks": ""
            },
            "colorscale": [
             [
              0,
              "#0d0887"
             ],
             [
              0.1111111111111111,
              "#46039f"
             ],
             [
              0.2222222222222222,
              "#7201a8"
             ],
             [
              0.3333333333333333,
              "#9c179e"
             ],
             [
              0.4444444444444444,
              "#bd3786"
             ],
             [
              0.5555555555555556,
              "#d8576b"
             ],
             [
              0.6666666666666666,
              "#ed7953"
             ],
             [
              0.7777777777777778,
              "#fb9f3a"
             ],
             [
              0.8888888888888888,
              "#fdca26"
             ],
             [
              1,
              "#f0f921"
             ]
            ],
            "type": "heatmap"
           }
          ],
          "heatmapgl": [
           {
            "colorbar": {
             "outlinewidth": 0,
             "ticks": ""
            },
            "colorscale": [
             [
              0,
              "#0d0887"
             ],
             [
              0.1111111111111111,
              "#46039f"
             ],
             [
              0.2222222222222222,
              "#7201a8"
             ],
             [
              0.3333333333333333,
              "#9c179e"
             ],
             [
              0.4444444444444444,
              "#bd3786"
             ],
             [
              0.5555555555555556,
              "#d8576b"
             ],
             [
              0.6666666666666666,
              "#ed7953"
             ],
             [
              0.7777777777777778,
              "#fb9f3a"
             ],
             [
              0.8888888888888888,
              "#fdca26"
             ],
             [
              1,
              "#f0f921"
             ]
            ],
            "type": "heatmapgl"
           }
          ],
          "histogram": [
           {
            "marker": {
             "pattern": {
              "fillmode": "overlay",
              "size": 10,
              "solidity": 0.2
             }
            },
            "type": "histogram"
           }
          ],
          "histogram2d": [
           {
            "colorbar": {
             "outlinewidth": 0,
             "ticks": ""
            },
            "colorscale": [
             [
              0,
              "#0d0887"
             ],
             [
              0.1111111111111111,
              "#46039f"
             ],
             [
              0.2222222222222222,
              "#7201a8"
             ],
             [
              0.3333333333333333,
              "#9c179e"
             ],
             [
              0.4444444444444444,
              "#bd3786"
             ],
             [
              0.5555555555555556,
              "#d8576b"
             ],
             [
              0.6666666666666666,
              "#ed7953"
             ],
             [
              0.7777777777777778,
              "#fb9f3a"
             ],
             [
              0.8888888888888888,
              "#fdca26"
             ],
             [
              1,
              "#f0f921"
             ]
            ],
            "type": "histogram2d"
           }
          ],
          "histogram2dcontour": [
           {
            "colorbar": {
             "outlinewidth": 0,
             "ticks": ""
            },
            "colorscale": [
             [
              0,
              "#0d0887"
             ],
             [
              0.1111111111111111,
              "#46039f"
             ],
             [
              0.2222222222222222,
              "#7201a8"
             ],
             [
              0.3333333333333333,
              "#9c179e"
             ],
             [
              0.4444444444444444,
              "#bd3786"
             ],
             [
              0.5555555555555556,
              "#d8576b"
             ],
             [
              0.6666666666666666,
              "#ed7953"
             ],
             [
              0.7777777777777778,
              "#fb9f3a"
             ],
             [
              0.8888888888888888,
              "#fdca26"
             ],
             [
              1,
              "#f0f921"
             ]
            ],
            "type": "histogram2dcontour"
           }
          ],
          "mesh3d": [
           {
            "colorbar": {
             "outlinewidth": 0,
             "ticks": ""
            },
            "type": "mesh3d"
           }
          ],
          "parcoords": [
           {
            "line": {
             "colorbar": {
              "outlinewidth": 0,
              "ticks": ""
             }
            },
            "type": "parcoords"
           }
          ],
          "pie": [
           {
            "automargin": true,
            "type": "pie"
           }
          ],
          "scatter": [
           {
            "marker": {
             "colorbar": {
              "outlinewidth": 0,
              "ticks": ""
             }
            },
            "type": "scatter"
           }
          ],
          "scatter3d": [
           {
            "line": {
             "colorbar": {
              "outlinewidth": 0,
              "ticks": ""
             }
            },
            "marker": {
             "colorbar": {
              "outlinewidth": 0,
              "ticks": ""
             }
            },
            "type": "scatter3d"
           }
          ],
          "scattercarpet": [
           {
            "marker": {
             "colorbar": {
              "outlinewidth": 0,
              "ticks": ""
             }
            },
            "type": "scattercarpet"
           }
          ],
          "scattergeo": [
           {
            "marker": {
             "colorbar": {
              "outlinewidth": 0,
              "ticks": ""
             }
            },
            "type": "scattergeo"
           }
          ],
          "scattergl": [
           {
            "marker": {
             "colorbar": {
              "outlinewidth": 0,
              "ticks": ""
             }
            },
            "type": "scattergl"
           }
          ],
          "scattermapbox": [
           {
            "marker": {
             "colorbar": {
              "outlinewidth": 0,
              "ticks": ""
             }
            },
            "type": "scattermapbox"
           }
          ],
          "scatterpolar": [
           {
            "marker": {
             "colorbar": {
              "outlinewidth": 0,
              "ticks": ""
             }
            },
            "type": "scatterpolar"
           }
          ],
          "scatterpolargl": [
           {
            "marker": {
             "colorbar": {
              "outlinewidth": 0,
              "ticks": ""
             }
            },
            "type": "scatterpolargl"
           }
          ],
          "scatterternary": [
           {
            "marker": {
             "colorbar": {
              "outlinewidth": 0,
              "ticks": ""
             }
            },
            "type": "scatterternary"
           }
          ],
          "surface": [
           {
            "colorbar": {
             "outlinewidth": 0,
             "ticks": ""
            },
            "colorscale": [
             [
              0,
              "#0d0887"
             ],
             [
              0.1111111111111111,
              "#46039f"
             ],
             [
              0.2222222222222222,
              "#7201a8"
             ],
             [
              0.3333333333333333,
              "#9c179e"
             ],
             [
              0.4444444444444444,
              "#bd3786"
             ],
             [
              0.5555555555555556,
              "#d8576b"
             ],
             [
              0.6666666666666666,
              "#ed7953"
             ],
             [
              0.7777777777777778,
              "#fb9f3a"
             ],
             [
              0.8888888888888888,
              "#fdca26"
             ],
             [
              1,
              "#f0f921"
             ]
            ],
            "type": "surface"
           }
          ],
          "table": [
           {
            "cells": {
             "fill": {
              "color": "#EBF0F8"
             },
             "line": {
              "color": "white"
             }
            },
            "header": {
             "fill": {
              "color": "#C8D4E3"
             },
             "line": {
              "color": "white"
             }
            },
            "type": "table"
           }
          ]
         },
         "layout": {
          "annotationdefaults": {
           "arrowcolor": "#2a3f5f",
           "arrowhead": 0,
           "arrowwidth": 1
          },
          "autotypenumbers": "strict",
          "coloraxis": {
           "colorbar": {
            "outlinewidth": 0,
            "ticks": ""
           }
          },
          "colorscale": {
           "diverging": [
            [
             0,
             "#8e0152"
            ],
            [
             0.1,
             "#c51b7d"
            ],
            [
             0.2,
             "#de77ae"
            ],
            [
             0.3,
             "#f1b6da"
            ],
            [
             0.4,
             "#fde0ef"
            ],
            [
             0.5,
             "#f7f7f7"
            ],
            [
             0.6,
             "#e6f5d0"
            ],
            [
             0.7,
             "#b8e186"
            ],
            [
             0.8,
             "#7fbc41"
            ],
            [
             0.9,
             "#4d9221"
            ],
            [
             1,
             "#276419"
            ]
           ],
           "sequential": [
            [
             0,
             "#0d0887"
            ],
            [
             0.1111111111111111,
             "#46039f"
            ],
            [
             0.2222222222222222,
             "#7201a8"
            ],
            [
             0.3333333333333333,
             "#9c179e"
            ],
            [
             0.4444444444444444,
             "#bd3786"
            ],
            [
             0.5555555555555556,
             "#d8576b"
            ],
            [
             0.6666666666666666,
             "#ed7953"
            ],
            [
             0.7777777777777778,
             "#fb9f3a"
            ],
            [
             0.8888888888888888,
             "#fdca26"
            ],
            [
             1,
             "#f0f921"
            ]
           ],
           "sequentialminus": [
            [
             0,
             "#0d0887"
            ],
            [
             0.1111111111111111,
             "#46039f"
            ],
            [
             0.2222222222222222,
             "#7201a8"
            ],
            [
             0.3333333333333333,
             "#9c179e"
            ],
            [
             0.4444444444444444,
             "#bd3786"
            ],
            [
             0.5555555555555556,
             "#d8576b"
            ],
            [
             0.6666666666666666,
             "#ed7953"
            ],
            [
             0.7777777777777778,
             "#fb9f3a"
            ],
            [
             0.8888888888888888,
             "#fdca26"
            ],
            [
             1,
             "#f0f921"
            ]
           ]
          },
          "colorway": [
           "#636efa",
           "#EF553B",
           "#00cc96",
           "#ab63fa",
           "#FFA15A",
           "#19d3f3",
           "#FF6692",
           "#B6E880",
           "#FF97FF",
           "#FECB52"
          ],
          "font": {
           "color": "#2a3f5f"
          },
          "geo": {
           "bgcolor": "white",
           "lakecolor": "white",
           "landcolor": "#E5ECF6",
           "showlakes": true,
           "showland": true,
           "subunitcolor": "white"
          },
          "hoverlabel": {
           "align": "left"
          },
          "hovermode": "closest",
          "mapbox": {
           "style": "light"
          },
          "paper_bgcolor": "white",
          "plot_bgcolor": "#E5ECF6",
          "polar": {
           "angularaxis": {
            "gridcolor": "white",
            "linecolor": "white",
            "ticks": ""
           },
           "bgcolor": "#E5ECF6",
           "radialaxis": {
            "gridcolor": "white",
            "linecolor": "white",
            "ticks": ""
           }
          },
          "scene": {
           "xaxis": {
            "backgroundcolor": "#E5ECF6",
            "gridcolor": "white",
            "gridwidth": 2,
            "linecolor": "white",
            "showbackground": true,
            "ticks": "",
            "zerolinecolor": "white"
           },
           "yaxis": {
            "backgroundcolor": "#E5ECF6",
            "gridcolor": "white",
            "gridwidth": 2,
            "linecolor": "white",
            "showbackground": true,
            "ticks": "",
            "zerolinecolor": "white"
           },
           "zaxis": {
            "backgroundcolor": "#E5ECF6",
            "gridcolor": "white",
            "gridwidth": 2,
            "linecolor": "white",
            "showbackground": true,
            "ticks": "",
            "zerolinecolor": "white"
           }
          },
          "shapedefaults": {
           "line": {
            "color": "#2a3f5f"
           }
          },
          "ternary": {
           "aaxis": {
            "gridcolor": "white",
            "linecolor": "white",
            "ticks": ""
           },
           "baxis": {
            "gridcolor": "white",
            "linecolor": "white",
            "ticks": ""
           },
           "bgcolor": "#E5ECF6",
           "caxis": {
            "gridcolor": "white",
            "linecolor": "white",
            "ticks": ""
           }
          },
          "title": {
           "x": 0.05
          },
          "xaxis": {
           "automargin": true,
           "gridcolor": "white",
           "linecolor": "white",
           "ticks": "",
           "title": {
            "standoff": 15
           },
           "zerolinecolor": "white",
           "zerolinewidth": 2
          },
          "yaxis": {
           "automargin": true,
           "gridcolor": "white",
           "linecolor": "white",
           "ticks": "",
           "title": {
            "standoff": 15
           },
           "zerolinecolor": "white",
           "zerolinewidth": 2
          }
         }
        },
        "xaxis": {
         "anchor": "y",
         "domain": [
          0,
          1
         ],
         "title": {
          "text": "Date"
         }
        },
        "yaxis": {
         "anchor": "x",
         "domain": [
          0,
          1
         ],
         "title": {
          "text": "sum of Occurrence"
         }
        }
       }
      }
     },
     "metadata": {},
     "output_type": "display_data"
    }
   ],
   "source": [
    "\n",
    "del ord_result[\"Name\"]\n",
    "frames = [trackers_date_df, ord_result]\n",
    "concat_result = pandas.concat(frames, axis=1)\n",
    "\n",
    "fig = px.histogram(concat_result, x=concat_result[\"Date\"], y=concat_result[\"Occurrence\"], color=concat_result[\"Name\"])\n",
    "fig.show()\n"
   ]
  },
  {
   "cell_type": "markdown",
   "metadata": {},
   "source": [
    "# II - Quelles sont les catégories de trackers les plus représentés ?"
   ]
  },
  {
   "cell_type": "code",
   "execution_count": 399,
   "metadata": {},
   "outputs": [
    {
     "name": "stdout",
     "output_type": "stream",
     "text": [
      "{'Analytics': 182, 'Advertisement': 103, 'Crash reporting': 10, 'Identification': 20, 'Profiling': 47, 'Location': 56}\n"
     ]
    }
   ],
   "source": [
    "# get pie chart of each categories market share\n",
    "\n",
    "catResult = {}\n",
    "\n",
    "for k, v in tuple_trackers:\n",
    "    if k != \"000\":\n",
    "        key = ast.literal_eval(data_trackers[k][0]) # convert str to dictionary\n",
    "        for categories in key[\"categories\"]: # loop in categories to count their occurrence\n",
    "\n",
    "            if categories and categories in catResult.keys():\n",
    "                catResult[categories] += 1\n",
    "            else:\n",
    "                catResult[categories] = 1\n",
    "\n",
    "# nb of times each category of tracker is used\n",
    "print(catResult)"
   ]
  },
  {
   "cell_type": "markdown",
   "metadata": {},
   "source": [
    "## Diagramme circulaire : répartition des catégories de trackers "
   ]
  },
  {
   "cell_type": "code",
   "execution_count": 400,
   "metadata": {},
   "outputs": [
    {
     "data": {
      "application/vnd.plotly.v1+json": {
       "config": {
        "plotlyServerURL": "https://plot.ly"
       },
       "data": [
        {
         "domain": {
          "x": [
           0,
           1
          ],
          "y": [
           0,
           1
          ]
         },
         "hovertemplate": "label=%{label}<br>value=%{value}<extra></extra>",
         "labels": [
          "Analytics",
          "Advertisement",
          "Crash reporting",
          "Identification",
          "Profiling",
          "Location"
         ],
         "legendgroup": "",
         "name": "",
         "showlegend": true,
         "type": "pie",
         "values": [
          182,
          103,
          10,
          20,
          47,
          56
         ]
        }
       ],
       "layout": {
        "legend": {
         "tracegroupgap": 0
        },
        "template": {
         "data": {
          "bar": [
           {
            "error_x": {
             "color": "#2a3f5f"
            },
            "error_y": {
             "color": "#2a3f5f"
            },
            "marker": {
             "line": {
              "color": "#E5ECF6",
              "width": 0.5
             },
             "pattern": {
              "fillmode": "overlay",
              "size": 10,
              "solidity": 0.2
             }
            },
            "type": "bar"
           }
          ],
          "barpolar": [
           {
            "marker": {
             "line": {
              "color": "#E5ECF6",
              "width": 0.5
             },
             "pattern": {
              "fillmode": "overlay",
              "size": 10,
              "solidity": 0.2
             }
            },
            "type": "barpolar"
           }
          ],
          "carpet": [
           {
            "aaxis": {
             "endlinecolor": "#2a3f5f",
             "gridcolor": "white",
             "linecolor": "white",
             "minorgridcolor": "white",
             "startlinecolor": "#2a3f5f"
            },
            "baxis": {
             "endlinecolor": "#2a3f5f",
             "gridcolor": "white",
             "linecolor": "white",
             "minorgridcolor": "white",
             "startlinecolor": "#2a3f5f"
            },
            "type": "carpet"
           }
          ],
          "choropleth": [
           {
            "colorbar": {
             "outlinewidth": 0,
             "ticks": ""
            },
            "type": "choropleth"
           }
          ],
          "contour": [
           {
            "colorbar": {
             "outlinewidth": 0,
             "ticks": ""
            },
            "colorscale": [
             [
              0,
              "#0d0887"
             ],
             [
              0.1111111111111111,
              "#46039f"
             ],
             [
              0.2222222222222222,
              "#7201a8"
             ],
             [
              0.3333333333333333,
              "#9c179e"
             ],
             [
              0.4444444444444444,
              "#bd3786"
             ],
             [
              0.5555555555555556,
              "#d8576b"
             ],
             [
              0.6666666666666666,
              "#ed7953"
             ],
             [
              0.7777777777777778,
              "#fb9f3a"
             ],
             [
              0.8888888888888888,
              "#fdca26"
             ],
             [
              1,
              "#f0f921"
             ]
            ],
            "type": "contour"
           }
          ],
          "contourcarpet": [
           {
            "colorbar": {
             "outlinewidth": 0,
             "ticks": ""
            },
            "type": "contourcarpet"
           }
          ],
          "heatmap": [
           {
            "colorbar": {
             "outlinewidth": 0,
             "ticks": ""
            },
            "colorscale": [
             [
              0,
              "#0d0887"
             ],
             [
              0.1111111111111111,
              "#46039f"
             ],
             [
              0.2222222222222222,
              "#7201a8"
             ],
             [
              0.3333333333333333,
              "#9c179e"
             ],
             [
              0.4444444444444444,
              "#bd3786"
             ],
             [
              0.5555555555555556,
              "#d8576b"
             ],
             [
              0.6666666666666666,
              "#ed7953"
             ],
             [
              0.7777777777777778,
              "#fb9f3a"
             ],
             [
              0.8888888888888888,
              "#fdca26"
             ],
             [
              1,
              "#f0f921"
             ]
            ],
            "type": "heatmap"
           }
          ],
          "heatmapgl": [
           {
            "colorbar": {
             "outlinewidth": 0,
             "ticks": ""
            },
            "colorscale": [
             [
              0,
              "#0d0887"
             ],
             [
              0.1111111111111111,
              "#46039f"
             ],
             [
              0.2222222222222222,
              "#7201a8"
             ],
             [
              0.3333333333333333,
              "#9c179e"
             ],
             [
              0.4444444444444444,
              "#bd3786"
             ],
             [
              0.5555555555555556,
              "#d8576b"
             ],
             [
              0.6666666666666666,
              "#ed7953"
             ],
             [
              0.7777777777777778,
              "#fb9f3a"
             ],
             [
              0.8888888888888888,
              "#fdca26"
             ],
             [
              1,
              "#f0f921"
             ]
            ],
            "type": "heatmapgl"
           }
          ],
          "histogram": [
           {
            "marker": {
             "pattern": {
              "fillmode": "overlay",
              "size": 10,
              "solidity": 0.2
             }
            },
            "type": "histogram"
           }
          ],
          "histogram2d": [
           {
            "colorbar": {
             "outlinewidth": 0,
             "ticks": ""
            },
            "colorscale": [
             [
              0,
              "#0d0887"
             ],
             [
              0.1111111111111111,
              "#46039f"
             ],
             [
              0.2222222222222222,
              "#7201a8"
             ],
             [
              0.3333333333333333,
              "#9c179e"
             ],
             [
              0.4444444444444444,
              "#bd3786"
             ],
             [
              0.5555555555555556,
              "#d8576b"
             ],
             [
              0.6666666666666666,
              "#ed7953"
             ],
             [
              0.7777777777777778,
              "#fb9f3a"
             ],
             [
              0.8888888888888888,
              "#fdca26"
             ],
             [
              1,
              "#f0f921"
             ]
            ],
            "type": "histogram2d"
           }
          ],
          "histogram2dcontour": [
           {
            "colorbar": {
             "outlinewidth": 0,
             "ticks": ""
            },
            "colorscale": [
             [
              0,
              "#0d0887"
             ],
             [
              0.1111111111111111,
              "#46039f"
             ],
             [
              0.2222222222222222,
              "#7201a8"
             ],
             [
              0.3333333333333333,
              "#9c179e"
             ],
             [
              0.4444444444444444,
              "#bd3786"
             ],
             [
              0.5555555555555556,
              "#d8576b"
             ],
             [
              0.6666666666666666,
              "#ed7953"
             ],
             [
              0.7777777777777778,
              "#fb9f3a"
             ],
             [
              0.8888888888888888,
              "#fdca26"
             ],
             [
              1,
              "#f0f921"
             ]
            ],
            "type": "histogram2dcontour"
           }
          ],
          "mesh3d": [
           {
            "colorbar": {
             "outlinewidth": 0,
             "ticks": ""
            },
            "type": "mesh3d"
           }
          ],
          "parcoords": [
           {
            "line": {
             "colorbar": {
              "outlinewidth": 0,
              "ticks": ""
             }
            },
            "type": "parcoords"
           }
          ],
          "pie": [
           {
            "automargin": true,
            "type": "pie"
           }
          ],
          "scatter": [
           {
            "marker": {
             "colorbar": {
              "outlinewidth": 0,
              "ticks": ""
             }
            },
            "type": "scatter"
           }
          ],
          "scatter3d": [
           {
            "line": {
             "colorbar": {
              "outlinewidth": 0,
              "ticks": ""
             }
            },
            "marker": {
             "colorbar": {
              "outlinewidth": 0,
              "ticks": ""
             }
            },
            "type": "scatter3d"
           }
          ],
          "scattercarpet": [
           {
            "marker": {
             "colorbar": {
              "outlinewidth": 0,
              "ticks": ""
             }
            },
            "type": "scattercarpet"
           }
          ],
          "scattergeo": [
           {
            "marker": {
             "colorbar": {
              "outlinewidth": 0,
              "ticks": ""
             }
            },
            "type": "scattergeo"
           }
          ],
          "scattergl": [
           {
            "marker": {
             "colorbar": {
              "outlinewidth": 0,
              "ticks": ""
             }
            },
            "type": "scattergl"
           }
          ],
          "scattermapbox": [
           {
            "marker": {
             "colorbar": {
              "outlinewidth": 0,
              "ticks": ""
             }
            },
            "type": "scattermapbox"
           }
          ],
          "scatterpolar": [
           {
            "marker": {
             "colorbar": {
              "outlinewidth": 0,
              "ticks": ""
             }
            },
            "type": "scatterpolar"
           }
          ],
          "scatterpolargl": [
           {
            "marker": {
             "colorbar": {
              "outlinewidth": 0,
              "ticks": ""
             }
            },
            "type": "scatterpolargl"
           }
          ],
          "scatterternary": [
           {
            "marker": {
             "colorbar": {
              "outlinewidth": 0,
              "ticks": ""
             }
            },
            "type": "scatterternary"
           }
          ],
          "surface": [
           {
            "colorbar": {
             "outlinewidth": 0,
             "ticks": ""
            },
            "colorscale": [
             [
              0,
              "#0d0887"
             ],
             [
              0.1111111111111111,
              "#46039f"
             ],
             [
              0.2222222222222222,
              "#7201a8"
             ],
             [
              0.3333333333333333,
              "#9c179e"
             ],
             [
              0.4444444444444444,
              "#bd3786"
             ],
             [
              0.5555555555555556,
              "#d8576b"
             ],
             [
              0.6666666666666666,
              "#ed7953"
             ],
             [
              0.7777777777777778,
              "#fb9f3a"
             ],
             [
              0.8888888888888888,
              "#fdca26"
             ],
             [
              1,
              "#f0f921"
             ]
            ],
            "type": "surface"
           }
          ],
          "table": [
           {
            "cells": {
             "fill": {
              "color": "#EBF0F8"
             },
             "line": {
              "color": "white"
             }
            },
            "header": {
             "fill": {
              "color": "#C8D4E3"
             },
             "line": {
              "color": "white"
             }
            },
            "type": "table"
           }
          ]
         },
         "layout": {
          "annotationdefaults": {
           "arrowcolor": "#2a3f5f",
           "arrowhead": 0,
           "arrowwidth": 1
          },
          "autotypenumbers": "strict",
          "coloraxis": {
           "colorbar": {
            "outlinewidth": 0,
            "ticks": ""
           }
          },
          "colorscale": {
           "diverging": [
            [
             0,
             "#8e0152"
            ],
            [
             0.1,
             "#c51b7d"
            ],
            [
             0.2,
             "#de77ae"
            ],
            [
             0.3,
             "#f1b6da"
            ],
            [
             0.4,
             "#fde0ef"
            ],
            [
             0.5,
             "#f7f7f7"
            ],
            [
             0.6,
             "#e6f5d0"
            ],
            [
             0.7,
             "#b8e186"
            ],
            [
             0.8,
             "#7fbc41"
            ],
            [
             0.9,
             "#4d9221"
            ],
            [
             1,
             "#276419"
            ]
           ],
           "sequential": [
            [
             0,
             "#0d0887"
            ],
            [
             0.1111111111111111,
             "#46039f"
            ],
            [
             0.2222222222222222,
             "#7201a8"
            ],
            [
             0.3333333333333333,
             "#9c179e"
            ],
            [
             0.4444444444444444,
             "#bd3786"
            ],
            [
             0.5555555555555556,
             "#d8576b"
            ],
            [
             0.6666666666666666,
             "#ed7953"
            ],
            [
             0.7777777777777778,
             "#fb9f3a"
            ],
            [
             0.8888888888888888,
             "#fdca26"
            ],
            [
             1,
             "#f0f921"
            ]
           ],
           "sequentialminus": [
            [
             0,
             "#0d0887"
            ],
            [
             0.1111111111111111,
             "#46039f"
            ],
            [
             0.2222222222222222,
             "#7201a8"
            ],
            [
             0.3333333333333333,
             "#9c179e"
            ],
            [
             0.4444444444444444,
             "#bd3786"
            ],
            [
             0.5555555555555556,
             "#d8576b"
            ],
            [
             0.6666666666666666,
             "#ed7953"
            ],
            [
             0.7777777777777778,
             "#fb9f3a"
            ],
            [
             0.8888888888888888,
             "#fdca26"
            ],
            [
             1,
             "#f0f921"
            ]
           ]
          },
          "colorway": [
           "#636efa",
           "#EF553B",
           "#00cc96",
           "#ab63fa",
           "#FFA15A",
           "#19d3f3",
           "#FF6692",
           "#B6E880",
           "#FF97FF",
           "#FECB52"
          ],
          "font": {
           "color": "#2a3f5f"
          },
          "geo": {
           "bgcolor": "white",
           "lakecolor": "white",
           "landcolor": "#E5ECF6",
           "showlakes": true,
           "showland": true,
           "subunitcolor": "white"
          },
          "hoverlabel": {
           "align": "left"
          },
          "hovermode": "closest",
          "mapbox": {
           "style": "light"
          },
          "paper_bgcolor": "white",
          "plot_bgcolor": "#E5ECF6",
          "polar": {
           "angularaxis": {
            "gridcolor": "white",
            "linecolor": "white",
            "ticks": ""
           },
           "bgcolor": "#E5ECF6",
           "radialaxis": {
            "gridcolor": "white",
            "linecolor": "white",
            "ticks": ""
           }
          },
          "scene": {
           "xaxis": {
            "backgroundcolor": "#E5ECF6",
            "gridcolor": "white",
            "gridwidth": 2,
            "linecolor": "white",
            "showbackground": true,
            "ticks": "",
            "zerolinecolor": "white"
           },
           "yaxis": {
            "backgroundcolor": "#E5ECF6",
            "gridcolor": "white",
            "gridwidth": 2,
            "linecolor": "white",
            "showbackground": true,
            "ticks": "",
            "zerolinecolor": "white"
           },
           "zaxis": {
            "backgroundcolor": "#E5ECF6",
            "gridcolor": "white",
            "gridwidth": 2,
            "linecolor": "white",
            "showbackground": true,
            "ticks": "",
            "zerolinecolor": "white"
           }
          },
          "shapedefaults": {
           "line": {
            "color": "#2a3f5f"
           }
          },
          "ternary": {
           "aaxis": {
            "gridcolor": "white",
            "linecolor": "white",
            "ticks": ""
           },
           "baxis": {
            "gridcolor": "white",
            "linecolor": "white",
            "ticks": ""
           },
           "bgcolor": "#E5ECF6",
           "caxis": {
            "gridcolor": "white",
            "linecolor": "white",
            "ticks": ""
           }
          },
          "title": {
           "x": 0.05
          },
          "xaxis": {
           "automargin": true,
           "gridcolor": "white",
           "linecolor": "white",
           "ticks": "",
           "title": {
            "standoff": 15
           },
           "zerolinecolor": "white",
           "zerolinewidth": 2
          },
          "yaxis": {
           "automargin": true,
           "gridcolor": "white",
           "linecolor": "white",
           "ticks": "",
           "title": {
            "standoff": 15
           },
           "zerolinecolor": "white",
           "zerolinewidth": 2
          }
         }
        },
        "title": {
         "text": "Répartition des catégories de trackers"
        }
       }
      }
     },
     "metadata": {},
     "output_type": "display_data"
    }
   ],
   "source": [
    "# get pie chart\n",
    "fig = px.pie(values=list(catResult.values()), names=list(catResult.keys()), title=\"Répartition des catégories de trackers\")\n",
    "fig.show()"
   ]
  },
  {
   "cell_type": "markdown",
   "metadata": {},
   "source": []
  }
 ],
 "metadata": {
  "kernelspec": {
   "display_name": "Python 3 (ipykernel)",
   "language": "python",
   "name": "python3"
  },
  "language_info": {
   "codemirror_mode": {
    "name": "ipython",
    "version": 3
   },
   "file_extension": ".py",
   "mimetype": "text/x-python",
   "name": "python",
   "nbconvert_exporter": "python",
   "pygments_lexer": "ipython3",
   "version": "3.8.10"
  }
 },
 "nbformat": 4,
 "nbformat_minor": 2
}
